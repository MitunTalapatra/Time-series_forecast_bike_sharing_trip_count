{
 "cells": [
  {
   "cell_type": "markdown",
   "metadata": {},
   "source": [
    "## Goal: Data processing, feature engineering and region-wise data distribution/export"
   ]
  },
  {
   "cell_type": "markdown",
   "metadata": {},
   "source": [
    "#### - import necessary libraires"
   ]
  },
  {
   "cell_type": "code",
   "execution_count": 2,
   "metadata": {},
   "outputs": [],
   "source": [
    "import pandas as pd\n",
    "import numpy as np\n",
    "import matplotlib.pyplot as plt\n",
    "import seaborn as sns\n",
    "import datetime as dt\n",
    "import glob\n",
    "import zipfile"
   ]
  },
  {
   "cell_type": "markdown",
   "metadata": {},
   "source": [
    "#### - Data import from local download bucket"
   ]
  },
  {
   "cell_type": "code",
   "execution_count": null,
   "metadata": {},
   "outputs": [],
   "source": [
    "# create list of the zipfiles\n",
    "ziplist = glob.glob('./bucket/*.zip')\n",
    "ziplist = [fil.split('/')[-1] for fil in ziplist]\n",
    "ziplist"
   ]
  },
  {
   "cell_type": "code",
   "execution_count": null,
   "metadata": {},
   "outputs": [],
   "source": [
    "# extract csv files from all zip files\n",
    "path = './bucket/'\n",
    "for x in ziplist:\n",
    "    path = './bucket/' + x\n",
    "    handle = zipfile.ZipFile(path)\n",
    "    handle.extractall('./csv/' + path[-4])"
   ]
  },
  {
   "cell_type": "code",
   "execution_count": 4,
   "metadata": {},
   "outputs": [],
   "source": [
    "# specifying the path to csv files\n",
    "csv_path = './csv/'\n",
    "# csv files in the path\n",
    "files = glob.glob(csv_path + \"/*.csv\")"
   ]
  },
  {
   "cell_type": "code",
   "execution_count": null,
   "metadata": {},
   "outputs": [],
   "source": [
    "# defining an empty list to store \n",
    "# content\n",
    "df_all = pd.DataFrame()\n",
    "content = []\n",
    "\n",
    "# checking all the csv files in the \n",
    "# specified path\n",
    "for filename in files:\n",
    "    \n",
    "    # reading content of csv file\n",
    "    # content.append(filename)\n",
    "    df = pd.read_csv(filename, index_col=None)\n",
    "    content.append(df)"
   ]
  },
  {
   "cell_type": "code",
   "execution_count": 7,
   "metadata": {},
   "outputs": [],
   "source": [
    "# converting content to data frame\n",
    "df_all = pd.concat(content)"
   ]
  },
  {
   "cell_type": "code",
   "execution_count": null,
   "metadata": {},
   "outputs": [],
   "source": [
    "df_all.info()"
   ]
  },
  {
   "cell_type": "code",
   "execution_count": null,
   "metadata": {},
   "outputs": [],
   "source": [
    "#explore first few rows\n",
    "df_all.head(20)"
   ]
  },
  {
   "cell_type": "code",
   "execution_count": null,
   "metadata": {},
   "outputs": [],
   "source": [
    "#explore last few rows\n",
    "df_all.tail(20)"
   ]
  },
  {
   "cell_type": "code",
   "execution_count": null,
   "metadata": {},
   "outputs": [],
   "source": [
    "#check from which year data schema has changed\n",
    "df_all[df_all[''Start date''].isnan()]"
   ]
  },
  {
   "cell_type": "code",
   "execution_count": 9,
   "metadata": {},
   "outputs": [],
   "source": [
    "# It seems, column names are different from the year 2021. let's separate all column with different names\n",
    "df_2021 = df_all[['ride_id', 'rideable_type', 'started_at', 'ended_at',\n",
    "       'start_station_name', 'start_station_id', 'end_station_name',\n",
    "       'end_station_id',\n",
    "       'member_casual']]"
   ]
  },
  {
   "cell_type": "code",
   "execution_count": 10,
   "metadata": {},
   "outputs": [],
   "source": [
    "# Remove empty rows and rename column name\n",
    "df_2021 = df_2021.dropna(axis=0)"
   ]
  },
  {
   "cell_type": "code",
   "execution_count": 44,
   "metadata": {},
   "outputs": [
    {
     "data": {
      "text/plain": [
       "(4248529, 9)"
      ]
     },
     "execution_count": 44,
     "metadata": {},
     "output_type": "execute_result"
    }
   ],
   "source": [
    "df_2021.shape"
   ]
  },
  {
   "cell_type": "code",
   "execution_count": 11,
   "metadata": {
    "tags": []
   },
   "outputs": [],
   "source": [
    "df_2021.rename(columns={'started_at': 'Start date', \n",
    "                        'ended_at': 'End date', \n",
    "                        'start_station_name':'Start station', \n",
    "                        'start_station_id':'Start station number', \n",
    "                        'end_station_name':'End station', \n",
    "                        'end_station_id':'End station number', \n",
    "                        'member_casual':'Member type', \n",
    "                        'ride_id':'Bike number'\n",
    "                       }, inplace=True)"
   ]
  },
  {
   "cell_type": "code",
   "execution_count": 46,
   "metadata": {},
   "outputs": [
    {
     "data": {
      "text/plain": [
       "Index(['Bike number', 'rideable_type', 'Start date', 'End date',\n",
       "       'Start station', 'Start station number', 'End station',\n",
       "       'End station number', 'Member type'],\n",
       "      dtype='object')"
      ]
     },
     "execution_count": 46,
     "metadata": {},
     "output_type": "execute_result"
    }
   ],
   "source": [
    "df_2021.columns"
   ]
  },
  {
   "cell_type": "code",
   "execution_count": 12,
   "metadata": {},
   "outputs": [],
   "source": [
    "# Keep required columns only\n",
    "df_2021 = df_2021[['Bike number', 'Start date', 'End date',\n",
    "       'Start station', 'Start station number', 'End station number',\n",
    "       'End station']]"
   ]
  },
  {
   "cell_type": "code",
   "execution_count": 13,
   "metadata": {},
   "outputs": [],
   "source": [
    "# select required columns only from the data upto 2020\n",
    "df_mod = df_all[['Bike number', 'Start date', 'End date',\n",
    "       'Start station', 'Start station number', 'End station number',\n",
    "       'End station']]"
   ]
  },
  {
   "cell_type": "code",
   "execution_count": 14,
   "metadata": {},
   "outputs": [
    {
     "name": "stderr",
     "output_type": "stream",
     "text": [
      "/var/folders/5k/0rwnsb5j12zfcxbb1cv47y7h0000gn/T/ipykernel_97961/2811041073.py:1: FutureWarning: The frame.append method is deprecated and will be removed from pandas in a future version. Use pandas.concat instead.\n",
      "  df_mod2 = df_mod.append(df_2021)\n"
     ]
    }
   ],
   "source": [
    "# combine all \n",
    "df_mod2 = df_mod.append(df_2021)"
   ]
  },
  {
   "cell_type": "code",
   "execution_count": 15,
   "metadata": {},
   "outputs": [],
   "source": [
    "#df_full = df_mod2.dropna(axis=0)"
   ]
  },
  {
   "cell_type": "code",
   "execution_count": 16,
   "metadata": {
    "tags": []
   },
   "outputs": [
    {
     "data": {
      "text/html": [
       "<div>\n",
       "<style scoped>\n",
       "    .dataframe tbody tr th:only-of-type {\n",
       "        vertical-align: middle;\n",
       "    }\n",
       "\n",
       "    .dataframe tbody tr th {\n",
       "        vertical-align: top;\n",
       "    }\n",
       "\n",
       "    .dataframe thead th {\n",
       "        text-align: right;\n",
       "    }\n",
       "</style>\n",
       "<table border=\"1\" class=\"dataframe\">\n",
       "  <thead>\n",
       "    <tr style=\"text-align: right;\">\n",
       "      <th></th>\n",
       "      <th>Bike number</th>\n",
       "      <th>Start date</th>\n",
       "      <th>End date</th>\n",
       "      <th>Start station</th>\n",
       "      <th>Start station number</th>\n",
       "      <th>End station number</th>\n",
       "      <th>End station</th>\n",
       "    </tr>\n",
       "  </thead>\n",
       "  <tbody>\n",
       "    <tr>\n",
       "      <th>228337</th>\n",
       "      <td>D5302584D7352CDE</td>\n",
       "      <td>2020-07-14 10:13:39</td>\n",
       "      <td>2020-07-14 10:19:58</td>\n",
       "      <td>7th &amp; R St NW / Shaw Library</td>\n",
       "      <td>31245.0</td>\n",
       "      <td>31266.0</td>\n",
       "      <td>11th &amp; M St NW</td>\n",
       "    </tr>\n",
       "    <tr>\n",
       "      <th>228338</th>\n",
       "      <td>D620AFED5E667611</td>\n",
       "      <td>2020-07-14 12:05:36</td>\n",
       "      <td>2020-07-14 12:10:52</td>\n",
       "      <td>7th &amp; R St NW / Shaw Library</td>\n",
       "      <td>31245.0</td>\n",
       "      <td>31266.0</td>\n",
       "      <td>11th &amp; M St NW</td>\n",
       "    </tr>\n",
       "    <tr>\n",
       "      <th>228339</th>\n",
       "      <td>BAE31EADFDE50510</td>\n",
       "      <td>2020-07-17 12:25:57</td>\n",
       "      <td>2020-07-17 12:30:36</td>\n",
       "      <td>7th &amp; R St NW / Shaw Library</td>\n",
       "      <td>31245.0</td>\n",
       "      <td>31266.0</td>\n",
       "      <td>11th &amp; M St NW</td>\n",
       "    </tr>\n",
       "    <tr>\n",
       "      <th>228340</th>\n",
       "      <td>902C5F7EB021EA07</td>\n",
       "      <td>2020-07-06 17:41:39</td>\n",
       "      <td>2020-07-06 17:49:21</td>\n",
       "      <td>7th &amp; R St NW / Shaw Library</td>\n",
       "      <td>31245.0</td>\n",
       "      <td>31266.0</td>\n",
       "      <td>11th &amp; M St NW</td>\n",
       "    </tr>\n",
       "    <tr>\n",
       "      <th>228341</th>\n",
       "      <td>AB3CA5EDBFF37B0A</td>\n",
       "      <td>2020-07-21 19:02:57</td>\n",
       "      <td>2020-07-21 19:08:02</td>\n",
       "      <td>7th &amp; R St NW / Shaw Library</td>\n",
       "      <td>31245.0</td>\n",
       "      <td>31266.0</td>\n",
       "      <td>11th &amp; M St NW</td>\n",
       "    </tr>\n",
       "    <tr>\n",
       "      <th>228342</th>\n",
       "      <td>CD87E5A1A92EEEA5</td>\n",
       "      <td>2020-07-30 13:22:33</td>\n",
       "      <td>2020-07-30 13:26:04</td>\n",
       "      <td>7th &amp; R St NW / Shaw Library</td>\n",
       "      <td>31245.0</td>\n",
       "      <td>31266.0</td>\n",
       "      <td>11th &amp; M St NW</td>\n",
       "    </tr>\n",
       "    <tr>\n",
       "      <th>228343</th>\n",
       "      <td>5CC1323E63436169</td>\n",
       "      <td>2020-07-13 15:04:39</td>\n",
       "      <td>2020-07-13 15:21:04</td>\n",
       "      <td>3rd &amp; H St NE</td>\n",
       "      <td>31616.0</td>\n",
       "      <td>31266.0</td>\n",
       "      <td>11th &amp; M St NW</td>\n",
       "    </tr>\n",
       "    <tr>\n",
       "      <th>228344</th>\n",
       "      <td>4399B2F5C1F60345</td>\n",
       "      <td>2020-07-25 19:12:28</td>\n",
       "      <td>2020-07-25 19:21:19</td>\n",
       "      <td>3rd &amp; H St NE</td>\n",
       "      <td>31616.0</td>\n",
       "      <td>31266.0</td>\n",
       "      <td>11th &amp; M St NW</td>\n",
       "    </tr>\n",
       "    <tr>\n",
       "      <th>228345</th>\n",
       "      <td>BD2AA5E53A421B93</td>\n",
       "      <td>2020-07-26 20:12:36</td>\n",
       "      <td>2020-07-26 20:25:32</td>\n",
       "      <td>1st &amp; M St NE</td>\n",
       "      <td>31603.0</td>\n",
       "      <td>31266.0</td>\n",
       "      <td>11th &amp; M St NW</td>\n",
       "    </tr>\n",
       "    <tr>\n",
       "      <th>228346</th>\n",
       "      <td>C4CC80BCC5AAE9E6</td>\n",
       "      <td>2020-07-31 17:42:00</td>\n",
       "      <td>2020-07-31 17:51:26</td>\n",
       "      <td>1st &amp; M St NE</td>\n",
       "      <td>31603.0</td>\n",
       "      <td>31266.0</td>\n",
       "      <td>11th &amp; M St NW</td>\n",
       "    </tr>\n",
       "  </tbody>\n",
       "</table>\n",
       "</div>"
      ],
      "text/plain": [
       "             Bike number           Start date             End date  \\\n",
       "228337  D5302584D7352CDE  2020-07-14 10:13:39  2020-07-14 10:19:58   \n",
       "228338  D620AFED5E667611  2020-07-14 12:05:36  2020-07-14 12:10:52   \n",
       "228339  BAE31EADFDE50510  2020-07-17 12:25:57  2020-07-17 12:30:36   \n",
       "228340  902C5F7EB021EA07  2020-07-06 17:41:39  2020-07-06 17:49:21   \n",
       "228341  AB3CA5EDBFF37B0A  2020-07-21 19:02:57  2020-07-21 19:08:02   \n",
       "228342  CD87E5A1A92EEEA5  2020-07-30 13:22:33  2020-07-30 13:26:04   \n",
       "228343  5CC1323E63436169  2020-07-13 15:04:39  2020-07-13 15:21:04   \n",
       "228344  4399B2F5C1F60345  2020-07-25 19:12:28  2020-07-25 19:21:19   \n",
       "228345  BD2AA5E53A421B93  2020-07-26 20:12:36  2020-07-26 20:25:32   \n",
       "228346  C4CC80BCC5AAE9E6  2020-07-31 17:42:00  2020-07-31 17:51:26   \n",
       "\n",
       "                       Start station Start station number End station number  \\\n",
       "228337  7th & R St NW / Shaw Library              31245.0            31266.0   \n",
       "228338  7th & R St NW / Shaw Library              31245.0            31266.0   \n",
       "228339  7th & R St NW / Shaw Library              31245.0            31266.0   \n",
       "228340  7th & R St NW / Shaw Library              31245.0            31266.0   \n",
       "228341  7th & R St NW / Shaw Library              31245.0            31266.0   \n",
       "228342  7th & R St NW / Shaw Library              31245.0            31266.0   \n",
       "228343                 3rd & H St NE              31616.0            31266.0   \n",
       "228344                 3rd & H St NE              31616.0            31266.0   \n",
       "228345                 1st & M St NE              31603.0            31266.0   \n",
       "228346                 1st & M St NE              31603.0            31266.0   \n",
       "\n",
       "           End station  \n",
       "228337  11th & M St NW  \n",
       "228338  11th & M St NW  \n",
       "228339  11th & M St NW  \n",
       "228340  11th & M St NW  \n",
       "228341  11th & M St NW  \n",
       "228342  11th & M St NW  \n",
       "228343  11th & M St NW  \n",
       "228344  11th & M St NW  \n",
       "228345  11th & M St NW  \n",
       "228346  11th & M St NW  "
      ]
     },
     "execution_count": 16,
     "metadata": {},
     "output_type": "execute_result"
    }
   ],
   "source": [
    "df_full.tail(10)"
   ]
  },
  {
   "cell_type": "markdown",
   "metadata": {},
   "source": [
    "#### - join with region data"
   ]
  },
  {
   "cell_type": "code",
   "execution_count": 17,
   "metadata": {},
   "outputs": [],
   "source": [
    "# Import region-wise station information\n",
    "loc = pd.read_csv('./location_csv/Capital_Bike_Share_Locations.csv')"
   ]
  },
  {
   "cell_type": "code",
   "execution_count": 18,
   "metadata": {},
   "outputs": [
    {
     "data": {
      "text/plain": [
       "Index(['X', 'Y', 'OBJECTID', 'LATITUDE', 'LONGITUDE', 'NAME', 'STATION_TYPE',\n",
       "       'STATION_ID', 'STATION_STATUS', 'LAST_REPORTED', 'NUM_DOCKS_AVAILABLE',\n",
       "       'NUM_DOCKS_DISABLED', 'NUM_BIKES_AVAILABLE', 'NUM_EBIKES_AVAILABLE',\n",
       "       'NUM_BIKES_DISABLED', 'IS_INSTALLED', 'IS_RETURNING', 'IS_RENTING',\n",
       "       'HAS_KIOSK', 'IOS', 'ANDROID', 'ELECTRIC_BIKE_SURCHARGE_WAIVER',\n",
       "       'EIGHTD_HAS_KEY_DISPENSER', 'CAPACITY', 'RENTAL_METHODS', 'REGION_ID',\n",
       "       'GIS_LAST_MOD_DTTM', 'GIS_ID', 'REGION_NAME'],\n",
       "      dtype='object')"
      ]
     },
     "execution_count": 18,
     "metadata": {},
     "output_type": "execute_result"
    }
   ],
   "source": [
    "loc.columns"
   ]
  },
  {
   "cell_type": "code",
   "execution_count": 19,
   "metadata": {},
   "outputs": [],
   "source": [
    "# Select neccessary columns\n",
    "loc_df = loc[['LATITUDE', 'LONGITUDE', 'NAME', 'STATION_TYPE',\n",
    "       'STATION_ID', 'STATION_STATUS','CAPACITY', 'REGION_ID','REGION_NAME']]"
   ]
  },
  {
   "cell_type": "code",
   "execution_count": 20,
   "metadata": {},
   "outputs": [],
   "source": [
    "# join full dataset with region info\n",
    "df_full_region = df_full.join(loc_df.set_index('NAME'), on='Start station')"
   ]
  },
  {
   "cell_type": "code",
   "execution_count": 21,
   "metadata": {},
   "outputs": [],
   "source": [
    "# convert start and end date to datetime\n",
    "df_full_region['Start date'] = pd.to_datetime(df_full_region['Start date'])\n",
    "df_full_region['End date'] = pd.to_datetime(df_full_region['End date'])"
   ]
  },
  {
   "cell_type": "code",
   "execution_count": 22,
   "metadata": {},
   "outputs": [],
   "source": [
    "# minimize time-resolution to hour\n",
    "df_full_region['_datetime'] = df_full_region['Start date'].dt.strftime('%Y-%m-%d %H:00:00')"
   ]
  },
  {
   "cell_type": "code",
   "execution_count": 23,
   "metadata": {},
   "outputs": [],
   "source": [
    "# add date and year\n",
    "df_full_region['_date'] = df_full_region['Start date'].dt.strftime('%Y-%m-%d')\n",
    "df_full_region['_year'] = df_full_region['Start date'].dt.strftime('%Y')"
   ]
  },
  {
   "cell_type": "code",
   "execution_count": 69,
   "metadata": {},
   "outputs": [
    {
     "data": {
      "text/plain": [
       "REGION_NAME\n",
       "Alexandria, VA                     362503\n",
       "Arlington, VA                     1049941\n",
       "Fairfax, VA                         54209\n",
       "Falls Church, VA                    10858\n",
       "Montgomery County, MD (North)       70440\n",
       "Montgomery County, MD (South)      294993\n",
       "Prince George's County              36084\n",
       "Washington, DC                   26275382\n",
       "dtype: int64"
      ]
     },
     "execution_count": 69,
     "metadata": {},
     "output_type": "execute_result"
    }
   ],
   "source": [
    "# check the number of data points per region\n",
    "df_full_region.groupby('REGION_NAME').size()"
   ]
  },
  {
   "cell_type": "markdown",
   "metadata": {},
   "source": [
    "#### - region-wsie export to csv ( it could've done it a for loop)"
   ]
  },
  {
   "cell_type": "code",
   "execution_count": 25,
   "metadata": {},
   "outputs": [],
   "source": [
    "df_Alexandria = df_full_region[df_full_region['REGION_NAME'] == 'Alexandria, VA']\n",
    "df_Alexandria.to_csv('df_Alexandria.csv')"
   ]
  },
  {
   "cell_type": "code",
   "execution_count": 27,
   "metadata": {},
   "outputs": [],
   "source": [
    "df_Arlington = df_full_region[df_full_region['REGION_NAME'] == 'Arlington, VA']\n",
    "df_Arlington.to_csv('df_Arlington.csv')"
   ]
  },
  {
   "cell_type": "code",
   "execution_count": 29,
   "metadata": {},
   "outputs": [],
   "source": [
    "df_Fairfax = df_full_region[df_full_region['REGION_NAME'] == 'Fairfax, VA']\n",
    "df_Fairfax.to_csv('df_Fairfax.csv')"
   ]
  },
  {
   "cell_type": "code",
   "execution_count": 30,
   "metadata": {},
   "outputs": [],
   "source": [
    "df_Falls_Church = df_full_region[df_full_region['REGION_NAME'] == 'Falls Church, VA']\n",
    "df_Falls_Church.to_csv('df_Falls_Church.csv')"
   ]
  },
  {
   "cell_type": "code",
   "execution_count": 31,
   "metadata": {},
   "outputs": [],
   "source": [
    "df_Montgomery_N = df_full_region[df_full_region['REGION_NAME'] == 'Montgomery County, MD (North)']\n",
    "df_Montgomery_N.to_csv('df_Montgomery_N.csv')"
   ]
  },
  {
   "cell_type": "code",
   "execution_count": 32,
   "metadata": {},
   "outputs": [],
   "source": [
    "df_Montgomery_S = df_full_region[df_full_region['REGION_NAME'] == 'Montgomery County, MD (South)']\n",
    "df_Montgomery_S.to_csv('df_Montgomery_S.csv')"
   ]
  },
  {
   "cell_type": "code",
   "execution_count": 33,
   "metadata": {},
   "outputs": [],
   "source": [
    "df_Prince_George = df_full_region[df_full_region['REGION_NAME'] == \"Prince George's County\"]\n",
    "df_Prince_George.to_csv('df_Prince_George.csv')"
   ]
  },
  {
   "cell_type": "code",
   "execution_count": 34,
   "metadata": {},
   "outputs": [],
   "source": [
    "df_Washington = df_full_region[df_full_region['REGION_NAME'] == \"Washington, DC\"]\n",
    "df_Washington.to_csv('df_Washington.csv')"
   ]
  }
 ],
 "metadata": {
  "interpreter": {
   "hash": "6652835e876e75df03c44abb3e47c163bb5d9f66d51b6eba4a3aec0f6641e9fd"
  },
  "kernelspec": {
   "display_name": "Python 3 (ipykernel)",
   "language": "python",
   "name": "python3"
  },
  "language_info": {
   "codemirror_mode": {
    "name": "ipython",
    "version": 3
   },
   "file_extension": ".py",
   "mimetype": "text/x-python",
   "name": "python",
   "nbconvert_exporter": "python",
   "pygments_lexer": "ipython3",
   "version": "3.9.7"
  }
 },
 "nbformat": 4,
 "nbformat_minor": 4
}
