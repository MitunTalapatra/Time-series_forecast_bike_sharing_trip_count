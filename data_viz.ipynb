{
 "cells": [
  {
   "cell_type": "code",
   "execution_count": 85,
   "metadata": {},
   "outputs": [],
   "source": [
    "import pandas as pd\n",
    "import matplotlib.pyplot as plt\n",
    "#import streamlit as st \n",
    "import seaborn as sns\n",
    "import plotly.express as px\n",
    "import datetime"
   ]
  },
  {
   "cell_type": "code",
   "execution_count": null,
   "metadata": {},
   "outputs": [],
   "source": []
  },
  {
   "cell_type": "code",
   "execution_count": 3,
   "metadata": {},
   "outputs": [],
   "source": [
    "df = pd.read_csv('./location_csv/Capital_Bike_Share_Locations.csv')"
   ]
  },
  {
   "cell_type": "code",
   "execution_count": 4,
   "metadata": {},
   "outputs": [
    {
     "data": {
      "text/plain": [
       "Index(['X', 'Y', 'OBJECTID', 'LATITUDE', 'LONGITUDE', 'NAME', 'STATION_TYPE',\n",
       "       'STATION_ID', 'STATION_STATUS', 'LAST_REPORTED', 'NUM_DOCKS_AVAILABLE',\n",
       "       'NUM_DOCKS_DISABLED', 'NUM_BIKES_AVAILABLE', 'NUM_EBIKES_AVAILABLE',\n",
       "       'NUM_BIKES_DISABLED', 'IS_INSTALLED', 'IS_RETURNING', 'IS_RENTING',\n",
       "       'HAS_KIOSK', 'IOS', 'ANDROID', 'ELECTRIC_BIKE_SURCHARGE_WAIVER',\n",
       "       'EIGHTD_HAS_KEY_DISPENSER', 'CAPACITY', 'RENTAL_METHODS', 'REGION_ID',\n",
       "       'GIS_LAST_MOD_DTTM', 'GIS_ID', 'REGION_NAME'],\n",
       "      dtype='object')"
      ]
     },
     "execution_count": 4,
     "metadata": {},
     "output_type": "execute_result"
    }
   ],
   "source": [
    "df.columns"
   ]
  },
  {
   "cell_type": "code",
   "execution_count": 60,
   "metadata": {},
   "outputs": [
    {
     "data": {
      "application/vnd.plotly.v1+json": {
       "config": {
        "plotlyServerURL": "https://plot.ly"
       },
       "data": [
        {
         "customdata": [
          [
           15,
           0
          ],
          [
           17,
           0
          ],
          [
           16,
           0
          ],
          [
           12,
           1
          ],
          [
           19,
           0
          ],
          [
           16,
           0
          ],
          [
           19,
           0
          ],
          [
           12,
           0
          ],
          [
           11,
           0
          ],
          [
           17,
           0
          ],
          [
           12,
           1
          ],
          [
           15,
           0
          ],
          [
           15,
           0
          ],
          [
           11,
           0
          ],
          [
           19,
           0
          ],
          [
           15,
           1
          ],
          [
           11,
           1
          ],
          [
           23,
           0
          ],
          [
           11,
           0
          ],
          [
           15,
           0
          ],
          [
           11,
           0
          ],
          [
           11,
           1
          ],
          [
           17,
           0
          ],
          [
           11,
           0
          ],
          [
           17,
           0
          ],
          [
           11,
           0
          ],
          [
           11,
           1
          ],
          [
           12,
           1
          ],
          [
           15,
           0
          ],
          [
           11,
           0
          ],
          [
           11,
           0
          ],
          [
           17,
           0
          ],
          [
           11,
           0
          ],
          [
           15,
           0
          ],
          [
           15,
           1
          ],
          [
           11,
           0
          ],
          [
           15,
           0
          ],
          [
           19,
           0
          ],
          [
           15,
           0
          ],
          [
           15,
           0
          ],
          [
           15,
           0
          ],
          [
           21,
           1
          ],
          [
           15,
           0
          ],
          [
           15,
           0
          ],
          [
           15,
           0
          ],
          [
           15,
           1
          ],
          [
           15,
           0
          ],
          [
           11,
           0
          ],
          [
           11,
           2
          ],
          [
           11,
           0
          ],
          [
           15,
           0
          ],
          [
           11,
           0
          ],
          [
           15,
           0
          ],
          [
           11,
           0
          ],
          [
           11,
           1
          ],
          [
           11,
           0
          ],
          [
           11,
           0
          ],
          [
           15,
           0
          ],
          [
           15,
           0
          ],
          [
           27,
           0
          ],
          [
           19,
           1
          ],
          [
           15,
           0
          ],
          [
           15,
           1
          ],
          [
           12,
           0
          ],
          [
           15,
           1
          ],
          [
           12,
           0
          ],
          [
           15,
           0
          ],
          [
           21,
           0
          ],
          [
           11,
           0
          ],
          [
           11,
           0
          ],
          [
           15,
           0
          ],
          [
           11,
           0
          ],
          [
           17,
           0
          ],
          [
           19,
           0
          ],
          [
           11,
           0
          ],
          [
           15,
           0
          ],
          [
           19,
           0
          ],
          [
           15,
           0
          ],
          [
           15,
           0
          ],
          [
           15,
           0
          ],
          [
           17,
           0
          ],
          [
           16,
           0
          ],
          [
           11,
           0
          ],
          [
           15,
           0
          ],
          [
           21,
           0
          ],
          [
           15,
           0
          ],
          [
           11,
           0
          ],
          [
           12,
           0
          ],
          [
           12,
           1
          ],
          [
           15,
           0
          ],
          [
           11,
           0
          ],
          [
           15,
           0
          ],
          [
           19,
           2
          ],
          [
           11,
           1
          ],
          [
           19,
           1
          ],
          [
           15,
           0
          ],
          [
           15,
           1
          ],
          [
           15,
           0
          ],
          [
           15,
           0
          ],
          [
           15,
           0
          ],
          [
           15,
           0
          ],
          [
           15,
           0
          ],
          [
           12,
           0
          ]
         ],
         "hovertemplate": "<b>%{hovertext}</b><br><br>REGION_NAME=Arlington, VA<br>CAPACITY=%{customdata[0]}<br>LATITUDE=%{lat}<br>LONGITUDE=%{lon}<br>NUM_EBIKES_AVAILABLE=%{customdata[1]}<extra></extra>",
         "hovertext": [
          "Eads St & 15th St S",
          "Crystal Dr & 20th St S",
          "Crystal Dr & 15th St S",
          "Aurora Hills Cmty Ctr / 18th St & S Hayes St",
          "Pentagon City Metro / 12th St & S Hayes St",
          "Army Navy Dr & S Joyce St",
          "Crystal City Metro / 18th St & S Bell St",
          "Crystal Dr & 27th St S",
          "S Glebe Rd & Potomac Ave",
          "Crystal Dr & 23rd St S",
          "Clark St & 26th St S",
          "Eads St & 22nd St S",
          "George Mason Dr & Wilson Blvd",
          "N Veitch St & Key Blvd",
          "Langston Blvd & N Adams St",
          "15th St & N Scott St",
          "Washington Blvd & 7th St N",
          "Ballston Metro / Stuart St & 9th St N",
          "Glebe Rd & 11th St N",
          "Wilson Blvd & N Quincy St",
          "GMU / Fairfax Dr & Kenmore St",
          "Kenmore St & 24th St S",
          "Roosevelt Island",
          "S George Mason & Four Mile Run Dr",
          "Gravelly Point",
          "Pershing Dr & Wayne St",
          "Columbia Pike & S Orme St",
          "Columbia Pike & S Walter Reed Dr",
          "Arlington Mill Cmty Center / Columbia Pike & S Dinwiddie St",
          "Pershing Dr & N George Mason Dr",
          "Arlington Blvd & Fillmore St",
          "Eads St & 12th St S",
          "31st St & S Woodrow St",
          "Washington Blvd & Walter Reed Dr ",
          "TJ Cmty Ctr / 2nd St & S Old Glebe Rd",
          "Rolfe St & 9th St S",
          "S Randolph St & Campbell Ave",
          "Iwo Jima Memorial / Meade & 14th St N",
          "Langston Blvd & N Cleveland St",
          "Arlington Blvd & S George Mason Dr",
          "Langston Blvd & N Scott St",
          "Court House Metro / 15th St & N Uhle St",
          "Long Bridge Park / Long Bridge Dr & 6th St S",
          "Joyce St & 16th St S",
          "Langston Blvd & N Monroe St",
          "21st St & N Pierce St",
          "Langston Blvd & N Kirkwood St",
          "Utah St & 11th St N",
          "Barton St & 10th St N",
          "Arlington Blvd & N Queen St",
          "Columbia Pike & S Courthouse Rd",
          "Wakefield High School",
          "28th St & S Meade St",
          "Troy St & 26th St S",
          "Four Mile Run Dr & S Shirlington Rd",
          "Columbia Pike & S Oakland St",
          "Four Mile Run Dr & S Walter Reed Dr",
          "S Arlington Mill Dr & Campbell Ave",
          "Potomac Ave & 35th St S",
          "Lynn St & 19th St North",
          "Wilson Blvd & Ft Myer Dr",
          "Clarendon Blvd & Pierce St",
          "Wilson Blvd & N Uhle St",
          "Rhodes St & 16th St N",
          "Wilson Blvd & N Edgewood St",
          "Wilson Blvd & N Franklin Rd",
          "Clarendon Blvd & N Fillmore St",
          "Clarendon Metro / Wilson Blvd & N Highland St",
          "N Quincy St & Glebe Rd",
          "Barcroft Community Center",
          "N Veitch St & 20th St N",
          "Fairfax Dr & Wilson Blvd",
          "Wilson Blvd & N Quinn St",
          "Virginia Square Metro / Monroe St & 9th St N",
          "Central Library / Quincy St & 10th St N",
          "Washington Blvd & 10th St N",
          "National Airport",
          "Fern St & Army Navy Dr",
          "Arlington Blvd & Ft Myer Dr",
          "23rd St S & Hayes St",
          "Wilson Blvd & N Oak St",
          "Arlington Blvd & Fairfax Dr",
          "S Clark St & 33rd St",
          "Columbia Pike & S Greenbrier St",
          "Rosslyn Metro / Wilson Blvd & N Moore St",
          "W&OD Trail & Langston Blvd",
          "Columbia Pike & S Scott St/12th St S",
          "Long Bridge Aquatic Center",
          "8th Rd & S Frederick St",
          "Wilson Blvd & N Illinois St ",
          "Army Navy Dr & S Nash St",
          "Walter Reed Dr & 8th St S",
          "Langston Blvd & N Woodstock St",
          "Washington Blvd & N Frederick St",
          "East Falls Church Metro / Sycamore St & 19th St N",
          "Kennebec St & 11th St N",
          "N Lynn St & Fairfax Dr",
          "Carlin Springs Rd & N Thomas St",
          "Washington-Liberty High School / N Stafford St & Generals Way",
          "Westover Library / Washington Blvd & N McKinley Rd",
          "Columbia Pike & George Mason Dr",
          "Wilson Blvd & N Troy St",
          "Wilson Blvd. & N. Vermont St."
         ],
         "lat": [
          38.858971,
          38.856425,
          38.861056,
          38.857866,
          38.862303,
          38.863314,
          38.857785,
          38.848466,
          38.8426,
          38.852929,
          38.850688,
          38.854381,
          38.87887,
          38.893237,
          38.89593,
          38.89054,
          38.88081,
          38.881044,
          38.883921,
          38.880012,
          38.884616,
          38.848454,
          38.896553,
          38.852248,
          38.865029,
          38.880705,
          38.867262,
          38.862478,
          38.856319,
          38.871822,
          38.873755,
          38.862753,
          38.837846,
          38.873219,
          38.869418,
          38.866471,
          38.840654,
          38.88992,
          38.894941,
          38.869442,
          38.897612,
          38.890612,
          38.865553,
          38.859254,
          38.896456,
          38.898984,
          38.895377,
          38.883669,
          38.884961,
          38.889365,
          38.863833,
          38.847129,
          38.846222,
          38.847977,
          38.8444,
          38.860789,
          38.84736,
          38.84232,
          38.844015,
          38.897315,
          38.8946,
          38.893438,
          38.891696,
          38.892164,
          38.889396,
          38.8904,
          38.8881,
          38.88701,
          38.876393,
          38.850337,
          38.896923,
          38.885801,
          38.893993,
          38.882788,
          38.88397,
          38.884734,
          38.852903,
          38.864838,
          38.890863,
          38.853002,
          38.895068,
          38.886256,
          38.845028,
          38.854019,
          38.896087,
          38.88715,
          38.863556,
          38.870561,
          38.857049,
          38.876528,
          38.86215,
          38.86612,
          38.898301,
          38.884829,
          38.885321,
          38.880992,
          38.89386,
          38.876695,
          38.888282,
          38.886048,
          38.859306,
          38.892556,
          38.879477
         ],
         "legendgroup": "Arlington, VA",
         "lon": [
          -77.05323,
          -77.049232,
          -77.049417,
          -77.05949,
          -77.059936,
          -77.063416,
          -77.051698,
          -77.051514,
          -77.0502,
          -77.049723,
          -77.05152,
          -77.053412,
          -77.1207,
          -77.086063,
          -77.089006,
          -77.08095,
          -77.090792,
          -77.111768,
          -77.116817,
          -77.107854,
          -77.10108,
          -77.084918,
          -77.06714,
          -77.105022,
          -77.039511,
          -77.08596,
          -77.072315,
          -77.086599,
          -77.11153,
          -77.107906,
          -77.089233,
          -77.05428,
          -77.093478,
          -77.082104,
          -77.095596,
          -77.076131,
          -77.088659,
          -77.071301,
          -77.09169,
          -77.104503,
          -77.080851,
          -77.084801,
          -77.05003,
          -77.063275,
          -77.104562,
          -77.078317,
          -77.09713,
          -77.113905,
          -77.08777,
          -77.077294,
          -77.080319,
          -77.11255,
          -77.069275,
          -77.075104,
          -77.085931,
          -77.09586,
          -77.095431,
          -77.089555,
          -77.050537,
          -77.070993,
          -77.072305,
          -77.076389,
          -77.0846,
          -77.079375,
          -77.091862,
          -77.0889,
          -77.09308,
          -77.095257,
          -77.107735,
          -77.100989,
          -77.086502,
          -77.097745,
          -77.07857,
          -77.103148,
          -77.10783,
          -77.093485,
          -77.045916,
          -77.056873,
          -77.074893,
          -77.059496,
          -77.07386,
          -77.084262,
          -77.051956,
          -77.118106,
          -77.071452,
          -77.16212,
          -77.077201,
          -77.044095,
          -77.116339,
          -77.12712,
          -77.068121,
          -77.08787,
          -77.118009,
          -77.127671,
          -77.156427,
          -77.135271,
          -77.070862,
          -77.112982,
          -77.111066,
          -77.142317,
          -77.102019,
          -77.082089,
          -77.114563
         ],
         "marker": {
          "color": "#636efa",
          "size": [
           15,
           17,
           16,
           12,
           19,
           16,
           19,
           12,
           11,
           17,
           12,
           15,
           15,
           11,
           19,
           15,
           11,
           23,
           11,
           15,
           11,
           11,
           17,
           11,
           17,
           11,
           11,
           12,
           15,
           11,
           11,
           17,
           11,
           15,
           15,
           11,
           15,
           19,
           15,
           15,
           15,
           21,
           15,
           15,
           15,
           15,
           15,
           11,
           11,
           11,
           15,
           11,
           15,
           11,
           11,
           11,
           11,
           15,
           15,
           27,
           19,
           15,
           15,
           12,
           15,
           12,
           15,
           21,
           11,
           11,
           15,
           11,
           17,
           19,
           11,
           15,
           19,
           15,
           15,
           15,
           17,
           16,
           11,
           15,
           21,
           15,
           11,
           12,
           12,
           15,
           11,
           15,
           19,
           11,
           19,
           15,
           15,
           15,
           15,
           15,
           15,
           15,
           12
          ],
          "sizemode": "area",
          "sizeref": 0.55
         },
         "mode": "markers",
         "name": "Arlington, VA",
         "showlegend": true,
         "subplot": "mapbox",
         "type": "scattermapbox"
        },
        {
         "customdata": [
          [
           15,
           1
          ],
          [
           31,
           0
          ],
          [
           39,
           0
          ],
          [
           15,
           1
          ],
          [
           19,
           0
          ],
          [
           23,
           0
          ],
          [
           19,
           0
          ],
          [
           23,
           0
          ],
          [
           19,
           0
          ],
          [
           19,
           1
          ],
          [
           23,
           0
          ],
          [
           15,
           0
          ],
          [
           35,
           1
          ],
          [
           19,
           0
          ],
          [
           19,
           0
          ],
          [
           11,
           0
          ],
          [
           19,
           0
          ],
          [
           15,
           1
          ],
          [
           35,
           0
          ],
          [
           19,
           5
          ],
          [
           11,
           0
          ],
          [
           11,
           0
          ],
          [
           15,
           0
          ],
          [
           11,
           0
          ],
          [
           19,
           0
          ],
          [
           11,
           0
          ],
          [
           11,
           1
          ],
          [
           15,
           0
          ],
          [
           15,
           0
          ],
          [
           15,
           0
          ],
          [
           39,
           0
          ],
          [
           15,
           1
          ],
          [
           15,
           1
          ],
          [
           17,
           0
          ],
          [
           45,
           3
          ],
          [
           15,
           1
          ],
          [
           19,
           0
          ],
          [
           23,
           0
          ],
          [
           15,
           0
          ],
          [
           11,
           0
          ],
          [
           15,
           1
          ],
          [
           15,
           0
          ],
          [
           35,
           0
          ],
          [
           19,
           0
          ],
          [
           23,
           0
          ],
          [
           15,
           2
          ],
          [
           19,
           0
          ],
          [
           19,
           2
          ],
          [
           19,
           1
          ],
          [
           19,
           2
          ],
          [
           23,
           0
          ],
          [
           27,
           0
          ],
          [
           19,
           1
          ],
          [
           23,
           2
          ],
          [
           19,
           0
          ],
          [
           15,
           0
          ],
          [
           11,
           0
          ],
          [
           15,
           0
          ],
          [
           11,
           0
          ],
          [
           23,
           0
          ],
          [
           15,
           0
          ],
          [
           19,
           0
          ],
          [
           15,
           0
          ],
          [
           11,
           1
          ],
          [
           11,
           0
          ],
          [
           15,
           0
          ],
          [
           31,
           0
          ],
          [
           15,
           0
          ],
          [
           15,
           1
          ],
          [
           15,
           0
          ],
          [
           19,
           0
          ],
          [
           27,
           1
          ],
          [
           31,
           1
          ],
          [
           15,
           1
          ],
          [
           15,
           4
          ],
          [
           15,
           0
          ],
          [
           19,
           0
          ],
          [
           19,
           0
          ],
          [
           15,
           0
          ],
          [
           19,
           0
          ],
          [
           19,
           0
          ],
          [
           11,
           3
          ],
          [
           15,
           0
          ],
          [
           17,
           0
          ],
          [
           19,
           1
          ],
          [
           15,
           0
          ],
          [
           15,
           0
          ],
          [
           19,
           0
          ],
          [
           19,
           0
          ],
          [
           19,
           0
          ],
          [
           19,
           0
          ],
          [
           23,
           0
          ],
          [
           19,
           0
          ],
          [
           19,
           1
          ],
          [
           23,
           1
          ],
          [
           31,
           3
          ],
          [
           19,
           0
          ],
          [
           23,
           1
          ],
          [
           23,
           0
          ],
          [
           15,
           0
          ],
          [
           15,
           0
          ],
          [
           15,
           2
          ],
          [
           25,
           0
          ],
          [
           15,
           0
          ],
          [
           19,
           0
          ],
          [
           15,
           0
          ],
          [
           15,
           0
          ],
          [
           23,
           1
          ],
          [
           23,
           0
          ],
          [
           15,
           0
          ],
          [
           19,
           0
          ],
          [
           19,
           0
          ],
          [
           19,
           1
          ],
          [
           19,
           0
          ],
          [
           15,
           0
          ],
          [
           15,
           0
          ],
          [
           11,
           0
          ],
          [
           15,
           0
          ],
          [
           19,
           0
          ],
          [
           11,
           0
          ],
          [
           11,
           0
          ],
          [
           11,
           1
          ],
          [
           14,
           2
          ],
          [
           23,
           0
          ],
          [
           11,
           0
          ],
          [
           39,
           0
          ],
          [
           19,
           1
          ],
          [
           11,
           1
          ],
          [
           15,
           5
          ],
          [
           15,
           2
          ],
          [
           31,
           0
          ],
          [
           19,
           1
          ],
          [
           19,
           1
          ],
          [
           27,
           0
          ],
          [
           15,
           0
          ],
          [
           27,
           0
          ],
          [
           31,
           1
          ],
          [
           19,
           1
          ],
          [
           23,
           1
          ],
          [
           15,
           0
          ],
          [
           19,
           2
          ],
          [
           23,
           0
          ],
          [
           19,
           0
          ],
          [
           23,
           0
          ],
          [
           11,
           0
          ],
          [
           23,
           1
          ],
          [
           33,
           0
          ],
          [
           19,
           0
          ],
          [
           23,
           0
          ],
          [
           23,
           0
          ],
          [
           19,
           1
          ],
          [
           15,
           1
          ],
          [
           11,
           0
          ],
          [
           25,
           0
          ],
          [
           11,
           0
          ],
          [
           31,
           0
          ],
          [
           23,
           0
          ],
          [
           39,
           1
          ],
          [
           25,
           1
          ],
          [
           27,
           0
          ],
          [
           35,
           0
          ],
          [
           19,
           0
          ],
          [
           15,
           1
          ],
          [
           35,
           1
          ],
          [
           23,
           4
          ],
          [
           15,
           0
          ],
          [
           55,
           0
          ],
          [
           23,
           0
          ],
          [
           19,
           2
          ],
          [
           15,
           0
          ],
          [
           23,
           1
          ],
          [
           31,
           0
          ],
          [
           15,
           1
          ],
          [
           19,
           1
          ],
          [
           15,
           0
          ],
          [
           15,
           0
          ],
          [
           19,
           0
          ],
          [
           23,
           0
          ],
          [
           33,
           0
          ],
          [
           27,
           0
          ],
          [
           39,
           1
          ],
          [
           19,
           1
          ],
          [
           19,
           0
          ],
          [
           15,
           0
          ],
          [
           15,
           0
          ],
          [
           15,
           0
          ],
          [
           27,
           0
          ],
          [
           19,
           0
          ],
          [
           19,
           0
          ],
          [
           15,
           0
          ],
          [
           15,
           2
          ],
          [
           19,
           4
          ],
          [
           15,
           0
          ],
          [
           15,
           0
          ],
          [
           23,
           0
          ],
          [
           15,
           0
          ],
          [
           19,
           0
          ],
          [
           15,
           1
          ],
          [
           23,
           0
          ],
          [
           19,
           0
          ],
          [
           19,
           0
          ],
          [
           19,
           0
          ],
          [
           19,
           1
          ],
          [
           19,
           1
          ],
          [
           19,
           3
          ],
          [
           19,
           0
          ],
          [
           19,
           0
          ],
          [
           19,
           0
          ],
          [
           19,
           0
          ],
          [
           23,
           0
          ],
          [
           19,
           0
          ],
          [
           19,
           0
          ],
          [
           19,
           4
          ],
          [
           19,
           0
          ],
          [
           19,
           1
          ],
          [
           19,
           0
          ],
          [
           19,
           0
          ],
          [
           19,
           1
          ],
          [
           19,
           0
          ],
          [
           19,
           0
          ],
          [
           19,
           0
          ],
          [
           19,
           0
          ],
          [
           19,
           2
          ],
          [
           23,
           0
          ],
          [
           23,
           0
          ],
          [
           19,
           0
          ],
          [
           19,
           1
          ],
          [
           19,
           1
          ],
          [
           19,
           0
          ],
          [
           23,
           2
          ],
          [
           19,
           0
          ],
          [
           19,
           0
          ],
          [
           19,
           0
          ],
          [
           19,
           0
          ],
          [
           19,
           2
          ],
          [
           15,
           0
          ],
          [
           19,
           3
          ],
          [
           19,
           0
          ],
          [
           19,
           0
          ],
          [
           23,
           0
          ],
          [
           19,
           0
          ],
          [
           23,
           1
          ],
          [
           19,
           0
          ],
          [
           23,
           0
          ],
          [
           31,
           2
          ],
          [
           19,
           0
          ],
          [
           19,
           2
          ],
          [
           23,
           0
          ],
          [
           31,
           0
          ],
          [
           25,
           2
          ],
          [
           25,
           1
          ],
          [
           19,
           0
          ],
          [
           15,
           0
          ],
          [
           23,
           1
          ],
          [
           19,
           3
          ],
          [
           23,
           1
          ],
          [
           19,
           0
          ],
          [
           15,
           3
          ],
          [
           19,
           1
          ],
          [
           19,
           0
          ],
          [
           15,
           0
          ],
          [
           19,
           0
          ],
          [
           19,
           0
          ],
          [
           19,
           0
          ],
          [
           19,
           0
          ],
          [
           19,
           3
          ],
          [
           23,
           2
          ],
          [
           19,
           1
          ],
          [
           19,
           1
          ],
          [
           19,
           0
          ],
          [
           19,
           0
          ],
          [
           19,
           0
          ],
          [
           19,
           0
          ],
          [
           19,
           1
          ],
          [
           19,
           0
          ],
          [
           19,
           0
          ],
          [
           11,
           1
          ],
          [
           19,
           0
          ],
          [
           19,
           1
          ],
          [
           15,
           0
          ],
          [
           19,
           0
          ],
          [
           15,
           0
          ],
          [
           19,
           2
          ],
          [
           15,
           0
          ],
          [
           19,
           0
          ],
          [
           19,
           0
          ],
          [
           19,
           0
          ],
          [
           19,
           0
          ],
          [
           23,
           0
          ],
          [
           19,
           0
          ],
          [
           19,
           0
          ],
          [
           19,
           0
          ],
          [
           19,
           1
          ],
          [
           19,
           0
          ],
          [
           19,
           1
          ],
          [
           19,
           0
          ],
          [
           19,
           0
          ],
          [
           19,
           0
          ],
          [
           19,
           0
          ],
          [
           19,
           0
          ],
          [
           33,
           0
          ],
          [
           19,
           0
          ],
          [
           19,
           0
          ],
          [
           23,
           0
          ],
          [
           19,
           0
          ],
          [
           19,
           0
          ],
          [
           19,
           0
          ],
          [
           19,
           1
          ],
          [
           19,
           1
          ],
          [
           19,
           0
          ],
          [
           19,
           0
          ],
          [
           19,
           1
          ],
          [
           19,
           0
          ],
          [
           15,
           0
          ],
          [
           19,
           0
          ],
          [
           19,
           0
          ],
          [
           27,
           0
          ],
          [
           19,
           0
          ],
          [
           15,
           0
          ],
          [
           15,
           0
          ],
          [
           19,
           0
          ],
          [
           19,
           0
          ],
          [
           19,
           1
          ],
          [
           19,
           0
          ],
          [
           19,
           0
          ],
          [
           19,
           4
          ],
          [
           17,
           0
          ],
          [
           19,
           0
          ],
          [
           17,
           0
          ],
          [
           19,
           0
          ],
          [
           19,
           0
          ],
          [
           17,
           1
          ],
          [
           19,
           0
          ],
          [
           19,
           0
          ],
          [
           15,
           0
          ]
         ],
         "hovertemplate": "<b>%{hovertext}</b><br><br>REGION_NAME=Washington, DC<br>CAPACITY=%{customdata[0]}<br>LATITUDE=%{lat}<br>LONGITUDE=%{lon}<br>NUM_EBIKES_AVAILABLE=%{customdata[1]}<extra></extra>",
         "hovertext": [
          "19th St & Pennsylvania Ave NW",
          "14th & V St NW",
          "11th & Kenyon St NW",
          "Adams Mill & Columbia Rd NW",
          "14th & Harvard St NW",
          "Calvert & Biltmore St NW",
          "Lamont & Mt Pleasant NW",
          "4th & M St SW",
          "15th & P St NW",
          "14th & R St NW",
          "14th & Rhode Island Ave NW",
          "20th & E St NW",
          "21st & I St NW",
          "Georgia & New Hampshire Ave NW",
          "14th St & Spring Rd NW",
          "John McCormack Dr & Michigan Ave NE",
          "5th & K St NW",
          "19th & East Capitol St SE",
          "Park Rd & Holmead Pl NW",
          "Good Hope & Naylor Rd SE",
          "Connecticut Ave & Macomb St NW / Cleveland Park",
          "Randle Circle & Minnesota Ave SE",
          "Minnesota Ave Metro/DOES",
          "Nannie Helen Burroughs & Minnesota Ave NE",
          "Anacostia Metro",
          "Good Hope Rd & MLK Ave SE",
          "19th & E Street NW",
          "4th & W St NE",
          "10th & U St NW",
          "Georgia Ave & Fairmont St NW",
          "1st & N St SE",
          "20th St & Florida Ave NW",
          "7th & T St NW",
          "M St & New Jersey Ave SE",
          "Massachusetts Ave & Dupont Circle NW",
          "1st & M St NE",
          "New Hampshire Ave & Ward Pl NW",
          "17th & K St NW",
          "3rd & H St NW",
          "3rd & D St SE",
          "Potomac & Pennsylvania Ave SE",
          "13th & E St SE",
          "Smithsonian-National Mall / Jefferson Dr & 12th St SW",
          "6th St & Indiana Ave NW",
          "Jefferson Memorial",
          "Good Hope Rd & 14th St SE",
          "Gallaudet / 8th St & Florida Ave NE",
          "20th & L St NW",
          "12th & L St NW",
          "21st St & Pennsylvania Ave NW",
          "19th & K St NW",
          "15th & K St NW",
          "Wisconsin Ave & O St NW",
          "Connecticut & Nebraska Ave NW",
          "17th St & Massachusetts Ave NW",
          "15th & Euclid St NW",
          "8th & East Capitol St NE",
          "New Jersey Ave & R St NW",
          "15th & East Capitol St NE",
          "8th & F St NE",
          "18th St & Rhode Island Ave NE",
          "15th & F St NE",
          "12th & Irving St NE",
          "Alabama & MLK Ave SE",
          "Pleasant St & MLK Ave SE",
          "Neal St & Trinidad Ave NE",
          "12th & U St NW",
          "3rd St & Pennsylvania Ave SE",
          "8th & D St NW",
          "3rd & Elm St NW",
          "Rhode Island Ave & V St NE",
          "Constitution Ave & 2nd St NW/DOL",
          "Washington & Independence Ave SW/HHS",
          "Independence Ave & L'Enfant Plaza SW/DOE",
          "Hamlin & 7th St NE",
          "14th & Belmont St NW",
          "3rd & Tingey St SE",
          "10th & Florida Ave NW",
          "Potomac Ave & 8th St SE",
          "Calvert St & Woodley Pl NW",
          "New Jersey Ave & N St NW/Dunbar HS",
          "Nannie Helen Burroughs Ave & 49th St NE",
          "Deanwood Rec Center",
          "Hains Point/Buckeye & Ohio Dr SW",
          "North Capitol St & G Pl NE",
          "Connecticut Ave & Tilden St NW",
          "1st & H St NW",
          "Fort Totten Metro",
          "Takoma Metro",
          "Rhode Island Ave Metro",
          "34th & Water St NW",
          "10th & G St NW",
          "New Hampshire Ave & 24th St NW",
          "Connecticut Ave & McKinley St NW",
          "15th & L St NW",
          "17th & G St NW",
          "18th & R St NW",
          "Union Market",
          "19th & G St NW",
          "24th & N St NW",
          "10th & E St NW",
          "22nd & I St NW / Foggy Bottom",
          "Lincoln Memorial",
          "20th St & Virginia Ave NW",
          "5th St & Massachusetts Ave NW",
          "39th & Veazey St NW",
          "Fessenden St & Wisconsin Ave NW",
          "3rd & M St NE",
          "18th St & Wyoming Ave NW",
          "5th & Kennedy St NW",
          "Georgia Ave & Emerson St NW",
          "14th & Upshur St NW",
          "14th St & Colorado Ave NW",
          "17th & Corcoran St NW",
          "Van Ness Metro / UDC",
          "Florida Ave & R St NW",
          "8th & Eye St SE / Barracks Row",
          "Ward Circle / American University",
          "Wisconsin Ave & Newark St NW",
          "14th St Heights / 14th & Crittenden St NW",
          "Anacostia Library",
          "Pennsylvania & Minnesota Ave SE",
          "Eastern Market / 7th & North Carolina Ave SE",
          "14th St & New York Ave NW",
          "Benning Branch Library",
          "USDA / 12th & C St SW",
          "Georgetown Harbor / 30th St NW",
          "12th & Newton St NE",
          "US Dept of State / Virginia Ave & 21st St NW",
          "L'Enfant Plaza / 7th & C St SW",
          "10th St & Constitution Ave NW",
          "Kennedy Center",
          "Eastern Market Metro / Pennsylvania Ave & 8th St SE",
          "18th & M St NW",
          "Tenleytown / Wisconsin Ave & Albemarle St NW",
          "13th & H St NE",
          "5th & F St NW",
          "New York Ave & 15th St NW",
          "Convention Center / 7th & M St NW",
          "Harvard St & Adams Mill Rd NW",
          "18th & L St NW",
          "C & O Canal & Wisconsin Ave NW",
          "Maine Ave & 7th St SW",
          "D St & Maryland Ave NE",
          "34th St & Wisconsin Ave NW",
          "13th St & New York Ave NW",
          "8th & H St NW",
          "10th & Monroe St NE",
          "Eckington Pl & Q St NE",
          "6th & H St NE",
          "3rd & H St NE",
          "Bladensburg Rd & Benning Rd NE",
          "4th & East Capitol St NE",
          "Lincoln Park / 13th & East Capitol St NE ",
          "Branch & Pennsylvania Ave SE",
          "13th & D St NE",
          "New Hampshire Ave & T St NW",
          "Metro Center / 12th & G St NW",
          "14th & D St NW / Ronald Reagan Building",
          "7th & F St NW / National Portrait Gallery",
          "17th & K St NW / Farragut Square",
          "20th & O St NW / Dupont South",
          "4th & D St NW / Judiciary Square",
          "19th St & Constitution Ave NW",
          "37th & O St NW / Georgetown University",
          "25th St & Pennsylvania Ave NW",
          "Columbus Circle / Union Station",
          "North Capitol St & F St NW",
          "11th & M St NW",
          "36th & Calvert St NW / Glover Park",
          "14th & G St NW",
          "Ohio Dr & West Basin Dr SW / MLK & FDR Memorials",
          "11th & F St NW",
          "23rd & E St NW ",
          "Fairfax Village",
          "21st St & Constitution Ave NW",
          "Columbia Rd & Belmont St NW",
          "Rhode Island & Connecticut Ave NW",
          "Thomas Circle",
          "18th St & Pennsylvania Ave NW",
          "4th & C St SW",
          "4th & E St SW",
          "3rd & G St SE",
          "7th & R St NW / Shaw Library",
          "9th & Upshur St NW",
          "1st & Rhode Island Ave NW",
          "Columbia Rd & Georgia Ave NW",
          "California St & Florida Ave NW",
          "Benning Rd & East Capitol St NE / Benning Rd Metro",
          "3000 Connecticut Ave NW / National Zoo",
          "Anacostia Ave & Benning Rd NE / River Terrace ",
          "M St & Pennsylvania Ave NW",
          "15th St & Massachusetts Ave SE",
          "Congress Heights Metro",
          "10th & K St NW",
          "1st & K St SE",
          "39th & Calvert St NW / Stoddert",
          "1st & Washington Hospital Center NW",
          "Jefferson Dr & 14th St SW",
          "14th & Q St NW",
          "13th & U St NW",
          "Stadium Armory Metro",
          "Broad Branch Rd & Northampton St NW",
          "21st St & G st NW",
          "4th St & G St SW",
          "Kansas Ave & Longfellow St NW",
          "2nd & V St SW / James Creek Marina",
          "1st St & Potomac Ave SE",
          "20th & Columbia Rd NW",
          "3rd & M st SE",
          "53rd & D St SE/C.W. Harris Elementary",
          "Anacostia Roller Skating Pavillion",
          "St. Elizabeths West Campus/DHS ",
          "MBT & Bryant St NE",
          "8th & V St NW",
          "17th & P St NW",
          "Arizona Ave & MacArthur Blvd NW",
          "11th & V st NW",
          "4th & Florida Ave NE",
          "10th & H St NE",
          "16th & Harvard St NW",
          "2nd St & Seaton Pl NE",
          "Thomas Jefferson St NW & Water/K St NW",
          "11th & S St NW",
          "2nd & G St NE",
          "8th & O St NW",
          "Georgia & Missouri Ave NW",
          "Oklahoma Ave & D St NE",
          "Maryland Ave & E St NE",
          "New York Ave & Hecht Ave NE",
          "Yuma St & Tenley Circle NW",
          "Wisconsin Ave & Ingomar St NW",
          "16th & Irving St NW",
          "16th & R St NW",
          "14th & L St NW",
          "1st & O St NW",
          "South Capitol & Atlantic St SW",
          "18th & C St NW",
          "22nd & P ST NW",
          "14th & Girard St NW",
          "11th & O St NW",
          "10th St & L'Enfant Plaza SW",
          "Connecticut Ave & Yuma St NW",
          "2nd St & Massachusetts Ave NE",
          "4th St & Madison Dr NW",
          "Henry Bacon Dr & Lincoln Memorial Circle NW",
          "17th St & Independence Ave SW",
          "New Jersey Ave & K St NW",
          "14th & Irving St NW",
          "Vermont Ave & I St NW",
          "Wisconsin Ave & Brandywine St NW",
          "24th & R St NE / National Arboretum",
          "Division Ave & Foote St NE",
          "16th & Q St SE / Anacostia HS",
          "1st & D St SE",
          "22nd St & Constitution Ave NW",
          "61st St & Banks Pl NE",
          "Georgia Ave & Piney Branch Rd NW",
          "15th & W St NW",
          "12th St & Pennsylvania Ave SE",
          "3rd St & Riggs Rd NE",
          "6th & K St NE",
          "3rd & Underwood St NW",
          "18th & Monroe St NE",
          "7th & E St SW",
          "Potomac & M St NW",
          "Columbia & Ontario Rd NW",
          "Virginia Ave & 25th St NW",
          "15th & M St NW",
          "11th & Girard St NW",
          "Connecticut Ave & R St NW",
          "American University East Campus",
          "15th St & Constitution Ave NW",
          "23rd & M St NW",
          "Alabama Ave & Stanton Rd SE / Shops at Park Village",
          "Mississippi Ave & 19th St SE / THEARC",
          "19th & Savannah St SE",
          "4th St & Mississippi Ave SE",
          "1st & S Capitol St SE / Oxon Run Trail",
          "Livingston Rd & 3rd St SE",
          "Joliet St & MLK Ave SW/Bald Eagle Rec Ctr",
          "37th & Ely Pl SE",
          "15th St & Pennsylvania Ave NW",
          "Maine Ave & 9th St SW",
          "Lincoln Rd & Seaton Pl NE/Harry Thomas Rec Center",
          "Georgia Ave & Kennedy St NW",
          "7th St & Massachusetts Ave NE",
          "Anacostia Park",
          "Potomac Ave & Half St SW",
          "Stanton Square SE",
          "14th & Newton St NW",
          "48th Pl & MacArthur Blvd NW",
          "14th & Luzon St NW",
          "1st & M St SE",
          "11th & Park Rd NW",
          "4th & M St SE",
          "Kansas Ave & Sherman Cr NW",
          "7th & K St NW",
          "King Greenleaf Rec Center",
          "Montello Ave & Holbrook Terr NE",
          "New Jersey Ave & F St NW",
          "Maryland Ave & 17th St NE",
          "Massachusetts Ave & 6th St NE",
          "Woodley Park Metro / Calvert St & Connecticut Ave NW",
          "Trinidad Rec Center",
          "Rosedale Rec Center",
          "11th & C St SE",
          "New Hampshire & Gallatin St NW",
          "United Medical Center",
          "18th & New Hampshire Ave NW",
          "Georgia Ave & Morton St NW",
          "Rhode Island & Montana Ave NE",
          "7th & S St NW",
          "North Capitol & R St NE",
          "17th & Upshur St NW",
          "Grant Circle",
          "14th & Otis Pl NW",
          "John McCormack Rd NE",
          "Edgewood Rec Center",
          "8th & K St NE",
          "Kingman Island/The Fields at RFK",
          "Kenilworth Terrace & Hayes St. NE",
          "Valley Ave & Wheeler Rd SE",
          "Ridge Rd Community Center",
          "Fort Stanton Rec Center",
          "Reservoir Rd & 38th St NW",
          "22nd & H St NW",
          "8th & H St NE",
          "Hardy Rec Center",
          "Oklahoma Ave & Benning Rd NE",
          "Minnesota Ave & R St SE",
          "1st & K St NE",
          "Capitol Ave & Kendall St NE",
          "14th & D St SE",
          "Half & Water St SW"
         ],
         "lat": [
          38.9003,
          38.917765,
          38.929464,
          38.922925,
          38.9268,
          38.923203,
          38.9319,
          38.876697,
          38.909801,
          38.913046,
          38.9086,
          38.8963,
          38.900711,
          38.936684,
          38.9375,
          38.9346,
          38.90304,
          38.8896,
          38.9308,
          38.861663,
          38.933626,
          38.878,
          38.897063,
          38.901385,
          38.862669,
          38.867373,
          38.8952,
          38.919077,
          38.9172,
          38.9249,
          38.874102,
          38.9154,
          38.9155,
          38.8763,
          38.9101,
          38.905697,
          38.905711,
          38.90276,
          38.899408,
          38.8851,
          38.8803,
          38.882915,
          38.888774,
          38.894573,
          38.879819,
          38.866611,
          38.90509,
          38.903584,
          38.903819,
          38.901539,
          38.902204,
          38.902,
          38.90849,
          38.955016,
          38.908142,
          38.92333,
          38.889988,
          38.912659,
          38.889908,
          38.897274,
          38.927095,
          38.897195,
          38.928644,
          38.84323,
          38.863897,
          38.903732,
          38.916787,
          38.887378,
          38.894851,
          38.917622,
          38.918155,
          38.892275,
          38.886978,
          38.887312,
          38.927497,
          38.921074,
          38.87501,
          38.920387,
          38.876737,
          38.923583,
          38.907333,
          38.898536,
          38.908473,
          38.878433,
          38.899703,
          38.941139,
          38.900358,
          38.952369,
          38.975219,
          38.920682,
          38.903732,
          38.898243,
          38.901755,
          38.964544,
          38.903649,
          38.898283,
          38.912648,
          38.907908,
          38.898412,
          38.9066,
          38.895914,
          38.90088,
          38.888255,
          38.894722,
          38.90093,
          38.943837,
          38.954812,
          38.90547,
          38.918809,
          38.956556,
          38.949662,
          38.942475,
          38.956432,
          38.9121,
          38.944551,
          38.9126,
          38.8792,
          38.938736,
          38.934881,
          38.947774,
          38.865784,
          38.873057,
          38.886952,
          38.899632,
          38.894,
          38.886277,
          38.902314,
          38.933668,
          38.894919,
          38.886266,
          38.893028,
          38.897293,
          38.884095,
          38.905067,
          38.947607,
          38.900427,
          38.897222,
          38.899032,
          38.905737,
          38.927872,
          38.903741,
          38.90375,
          38.878694,
          38.894841,
          38.916442,
          38.900283,
          38.8997,
          38.932457,
          38.910972,
          38.899972,
          38.900412,
          38.900413,
          38.889955,
          38.890461,
          38.8692,
          38.894832,
          38.915544,
          38.898364,
          38.894514,
          38.897283,
          38.902061,
          38.908905,
          38.895344,
          38.8923,
          38.90774,
          38.903827,
          38.89696,
          38.897446,
          38.905579,
          38.922581,
          38.898409,
          38.88412,
          38.897857,
          38.896104,
          38.86559,
          38.892459,
          38.920669,
          38.905996,
          38.9059,
          38.89968,
          38.886372,
          38.88412,
          38.881185,
          38.912719,
          38.9418,
          38.915417,
          38.928121,
          38.917761,
          38.889935,
          38.930282,
          38.896544,
          38.905126,
          38.88732,
          38.844711,
          38.9024,
          38.878854,
          38.922649,
          38.928743,
          38.888553,
          38.910674,
          38.916936,
          38.885483,
          38.965775,
          38.898302,
          38.881123,
          38.958098,
          38.863743,
          38.871841,
          38.918036,
          38.876823,
          38.883318,
          38.878771,
          38.853124,
          38.922404,
          38.917716,
          38.909858,
          38.927294,
          38.918199,
          38.907316,
          38.899984,
          38.926102,
          38.914751,
          38.902826,
          38.913761,
          38.89967,
          38.90864,
          38.961339,
          38.894474,
          38.896226,
          38.915604,
          38.946182,
          38.958267,
          38.928893,
          38.912652,
          38.903658,
          38.908643,
          38.831516,
          38.893511,
          38.909394,
          38.925284,
          38.90843,
          38.884323,
          38.947156,
          38.894972,
          38.890496,
          38.890539,
          38.888097,
          38.902406,
          38.928552,
          38.901136,
          38.949813,
          38.91263,
          38.897407,
          38.870695,
          38.884916,
          38.892441,
          38.891805,
          38.967505,
          38.919019,
          38.882489,
          38.957463,
          38.902932,
          38.968834,
          38.93293,
          38.88345,
          38.905368,
          38.924088,
          38.8995,
          38.905424,
          38.925636,
          38.912644,
          38.936298,
          38.892244,
          38.905303,
          38.84627,
          38.84377,
          38.84623,
          38.836,
          38.824481,
          38.82373,
          38.81909,
          38.883011,
          38.896465,
          38.88044,
          38.915,
          38.95674,
          38.89222,
          38.87335,
          38.869683,
          38.855004,
          38.931991,
          38.917036,
          38.969489,
          38.876893,
          38.931322,
          38.876751,
          38.947962,
          38.902674,
          38.876211,
          38.907444,
          38.897108,
          38.901935,
          38.892934,
          38.923389,
          38.906299,
          38.897808,
          38.885908,
          38.951596,
          38.835737,
          38.911268,
          38.932128,
          38.9243,
          38.914204,
          38.912524,
          38.942146,
          38.942025,
          38.934405,
          38.938889,
          38.924144,
          38.902732,
          38.895955,
          38.900468,
          38.836646,
          38.876227,
          38.857369,
          38.912614,
          38.898925,
          38.899942,
          38.909701,
          38.8975,
          38.869337,
          38.902386,
          38.910993,
          38.884058,
          38.866277
         ],
         "legendgroup": "Washington, DC",
         "lon": [
          -77.0429,
          -77.032096,
          -77.027822,
          -77.042581,
          -77.0322,
          -77.047637,
          -77.0388,
          -77.017898,
          -77.034427,
          -77.032008,
          -77.0323,
          -77.045,
          -77.046449,
          -77.024181,
          -77.0328,
          -76.9955,
          -77.019027,
          -76.9769,
          -77.0315,
          -76.969184,
          -77.05753,
          -76.9607,
          -76.947446,
          -76.941877,
          -76.994637,
          -76.988039,
          -77.0436,
          -77.000648,
          -77.0259,
          -77.0222,
          -77.005794,
          -77.0446,
          -77.0222,
          -77.0037,
          -77.0444,
          -77.005483,
          -77.047318,
          -77.03863,
          -77.015289,
          -77.0023,
          -76.9862,
          -76.987907,
          -77.028694,
          -77.01994,
          -77.037413,
          -76.985238,
          -76.9941,
          -77.044789,
          -77.0284,
          -77.046564,
          -77.04337,
          -77.03353,
          -77.063586,
          -77.069956,
          -77.038359,
          -77.0352,
          -76.995193,
          -77.017669,
          -76.983326,
          -76.994749,
          -76.978924,
          -76.983575,
          -76.990955,
          -76.999376,
          -76.990037,
          -76.987211,
          -77.028139,
          -77.001955,
          -77.02324,
          -77.01597,
          -77.004746,
          -77.013917,
          -77.013769,
          -77.025762,
          -76.997194,
          -77.031887,
          -77.0024,
          -77.025672,
          -76.994468,
          -77.050046,
          -77.01536,
          -76.931862,
          -76.933099,
          -77.03023,
          -77.008911,
          -77.061977,
          -77.012108,
          -77.002721,
          -77.016855,
          -76.995876,
          -77.067529,
          -77.026235,
          -77.051084,
          -77.075135,
          -77.034918,
          -77.039732,
          -77.041834,
          -76.99707,
          -77.043182,
          -77.05152,
          -77.026064,
          -77.048911,
          -77.049437,
          -77.045128,
          -77.018677,
          -77.077078,
          -77.082426,
          -77.00213,
          -77.041571,
          -77.019814,
          -77.027333,
          -77.032678,
          -77.032947,
          -77.0387,
          -77.063896,
          -77.0135,
          -76.9953,
          -77.087171,
          -77.072755,
          -77.032818,
          -76.9784,
          -76.971015,
          -76.996806,
          -77.031686,
          -76.947974,
          -77.028242,
          -77.059142,
          -76.991016,
          -77.046587,
          -77.022241,
          -77.026013,
          -77.05557,
          -76.995234,
          -77.041779,
          -77.079382,
          -76.98825,
          -77.019347,
          -77.033354,
          -77.02227,
          -77.043358,
          -77.042452,
          -77.06269,
          -77.023054,
          -76.995916,
          -77.0682,
          -77.029822,
          -77.023086,
          -76.993534,
          -77.00495,
          -76.998347,
          -77.001949,
          -76.982872,
          -77.000349,
          -76.988355,
          -76.9599,
          -76.987633,
          -77.038252,
          -77.027869,
          -77.031617,
          -77.022191,
          -77.038322,
          -77.04478,
          -77.016106,
          -77.0436,
          -77.071652,
          -77.053485,
          -77.00493,
          -77.009888,
          -77.027313,
          -77.070334,
          -77.032278,
          -77.04657,
          -77.026975,
          -77.049882,
          -76.952103,
          -77.046567,
          -77.04368,
          -77.039802,
          -77.0325,
          -77.041539,
          -77.017701,
          -77.017445,
          -77.001828,
          -77.022155,
          -77.0251,
          -77.012289,
          -77.023795,
          -77.04062,
          -76.93723,
          -77.055599,
          -76.96012,
          -77.056887,
          -76.983569,
          -76.987823,
          -77.02622,
          -77.005727,
          -77.077271,
          -77.012457,
          -77.032427,
          -77.03188,
          -77.029631,
          -76.977187,
          -77.068626,
          -77.046913,
          -77.017658,
          -77.013821,
          -77.013814,
          -77.00591,
          -77.045487,
          -77.002161,
          -76.925315,
          -76.97093,
          -77.005174,
          -76.996023,
          -77.022684,
          -77.038566,
          -77.103662,
          -77.027171,
          -77.000698,
          -76.992725,
          -77.03665,
          -77.00356,
          -77.060173,
          -77.027025,
          -77.003666,
          -77.02277,
          -77.027855,
          -76.974828,
          -76.992786,
          -76.983683,
          -77.08059,
          -77.084636,
          -77.03625,
          -77.036278,
          -77.031737,
          -77.012365,
          -77.008133,
          -77.041544,
          -77.048728,
          -77.032375,
          -77.02714,
          -77.02601,
          -77.065115,
          -77.003135,
          -77.017247,
          -77.049383,
          -77.038325,
          -77.016006,
          -77.032224,
          -77.034451,
          -77.080217,
          -76.971923,
          -76.925907,
          -76.982359,
          -77.005965,
          -77.048947,
          -76.913563,
          -77.027976,
          -77.034449,
          -76.990121,
          -77.002239,
          -76.998405,
          -77.016258,
          -76.979517,
          -77.021741,
          -77.065149,
          -77.040787,
          -77.054155,
          -77.034674,
          -77.027112,
          -77.04564,
          -77.087128,
          -77.033234,
          -77.050264,
          -76.98185,
          -76.97557,
          -76.97703,
          -77.0009,
          -77.005497,
          -77.00223,
          -77.01033,
          -76.949709,
          -77.033381,
          -77.025236,
          -77.0078,
          -77.02791,
          -76.99602,
          -76.9834,
          -77.010815,
          -76.984512,
          -77.032956,
          -77.095782,
          -77.033509,
          -77.006072,
          -77.028247,
          -77.000736,
          -77.02155,
          -77.021392,
          -77.012443,
          -76.986813,
          -77.011616,
          -76.978627,
          -76.998273,
          -77.051833,
          -76.983221,
          -76.979634,
          -76.991476,
          -77.012808,
          -76.983144,
          -77.041829,
          -77.0235,
          -76.9859,
          -77.022175,
          -77.008798,
          -77.038684,
          -77.018221,
          -77.032687,
          -76.997226,
          -77.002098,
          -76.99515,
          -76.967845,
          -76.947287,
          -76.993589,
          -76.940981,
          -76.977688,
          -77.074323,
          -77.048852,
          -76.994897,
          -77.085646,
          -76.969509,
          -76.978519,
          -77.005649,
          -76.985854,
          -76.986385,
          -77.010551
         ],
         "marker": {
          "color": "#EF553B",
          "size": [
           15,
           31,
           39,
           15,
           19,
           23,
           19,
           23,
           19,
           19,
           23,
           15,
           35,
           19,
           19,
           11,
           19,
           15,
           35,
           19,
           11,
           11,
           15,
           11,
           19,
           11,
           11,
           15,
           15,
           15,
           39,
           15,
           15,
           17,
           45,
           15,
           19,
           23,
           15,
           11,
           15,
           15,
           35,
           19,
           23,
           15,
           19,
           19,
           19,
           19,
           23,
           27,
           19,
           23,
           19,
           15,
           11,
           15,
           11,
           23,
           15,
           19,
           15,
           11,
           11,
           15,
           31,
           15,
           15,
           15,
           19,
           27,
           31,
           15,
           15,
           15,
           19,
           19,
           15,
           19,
           19,
           11,
           15,
           17,
           19,
           15,
           15,
           19,
           19,
           19,
           19,
           23,
           19,
           19,
           23,
           31,
           19,
           23,
           23,
           15,
           15,
           15,
           25,
           15,
           19,
           15,
           15,
           23,
           23,
           15,
           19,
           19,
           19,
           19,
           15,
           15,
           11,
           15,
           19,
           11,
           11,
           11,
           14,
           23,
           11,
           39,
           19,
           11,
           15,
           15,
           31,
           19,
           19,
           27,
           15,
           27,
           31,
           19,
           23,
           15,
           19,
           23,
           19,
           23,
           11,
           23,
           33,
           19,
           23,
           23,
           19,
           15,
           11,
           25,
           11,
           31,
           23,
           39,
           25,
           27,
           35,
           19,
           15,
           35,
           23,
           15,
           55,
           23,
           19,
           15,
           23,
           31,
           15,
           19,
           15,
           15,
           19,
           23,
           33,
           27,
           39,
           19,
           19,
           15,
           15,
           15,
           27,
           19,
           19,
           15,
           15,
           19,
           15,
           15,
           23,
           15,
           19,
           15,
           23,
           19,
           19,
           19,
           19,
           19,
           19,
           19,
           19,
           19,
           19,
           23,
           19,
           19,
           19,
           19,
           19,
           19,
           19,
           19,
           19,
           19,
           19,
           19,
           19,
           23,
           23,
           19,
           19,
           19,
           19,
           23,
           19,
           19,
           19,
           19,
           19,
           15,
           19,
           19,
           19,
           23,
           19,
           23,
           19,
           23,
           31,
           19,
           19,
           23,
           31,
           25,
           25,
           19,
           15,
           23,
           19,
           23,
           19,
           15,
           19,
           19,
           15,
           19,
           19,
           19,
           19,
           19,
           23,
           19,
           19,
           19,
           19,
           19,
           19,
           19,
           19,
           19,
           11,
           19,
           19,
           15,
           19,
           15,
           19,
           15,
           19,
           19,
           19,
           19,
           23,
           19,
           19,
           19,
           19,
           19,
           19,
           19,
           19,
           19,
           19,
           19,
           33,
           19,
           19,
           23,
           19,
           19,
           19,
           19,
           19,
           19,
           19,
           19,
           19,
           15,
           19,
           19,
           27,
           19,
           15,
           15,
           19,
           19,
           19,
           19,
           19,
           19,
           17,
           19,
           17,
           19,
           19,
           17,
           19,
           19,
           15
          ],
          "sizemode": "area",
          "sizeref": 0.55
         },
         "mode": "markers",
         "name": "Washington, DC",
         "showlegend": true,
         "subplot": "mapbox",
         "type": "scattermapbox"
        },
        {
         "customdata": [
          [
           19,
           0
          ],
          [
           15,
           0
          ],
          [
           15,
           0
          ],
          [
           15,
           1
          ],
          [
           15,
           0
          ],
          [
           17,
           0
          ],
          [
           29,
           0
          ],
          [
           15,
           0
          ],
          [
           15,
           0
          ],
          [
           11,
           0
          ],
          [
           19,
           1
          ],
          [
           11,
           1
          ],
          [
           15,
           0
          ],
          [
           15,
           1
          ],
          [
           15,
           0
          ],
          [
           23,
           1
          ],
          [
           15,
           0
          ],
          [
           19,
           0
          ],
          [
           11,
           0
          ],
          [
           11,
           1
          ],
          [
           15,
           0
          ],
          [
           15,
           0
          ],
          [
           11,
           0
          ],
          [
           15,
           0
          ],
          [
           15,
           0
          ],
          [
           15,
           0
          ],
          [
           16,
           0
          ],
          [
           11,
           0
          ],
          [
           16,
           0
          ],
          [
           12,
           0
          ],
          [
           19,
           0
          ],
          [
           16,
           0
          ],
          [
           11,
           0
          ],
          [
           15,
           0
          ],
          [
           15,
           1
          ],
          [
           16,
           0
          ],
          [
           15,
           0
          ],
          [
           15,
           0
          ],
          [
           19,
           0
          ],
          [
           15,
           0
          ],
          [
           15,
           0
          ],
          [
           15,
           0
          ],
          [
           15,
           0
          ],
          [
           19,
           0
          ],
          [
           23,
           0
          ],
          [
           15,
           0
          ],
          [
           15,
           1
          ],
          [
           19,
           0
          ],
          [
           15,
           0
          ],
          [
           15,
           0
          ],
          [
           15,
           0
          ],
          [
           15,
           1
          ],
          [
           19,
           0
          ],
          [
           15,
           0
          ],
          [
           12,
           0
          ],
          [
           19,
           0
          ],
          [
           15,
           0
          ],
          [
           15,
           0
          ]
         ],
         "hovertemplate": "<b>%{hovertext}</b><br><br>REGION_NAME=Alexandria, VA<br>CAPACITY=%{customdata[0]}<br>LATITUDE=%{lat}<br>LONGITUDE=%{lon}<br>NUM_EBIKES_AVAILABLE=%{customdata[1]}<extra></extra>",
         "hovertext": [
          "Prince St & Union St",
          "Market Square / King St & Royal St",
          "St Asaph & Pendleton St",
          "King St & Patrick St",
          "Commerce St & Fayette St",
          "Henry St & Pendleton St",
          "Braddock Rd Metro North",
          "Duke St & John Carlyle St",
          "Eisenhower Ave & Mill Race Ln",
          "Potomac Greens Dr & Slaters Ln",
          "Ballenger Ave & Dulaney St",
          "Mount Vernon Ave & E Nelson Ave",
          "Mount Vernon Ave & E Del Ray Ave",
          "Monroe Ave & Leslie Ave",
          "Mount Vernon Ave & Kennedy St",
          "King St Metro South",
          "N Pitt St & Montgomery St",
          "Van Dorn Metro",
          "Duke St & Strand (Robinson Terminal)",
          "N Hampton Dr & Ford Ave",
          "Whiting & Lane Dr",
          "N Howard St & Taney Ave",
          "Kenmore Ave & Seminary Rd",
          "N Howard St & N Imboden St",
          "S Pickett St & Shillings St",
          "S Jordan St & Venable St",
          "King St & Peyton St",
          "Reed and Edison",
          "King St & Kenwood Ave",
          "S Washington St & Wilkes St",
          "Main Line Blvd & E Glebe",
          "Commonwealth and Reed",
          "Fillmore & Bisdorf",
          "King St & W Braddock Rd",
          "Holmes Run Pkwy & N Pickett St",
          "Duke St & Jordan St",
          "S Reynolds St & Edsall Rd",
          "King St & N Pitt St",
          "Braddock Rd Metro South",
          "Saint Asaph St & Madison St",
          "King St Metro North / Cameron St",
          "Madison St & N Henry St",
          "Royal St & Wilkes St",
          "Potomac Ave & Main Line Blvd",
          "Radford St & Osage St",
          "Commonwealth Ave & Oak St",
          "Commonwealth Ave & E Monroe Ave",
          "Franklin St & S Washington St",
          "Mount Vernon Ave & Four Mile Run Park",
          "Mount Vernon Ave & Bruce St",
          "Lee Center",
          "Powhatan St & Bashford Ln",
          "Potomac Ave & Swann Ave",
          "Madison St & Fairfax St",
          "Wheeler Ave & S. Floyd St.",
          "N. Beauregard St. & Berkley St.",
          "Mt Vernon Trail & S. Washington St.",
          "Eisenhower Ave & Ike Dr"
         ],
         "lat": [
          38.803124,
          38.804718,
          38.810741,
          38.805317,
          38.805648,
          38.811456,
          38.814577,
          38.804378,
          38.801111,
          38.82175,
          38.802677,
          38.820064,
          38.82595,
          38.820932,
          38.833077,
          38.805763,
          38.814031,
          38.800077,
          38.801947,
          38.837306,
          38.809709,
          38.815842,
          38.828887,
          38.818509,
          38.804486,
          38.811361,
          38.806002,
          38.83728,
          38.824793,
          38.800703,
          38.832431,
          38.836838,
          38.83863,
          38.827674,
          38.814305,
          38.812187,
          38.809607,
          38.804801,
          38.813474,
          38.812718,
          38.80704,
          38.813485,
          38.799267,
          38.822738,
          38.828437,
          38.812711,
          38.820058,
          38.798133,
          38.843422,
          38.841291,
          38.797557,
          38.818748,
          38.829545,
          38.812351,
          38.808161,
          38.840797,
          38.793065,
          38.802738
         ],
         "legendgroup": "Alexandria, VA",
         "lon": [
          -77.040363,
          -77.043363,
          -77.044633,
          -77.049883,
          -77.05293,
          -77.050276,
          -77.052808,
          -77.060866,
          -77.068952,
          -77.047494,
          -77.063562,
          -77.057619,
          -77.058541,
          -77.053096,
          -77.059821,
          -77.060627,
          -77.042817,
          -77.129943,
          -77.040293,
          -77.106111,
          -77.135788,
          -77.110014,
          -77.110588,
          -77.105564,
          -77.132334,
          -77.109975,
          -77.055911,
          -77.060899,
          -77.085066,
          -77.048043,
          -77.049772,
          -77.057274,
          -77.116206,
          -77.088985,
          -77.11893,
          -77.10994,
          -77.128908,
          -77.044676,
          -77.053734,
          -77.044097,
          -77.059817,
          -77.049468,
          -77.0447,
          -77.049265,
          -77.086031,
          -77.061715,
          -77.062821,
          -77.0487,
          -77.064016,
          -77.063093,
          -77.053766,
          -77.047783,
          -77.047844,
          -77.040691,
          -77.100796,
          -77.108938,
          -77.049436,
          -77.082463
         ],
         "marker": {
          "color": "#00cc96",
          "size": [
           19,
           15,
           15,
           15,
           15,
           17,
           29,
           15,
           15,
           11,
           19,
           11,
           15,
           15,
           15,
           23,
           15,
           19,
           11,
           11,
           15,
           15,
           11,
           15,
           15,
           15,
           16,
           11,
           16,
           12,
           19,
           16,
           11,
           15,
           15,
           16,
           15,
           15,
           19,
           15,
           15,
           15,
           15,
           19,
           23,
           15,
           15,
           19,
           15,
           15,
           15,
           15,
           19,
           15,
           12,
           19,
           15,
           15
          ],
          "sizemode": "area",
          "sizeref": 0.55
         },
         "mode": "markers",
         "name": "Alexandria, VA",
         "showlegend": true,
         "subplot": "mapbox",
         "type": "scattermapbox"
        },
        {
         "customdata": [
          [
           15,
           0
          ],
          [
           15,
           0
          ],
          [
           19,
           1
          ],
          [
           11,
           0
          ],
          [
           11,
           6
          ],
          [
           11,
           1
          ],
          [
           15,
           0
          ],
          [
           19,
           0
          ],
          [
           19,
           0
          ],
          [
           11,
           0
          ],
          [
           19,
           1
          ],
          [
           15,
           0
          ],
          [
           15,
           0
          ],
          [
           15,
           0
          ],
          [
           11,
           0
          ],
          [
           15,
           0
          ],
          [
           15,
           0
          ],
          [
           15,
           1
          ],
          [
           11,
           0
          ],
          [
           11,
           1
          ],
          [
           15,
           0
          ],
          [
           11,
           0
          ],
          [
           15,
           1
          ],
          [
           19,
           0
          ],
          [
           19,
           2
          ],
          [
           11,
           0
          ],
          [
           19,
           0
          ],
          [
           12,
           0
          ],
          [
           15,
           1
          ],
          [
           15,
           0
          ],
          [
           15,
           3
          ],
          [
           19,
           4
          ],
          [
           15,
           2
          ],
          [
           11,
           0
          ],
          [
           19,
           1
          ],
          [
           15,
           0
          ],
          [
           15,
           0
          ],
          [
           15,
           0
          ],
          [
           15,
           1
          ],
          [
           19,
           0
          ],
          [
           15,
           0
          ],
          [
           15,
           0
          ],
          [
           15,
           0
          ],
          [
           15,
           1
          ],
          [
           15,
           0
          ],
          [
           15,
           0
          ],
          [
           11,
           0
          ],
          [
           19,
           0
          ],
          [
           19,
           0
          ],
          [
           15,
           0
          ],
          [
           23,
           0
          ],
          [
           19,
           0
          ],
          [
           19,
           1
          ],
          [
           19,
           0
          ],
          [
           19,
           0
          ],
          [
           19,
           1
          ],
          [
           19,
           0
          ]
         ],
         "hovertemplate": "<b>%{hovertext}</b><br><br>REGION_NAME=Montgomery County, MD (South)<br>CAPACITY=%{customdata[0]}<br>LATITUDE=%{lat}<br>LONGITUDE=%{lon}<br>NUM_EBIKES_AVAILABLE=%{customdata[1]}<extra></extra>",
         "hovertext": [
          "13th St & Eastern Ave",
          "Fenton St & New York Ave ",
          "Bethesda Ave & Arlington Rd",
          "Montgomery Ave & Waverly St ",
          "Norfolk Ave & Fairmont St",
          "Cordell & Norfolk Ave",
          "Philadelphia & Maple Ave",
          "Maple & Ritchie Ave",
          "Silver Spring Metro / Colesville Rd & Wayne Ave",
          "Montgomery & East Ln",
          "Friendship Hts Metro / Wisconsin Ave & Wisconsin Cir",
          "East West Hwy & Blair Mill Rd",
          "47th & Elm St",
          "Dennis Ave & Amherst Ave",
          "Fenton St & Gist Ave",
          "Carroll & Westmoreland Ave",
          "Carroll & Ethan Allen Ave",
          "Battery Ln & Trolley Trail",
          "Norfolk & Rugby Ave",
          "Offutt Ln & Chevy Chase Dr",
          "Silver Spring Transit Center - Top Level",
          "Georgia Ave & Spring St",
          "Fenton St & Ellsworth Dr ",
          "Old Georgetown Rd & Southwick St",
          "Friendship Blvd & Willard Ave",
          "Veterans Pl & Pershing Dr ",
          "River Rd & Landy Ln",
          "Bethesda Metro / Wisconsin Ave & Old Georgetown Rd",
          "WAU / Flower Ave & Division St",
          "Spring St & 2nd Ave",
          "Connecticut Ave & Chevy Chase Lake Dr",
          "Medical Center Metro ",
          "Lyttonsville Rd & Lyttonsville Pl",
          "Woodmont Ave & Strathmore St",
          "East West Hwy & 16th St",
          "Sligo Ave & Carroll Ln",
          "Pooks Hill Rd & Linden Ave",
          "Takoma Park Rec Center",
          "New Hampshire & Kirklynn Ave",
          "Wheaton Metro / Georgia Ave & Reedie Dr",
          "Amherst Ave & Elkins St",
          "Amherst Ave & Prichard Rd",
          "Grandview & Blueridge Ave",
          "Windham Ln & Amherst Ave",
          "Blueridge Ave & Elkin St",
          "Garland Ave & Walden Rd",
          "Wheaton Library & Community Rec Center",
          "The Shoppes @ Burnt Mills",
          "Briggs Chaney & Castle Dr",
          "White Oak Rec Center",
          "Briggs Chaney Park & Ride",
          "Stewart & April",
          "Stewart Ln & Old Columbia Pike",
          "New Hampshire & Lockwood",
          "Castle Blvd & Castle Ln",
          "Oak Leaf & Lockwood",
          "White Oak Transit Center"
         ],
         "lat": [
          38.987,
          38.985404,
          38.981103,
          38.983838,
          38.988562,
          38.98954,
          38.98128,
          38.983627,
          38.995256,
          38.983525,
          38.961763,
          38.990249,
          38.982456,
          39.025387,
          38.989724,
          38.975,
          38.977933,
          38.992375,
          38.990639,
          38.977093,
          38.994035,
          38.999388,
          38.997033,
          38.999634,
          38.96115,
          38.997445,
          38.964992,
          38.984691,
          38.986743,
          38.997653,
          38.994113,
          38.999378,
          38.999679,
          38.979875,
          38.995681,
          38.990874,
          39.014716,
          38.98265,
          38.988101,
          39.038424,
          39.044887,
          39.035965,
          39.043272,
          39.032029,
          39.04313,
          39.00048,
          39.047323,
          39.031314,
          39.081638,
          39.046144,
          39.077875,
          39.044944,
          39.045652,
          39.039102,
          39.085314,
          39.037981,
          39.04104
         ],
         "legendgroup": "Montgomery County, MD (South)",
         "lon": [
          -77.029417,
          -77.023082,
          -77.097426,
          -77.09221,
          -77.096539,
          -77.098029,
          -77.011336,
          -77.006311,
          -77.029124,
          -77.095367,
          -77.085998,
          -77.02935,
          -77.091991,
          -77.044563,
          -77.023854,
          -77.01121,
          -77.006472,
          -77.100104,
          -77.100239,
          -77.094589,
          -77.030371,
          -77.031555,
          -77.025608,
          -77.109647,
          -77.088659,
          -77.023894,
          -77.103381,
          -77.094537,
          -77.000035,
          -77.034499,
          -77.076986,
          -77.097882,
          -77.051168,
          -77.093522,
          -77.038721,
          -77.016311,
          -77.107143,
          -76.988311,
          -76.988422,
          -77.05102,
          -77.047788,
          -77.048395,
          -77.053085,
          -77.04735,
          -77.05006,
          -77.00077,
          -77.051097,
          -77.004122,
          -76.945495,
          -76.975723,
          -76.941867,
          -76.981155,
          -76.985438,
          -76.991824,
          -76.940547,
          -76.994539,
          -76.987125
         ],
         "marker": {
          "color": "#ab63fa",
          "size": [
           15,
           15,
           19,
           11,
           11,
           11,
           15,
           19,
           19,
           11,
           19,
           15,
           15,
           15,
           11,
           15,
           15,
           15,
           11,
           11,
           15,
           11,
           15,
           19,
           19,
           11,
           19,
           12,
           15,
           15,
           15,
           19,
           15,
           11,
           19,
           15,
           15,
           15,
           15,
           19,
           15,
           15,
           15,
           15,
           15,
           15,
           11,
           19,
           19,
           15,
           23,
           19,
           19,
           19,
           19,
           19,
           19
          ],
          "sizemode": "area",
          "sizeref": 0.55
         },
         "mode": "markers",
         "name": "Montgomery County, MD (South)",
         "showlegend": true,
         "subplot": "mapbox",
         "type": "scattermapbox"
        },
        {
         "customdata": [
          [
           19,
           0
          ],
          [
           19,
           0
          ],
          [
           15,
           1
          ],
          [
           9,
           0
          ],
          [
           15,
           0
          ],
          [
           15,
           0
          ],
          [
           15,
           0
          ],
          [
           21,
           0
          ],
          [
           15,
           0
          ],
          [
           19,
           1
          ],
          [
           18,
           0
          ],
          [
           15,
           1
          ],
          [
           15,
           1
          ],
          [
           19,
           0
          ],
          [
           13,
           0
          ],
          [
           19,
           0
          ],
          [
           19,
           0
          ],
          [
           15,
           1
          ],
          [
           19,
           0
          ],
          [
           11,
           2
          ],
          [
           11,
           0
          ],
          [
           11,
           0
          ],
          [
           15,
           5
          ],
          [
           11,
           1
          ],
          [
           14,
           0
          ],
          [
           25,
           0
          ],
          [
           15,
           0
          ],
          [
           15,
           0
          ],
          [
           16,
           0
          ],
          [
           15,
           0
          ],
          [
           15,
           0
          ],
          [
           15,
           0
          ]
         ],
         "hovertemplate": "<b>%{hovertext}</b><br><br>REGION_NAME=Montgomery County, MD (North)<br>CAPACITY=%{customdata[0]}<br>LATITUDE=%{lat}<br>LONGITUDE=%{lon}<br>NUM_EBIKES_AVAILABLE=%{customdata[1]}<extra></extra>",
         "hovertext": [
          "Fallsgrove Blvd & Fallsgrove Dr",
          "Traville Gateway Dr & Gudelsky Dr",
          "E Montgomery Ave & Maryland Ave",
          "Frederick Ave & Horners Ln",
          "Fallsgrove Dr & W Montgomery Ave",
          "Monroe St & Monroe Pl",
          "Needwood Rd & Eagles Head Ct",
          "Montgomery College / W Campus Dr & Mannakee St",
          "Fleet St & Ritchie Pkwy",
          "Piccard & W Gude Dr",
          "King Farm Blvd & Pleasant Dr",
          "King Farm Blvd & Piccard Dr",
          "Medical Center Dr & Key West Ave",
          "Shady Grove Hospital",
          "Rockville Metro East",
          "Shady Grove Metro West",
          "Rockville Metro West",
          "Key West Ave & Siesta Key Way",
          "Shady Grove Metro East",
          "Columbus Ave & Tribeca St",
          "Columbus Ave & Gramercy Blvd",
          "Key West Ave & Great Seneca Hwy",
          "Corporate Blvd & Omega Dr",
          "Key West Ave & Diamondback Dr",
          "Twinbrook Metro",
          "White Flint Metro",
          "Citadel Ave & McGrath Blvd",
          "Rockville Pike & Old Georgetown Rd",
          "Woodglen Dr & Executive Blvd",
          "Executive Blvd & E Jefferson St",
          "Fishers Ln & Rock Creek Mill Rd",
          "Congressional Ln & E Jefferson St"
         ],
         "lat": [
          39.096312,
          39.093783,
          39.084125,
          39.094772,
          39.099376,
          39.083673,
          39.123513,
          39.095661,
          39.076331,
          39.102212,
          39.114688,
          39.110314,
          39.103091,
          39.097636,
          39.085394,
          39.119765,
          39.084379,
          39.105295,
          39.121327,
          39.125828,
          39.12333,
          39.105642,
          39.106971,
          39.106152,
          39.062041,
          39.04753,
          39.049,
          39.049765,
          39.04317,
          39.04873,
          39.0629,
          39.06219
         ],
         "legendgroup": "Montgomery County, MD (North)",
         "lon": [
          -77.192672,
          -77.202501,
          -77.151291,
          -77.145213,
          -77.188014,
          -77.149162,
          -77.15741,
          -77.159048,
          -77.141378,
          -77.177091,
          -77.171487,
          -77.182669,
          -77.196442,
          -77.196636,
          -77.145803,
          -77.166093,
          -77.146866,
          -77.194774,
          -77.164969,
          -77.167059,
          -77.16486,
          -77.20386,
          -77.192645,
          -77.202354,
          -77.120776,
          -77.11287,
          -77.10933,
          -77.11368,
          -77.1135,
          -77.1257,
          -77.113454,
          -77.129235
         ],
         "marker": {
          "color": "#FFA15A",
          "size": [
           19,
           19,
           15,
           9,
           15,
           15,
           15,
           21,
           15,
           19,
           18,
           15,
           15,
           19,
           13,
           19,
           19,
           15,
           19,
           11,
           11,
           11,
           15,
           11,
           14,
           25,
           15,
           15,
           16,
           15,
           15,
           15
          ],
          "sizemode": "area",
          "sizeref": 0.55
         },
         "mode": "markers",
         "name": "Montgomery County, MD (North)",
         "showlegend": true,
         "subplot": "mapbox",
         "type": "scattermapbox"
        },
        {
         "customdata": [
          [
           15,
           1
          ],
          [
           15,
           0
          ],
          [
           11,
           1
          ],
          [
           15,
           0
          ],
          [
           17,
           0
          ],
          [
           17,
           0
          ],
          [
           15,
           1
          ],
          [
           15,
           1
          ],
          [
           15,
           1
          ],
          [
           15,
           2
          ],
          [
           15,
           0
          ],
          [
           15,
           3
          ],
          [
           15,
           0
          ],
          [
           15,
           0
          ],
          [
           15,
           0
          ],
          [
           15,
           0
          ],
          [
           15,
           2
          ],
          [
           17,
           0
          ],
          [
           15,
           0
          ],
          [
           15,
           0
          ],
          [
           15,
           0
          ],
          [
           17,
           0
          ],
          [
           19,
           1
          ],
          [
           17,
           0
          ],
          [
           17,
           1
          ],
          [
           17,
           0
          ],
          [
           15,
           1
          ]
         ],
         "hovertemplate": "<b>%{hovertext}</b><br><br>REGION_NAME=Prince George's County<br>CAPACITY=%{customdata[0]}<br>LATITUDE=%{lat}<br>LONGITUDE=%{lon}<br>NUM_EBIKES_AVAILABLE=%{customdata[1]}<extra></extra>",
         "hovertext": [
          "Roosevelt Center & Crescent Rd",
          "Crescent Rd & Ridge Rd",
          "Greenbelt Station Parkway",
          "1301 McCormick Dr / Wayne K. Curry Admin Bldg",
          "Largo Town Center Metro",
          "Baltimore Ave & Van Buren St / Riverdale Park Station",
          "Baltimore Ave & Jefferson St",
          "Perry & 35th St",
          "Largo Rd & Campus Way / Prince Georges's Comm Col",
          "Fleet St & Waterfront St",
          "Oxon Hill Park & Ride",
          "Oglethorpe St & 42nd Ave",
          "Southern Ave Metro",
          "Queens Chapel & Hamilton St",
          "Northwestern High School",
          "New Hampshire Ave & East-West Hwy",
          "Rhode Island Ave & 39th St / Brentwood Arts Exchange",
          "Riggs Rd & East West Hwy",
          "Tanger Outlets",
          "Chillum Rd & Riggs Rd / Riggs Plaza",
          "Hyattsville Library / Adelphi Rd & Toledo Rd",
          "West Hyattsville Metro",
          "Capitol Heights Metro",
          "Prince George's Plaza Metro",
          "Riverdale Park Town Center",
          "The Mall at Prince Georges",
          "National Harbor Carousel"
         ],
         "lat": [
          39.00031,
          39.006191,
          39.002459,
          38.908391,
          38.899811,
          38.969581,
          38.95548,
          38.936213,
          38.88994,
          38.782633,
          38.798749,
          38.959361,
          38.840107,
          38.9546,
          38.975505,
          38.974205,
          38.939271,
          38.9725,
          38.7968,
          38.961737,
          38.9698,
          38.955349,
          38.888524,
          38.965742,
          38.962119,
          38.968842,
          38.7859
         ],
         "legendgroup": "Prince George's County",
         "lon": [
          -76.878005,
          -76.891247,
          -76.916243,
          -76.843263,
          -76.844604,
          -76.937349,
          -76.940133,
          -76.960054,
          -76.825535,
          -77.016059,
          -77.00103,
          -76.946361,
          -76.9753,
          -76.9595,
          -76.952199,
          -76.995227,
          -76.955047,
          -76.9807,
          -77.0026,
          -76.995922,
          -76.9493,
          -76.968084,
          -76.913188,
          -76.954803,
          -76.935578,
          -76.954171,
          -77.0167
         ],
         "marker": {
          "color": "#19d3f3",
          "size": [
           15,
           15,
           11,
           15,
           17,
           17,
           15,
           15,
           15,
           15,
           15,
           15,
           15,
           15,
           15,
           15,
           15,
           17,
           15,
           15,
           15,
           17,
           19,
           17,
           17,
           17,
           15
          ],
          "sizemode": "area",
          "sizeref": 0.55
         },
         "mode": "markers",
         "name": "Prince George's County",
         "showlegend": true,
         "subplot": "mapbox",
         "type": "scattermapbox"
        },
        {
         "customdata": [
          [
           12,
           0
          ],
          [
           12,
           0
          ],
          [
           12,
           0
          ],
          [
           12,
           0
          ],
          [
           12,
           0
          ],
          [
           12,
           0
          ],
          [
           12,
           0
          ],
          [
           12,
           0
          ],
          [
           12,
           0
          ],
          [
           12,
           0
          ],
          [
           12,
           0
          ],
          [
           12,
           0
          ],
          [
           12,
           1
          ],
          [
           12,
           0
          ],
          [
           12,
           0
          ],
          [
           12,
           0
          ],
          [
           12,
           0
          ],
          [
           11,
           0
          ],
          [
           12,
           0
          ],
          [
           15,
           1
          ],
          [
           11,
           0
          ],
          [
           11,
           1
          ],
          [
           11,
           0
          ],
          [
           11,
           0
          ],
          [
           13,
           0
          ],
          [
           11,
           0
          ],
          [
           11,
           0
          ],
          [
           11,
           0
          ],
          [
           15,
           0
          ],
          [
           15,
           0
          ],
          [
           15,
           1
          ],
          [
           15,
           0
          ],
          [
           17,
           1
          ],
          [
           19,
           0
          ],
          [
           19,
           0
          ],
          [
           15,
           0
          ],
          [
           15,
           0
          ],
          [
           15,
           0
          ],
          [
           11,
           0
          ],
          [
           11,
           0
          ],
          [
           11,
           0
          ],
          [
           11,
           0
          ],
          [
           11,
           0
          ],
          [
           15,
           0
          ],
          [
           13,
           0
          ],
          [
           11,
           0
          ],
          [
           11,
           0
          ],
          [
           19,
           0
          ],
          [
           19,
           3
          ],
          [
           19,
           1
          ],
          [
           11,
           0
          ],
          [
           11,
           1
          ],
          [
           11,
           0
          ],
          [
           11,
           1
          ]
         ],
         "hovertemplate": "<b>%{hovertext}</b><br><br>REGION_NAME=Fairfax, VA<br>CAPACITY=%{customdata[0]}<br>LATITUDE=%{lat}<br>LONGITUDE=%{lon}<br>NUM_EBIKES_AVAILABLE=%{customdata[1]}<extra></extra>",
         "hovertext": [
          "Baron Cameron Ave & North Hampton Ave",
          "Ridge Heights Rd & Seahawks Dr",
          "Becontree Ln & Goldenrain Ct",
          "Ring Rd & North Shore Dr",
          "Reston Pkwy & Bennington Woods Rd",
          "Inlet Ct & Wiehle Dr",
          "Fairway Dr & Hook Rd",
          "Vantage Hill Rd & Wainwright Dr",
          "Links Dr & Wedge Dr",
          "Golf Course Sq and Golf Course Dr",
          "South Lakes Dr and Reston Pkwy",
          "Olde Crafts Dr and Cartwright Pl",
          "Green Range Dr and Glade Dr",
          "South Gate Community Center",
          "Lake Newport Rd and Autumn Ridge Cir",
          "Ridge Heights and Owl Cove Ln",
          "Soapstone Dr Convenience Center",
          "Hartland Rd & Harte Pl",
          "North Village and Park Garden",
          "Spring Hill Metro",
          "Westpark Dr & Leesburg Pike",
          "Tysons One Pl & Chain Bridge Rd",
          "Tysons Corner Station",
          "Westpark & Jones Branch Dr",
          "Jones Branch & Westbranch Dr",
          "Westpark & Park Run Dr",
          "Tysons West Transit Center",
          "North Shore & Cameron Crescent Dr/Crescent Apartments",
          "Town Center Pkwy & Bowman Towne Dr",
          "Reston Regional Library",
          "New Dominion Pkwy & Fountain Dr",
          "Sunset Hills & Old Reston Ave",
          "Reston Town Center Transit Station",
          "Wiehle Ave & Reston Station Blvd",
          "Library St & Freedom Dr",
          "Sunset Hills Rd & Discovery Square",
          "Temporary Rd & Old Reston Ave",
          "Reston YMCA",
          "Sunset Hills Rd & Isaac Newton Square",
          "Greensboro & International Dr",
          "Towers Crescent Dr & Tysons One Pl",
          "North Shore Dr & Village Rd",
          "Town Center Pkwy & Sunset Hills Rd",
          "Reston Pkwy & Spectrum Dr",
          "Greensboro & Pinnacle Dr",
          "Campus Commons",
          "Park Run & Onyx Dr",
          "McLean Metro",
          "Dunn Loring Metro",
          "West Falls Church Metro",
          "Jones Branch Drive & Scotts Crossing Rd",
          "Merrilee Dr & Lauren Elizabeth Lane",
          "Merrifield Cinema & Merrifield Town Center",
          "Vy Reston Heights"
         ],
         "lat": [
          38.966344,
          38.936061,
          38.966848,
          38.970807,
          38.973625,
          38.965979,
          38.963314,
          38.9667,
          38.959025,
          38.944013,
          38.94335,
          38.938797,
          38.937146,
          38.941496,
          38.978503,
          38.933923,
          38.93051,
          38.878601,
          38.983199,
          38.929261,
          38.92403,
          38.919475,
          38.920939,
          38.924437,
          38.931911,
          38.928919,
          38.932636,
          38.970046,
          38.962524,
          38.962095,
          38.960574,
          38.955079,
          38.957037,
          38.946608,
          38.959633,
          38.95534,
          38.960084,
          38.955314,
          38.951443,
          38.923083,
          38.915246,
          38.970412,
          38.955171,
          38.964208,
          38.92245,
          38.944707,
          38.92755,
          38.924002,
          38.8828,
          38.9001,
          38.928502,
          38.879355,
          38.870093,
          38.949008
         ],
         "legendgroup": "Fairfax, VA",
         "lon": [
          -77.359341,
          -77.337775,
          -77.329282,
          -77.326761,
          -77.351837,
          -77.334359,
          -77.342546,
          -77.348487,
          -77.339295,
          -77.353552,
          -77.362304,
          -77.354067,
          -77.367868,
          -77.366499,
          -77.353454,
          -77.331653,
          -77.345874,
          -77.222808,
          -77.341823,
          -77.240654,
          -77.235955,
          -77.221179,
          -77.222115,
          -77.217664,
          -77.219261,
          -77.225394,
          -77.231825,
          -77.338686,
          -77.361902,
          -77.358815,
          -77.356324,
          -77.351649,
          -77.359718,
          -77.339391,
          -77.358741,
          -77.357611,
          -77.353414,
          -77.368416,
          -77.340377,
          -77.227417,
          -77.220157,
          -77.340787,
          -77.363094,
          -77.35428,
          -77.23034,
          -77.335425,
          -77.226644,
          -77.208127,
          -77.2283,
          -77.1887,
          -77.215624,
          -77.230681,
          -77.22997,
          -77.355299
         ],
         "marker": {
          "color": "#FF6692",
          "size": [
           12,
           12,
           12,
           12,
           12,
           12,
           12,
           12,
           12,
           12,
           12,
           12,
           12,
           12,
           12,
           12,
           12,
           11,
           12,
           15,
           11,
           11,
           11,
           11,
           13,
           11,
           11,
           11,
           15,
           15,
           15,
           15,
           17,
           19,
           19,
           15,
           15,
           15,
           11,
           11,
           11,
           11,
           11,
           15,
           13,
           11,
           11,
           19,
           19,
           19,
           11,
           11,
           11,
           11
          ],
          "sizemode": "area",
          "sizeref": 0.55
         },
         "mode": "markers",
         "name": "Fairfax, VA",
         "showlegend": true,
         "subplot": "mapbox",
         "type": "scattermapbox"
        },
        {
         "customdata": [
          [
           12,
           3
          ],
          [
           12,
           0
          ],
          [
           12,
           0
          ],
          [
           12,
           0
          ],
          [
           12,
           2
          ],
          [
           12,
           0
          ],
          [
           12,
           0
          ],
          [
           12,
           1
          ],
          [
           12,
           0
          ],
          [
           12,
           0
          ]
         ],
         "hovertemplate": "<b>%{hovertext}</b><br><br>REGION_NAME=Falls Church, VA<br>CAPACITY=%{customdata[0]}<br>LATITUDE=%{lat}<br>LONGITUDE=%{lon}<br>NUM_EBIKES_AVAILABLE=%{customdata[1]}<extra></extra>",
         "hovertext": [
          "Meridian High School / Haycock Rd & Leesburg Pike",
          "State Theatre / Park Pl & N Washington St",
          "N Oak St & W Broad St",
          "Pennsylvania Ave & Park Ave",
          "E Fairfax St & S Washington St",
          "N Roosevelt St & Roosevelt Blvd",
          "W Broad St & Little Falls St",
          "S Maple Ave & S Washington St",
          "Falls Church City Hall / Park Ave & Little Falls St",
          "W Columbia St & N Washington St"
         ],
         "lat": [
          38.896419,
          38.882746,
          38.88837,
          38.887403,
          38.880612,
          38.878085,
          38.883601,
          38.87972,
          38.885434,
          38.885621
         ],
         "legendgroup": "Falls Church, VA",
         "lon": [
          -77.192688,
          -77.170032,
          -77.179832,
          -77.176992,
          -77.171891,
          -77.153953,
          -77.173438,
          -77.178408,
          -77.173605,
          -77.166917
         ],
         "marker": {
          "color": "#B6E880",
          "size": [
           12,
           12,
           12,
           12,
           12,
           12,
           12,
           12,
           12,
           12
          ],
          "sizemode": "area",
          "sizeref": 0.55
         },
         "mode": "markers",
         "name": "Falls Church, VA",
         "showlegend": true,
         "subplot": "mapbox",
         "type": "scattermapbox"
        }
       ],
       "layout": {
        "legend": {
         "itemsizing": "constant",
         "title": {
          "text": "REGION_NAME"
         },
         "tracegroupgap": 0
        },
        "mapbox": {
         "center": {
          "lat": 38.91283915828403,
          "lon": -77.06393773964497
         },
         "domain": {
          "x": [
           0,
           1
          ],
          "y": [
           0,
           1
          ]
         },
         "style": "open-street-map",
         "zoom": 10
        },
        "margin": {
         "b": 0,
         "l": 0,
         "r": 0,
         "t": 0
        },
        "template": {
         "data": {
          "bar": [
           {
            "error_x": {
             "color": "#2a3f5f"
            },
            "error_y": {
             "color": "#2a3f5f"
            },
            "marker": {
             "line": {
              "color": "#E5ECF6",
              "width": 0.5
             },
             "pattern": {
              "fillmode": "overlay",
              "size": 10,
              "solidity": 0.2
             }
            },
            "type": "bar"
           }
          ],
          "barpolar": [
           {
            "marker": {
             "line": {
              "color": "#E5ECF6",
              "width": 0.5
             },
             "pattern": {
              "fillmode": "overlay",
              "size": 10,
              "solidity": 0.2
             }
            },
            "type": "barpolar"
           }
          ],
          "carpet": [
           {
            "aaxis": {
             "endlinecolor": "#2a3f5f",
             "gridcolor": "white",
             "linecolor": "white",
             "minorgridcolor": "white",
             "startlinecolor": "#2a3f5f"
            },
            "baxis": {
             "endlinecolor": "#2a3f5f",
             "gridcolor": "white",
             "linecolor": "white",
             "minorgridcolor": "white",
             "startlinecolor": "#2a3f5f"
            },
            "type": "carpet"
           }
          ],
          "choropleth": [
           {
            "colorbar": {
             "outlinewidth": 0,
             "ticks": ""
            },
            "type": "choropleth"
           }
          ],
          "contour": [
           {
            "colorbar": {
             "outlinewidth": 0,
             "ticks": ""
            },
            "colorscale": [
             [
              0,
              "#0d0887"
             ],
             [
              0.1111111111111111,
              "#46039f"
             ],
             [
              0.2222222222222222,
              "#7201a8"
             ],
             [
              0.3333333333333333,
              "#9c179e"
             ],
             [
              0.4444444444444444,
              "#bd3786"
             ],
             [
              0.5555555555555556,
              "#d8576b"
             ],
             [
              0.6666666666666666,
              "#ed7953"
             ],
             [
              0.7777777777777778,
              "#fb9f3a"
             ],
             [
              0.8888888888888888,
              "#fdca26"
             ],
             [
              1,
              "#f0f921"
             ]
            ],
            "type": "contour"
           }
          ],
          "contourcarpet": [
           {
            "colorbar": {
             "outlinewidth": 0,
             "ticks": ""
            },
            "type": "contourcarpet"
           }
          ],
          "heatmap": [
           {
            "colorbar": {
             "outlinewidth": 0,
             "ticks": ""
            },
            "colorscale": [
             [
              0,
              "#0d0887"
             ],
             [
              0.1111111111111111,
              "#46039f"
             ],
             [
              0.2222222222222222,
              "#7201a8"
             ],
             [
              0.3333333333333333,
              "#9c179e"
             ],
             [
              0.4444444444444444,
              "#bd3786"
             ],
             [
              0.5555555555555556,
              "#d8576b"
             ],
             [
              0.6666666666666666,
              "#ed7953"
             ],
             [
              0.7777777777777778,
              "#fb9f3a"
             ],
             [
              0.8888888888888888,
              "#fdca26"
             ],
             [
              1,
              "#f0f921"
             ]
            ],
            "type": "heatmap"
           }
          ],
          "heatmapgl": [
           {
            "colorbar": {
             "outlinewidth": 0,
             "ticks": ""
            },
            "colorscale": [
             [
              0,
              "#0d0887"
             ],
             [
              0.1111111111111111,
              "#46039f"
             ],
             [
              0.2222222222222222,
              "#7201a8"
             ],
             [
              0.3333333333333333,
              "#9c179e"
             ],
             [
              0.4444444444444444,
              "#bd3786"
             ],
             [
              0.5555555555555556,
              "#d8576b"
             ],
             [
              0.6666666666666666,
              "#ed7953"
             ],
             [
              0.7777777777777778,
              "#fb9f3a"
             ],
             [
              0.8888888888888888,
              "#fdca26"
             ],
             [
              1,
              "#f0f921"
             ]
            ],
            "type": "heatmapgl"
           }
          ],
          "histogram": [
           {
            "marker": {
             "pattern": {
              "fillmode": "overlay",
              "size": 10,
              "solidity": 0.2
             }
            },
            "type": "histogram"
           }
          ],
          "histogram2d": [
           {
            "colorbar": {
             "outlinewidth": 0,
             "ticks": ""
            },
            "colorscale": [
             [
              0,
              "#0d0887"
             ],
             [
              0.1111111111111111,
              "#46039f"
             ],
             [
              0.2222222222222222,
              "#7201a8"
             ],
             [
              0.3333333333333333,
              "#9c179e"
             ],
             [
              0.4444444444444444,
              "#bd3786"
             ],
             [
              0.5555555555555556,
              "#d8576b"
             ],
             [
              0.6666666666666666,
              "#ed7953"
             ],
             [
              0.7777777777777778,
              "#fb9f3a"
             ],
             [
              0.8888888888888888,
              "#fdca26"
             ],
             [
              1,
              "#f0f921"
             ]
            ],
            "type": "histogram2d"
           }
          ],
          "histogram2dcontour": [
           {
            "colorbar": {
             "outlinewidth": 0,
             "ticks": ""
            },
            "colorscale": [
             [
              0,
              "#0d0887"
             ],
             [
              0.1111111111111111,
              "#46039f"
             ],
             [
              0.2222222222222222,
              "#7201a8"
             ],
             [
              0.3333333333333333,
              "#9c179e"
             ],
             [
              0.4444444444444444,
              "#bd3786"
             ],
             [
              0.5555555555555556,
              "#d8576b"
             ],
             [
              0.6666666666666666,
              "#ed7953"
             ],
             [
              0.7777777777777778,
              "#fb9f3a"
             ],
             [
              0.8888888888888888,
              "#fdca26"
             ],
             [
              1,
              "#f0f921"
             ]
            ],
            "type": "histogram2dcontour"
           }
          ],
          "mesh3d": [
           {
            "colorbar": {
             "outlinewidth": 0,
             "ticks": ""
            },
            "type": "mesh3d"
           }
          ],
          "parcoords": [
           {
            "line": {
             "colorbar": {
              "outlinewidth": 0,
              "ticks": ""
             }
            },
            "type": "parcoords"
           }
          ],
          "pie": [
           {
            "automargin": true,
            "type": "pie"
           }
          ],
          "scatter": [
           {
            "marker": {
             "colorbar": {
              "outlinewidth": 0,
              "ticks": ""
             }
            },
            "type": "scatter"
           }
          ],
          "scatter3d": [
           {
            "line": {
             "colorbar": {
              "outlinewidth": 0,
              "ticks": ""
             }
            },
            "marker": {
             "colorbar": {
              "outlinewidth": 0,
              "ticks": ""
             }
            },
            "type": "scatter3d"
           }
          ],
          "scattercarpet": [
           {
            "marker": {
             "colorbar": {
              "outlinewidth": 0,
              "ticks": ""
             }
            },
            "type": "scattercarpet"
           }
          ],
          "scattergeo": [
           {
            "marker": {
             "colorbar": {
              "outlinewidth": 0,
              "ticks": ""
             }
            },
            "type": "scattergeo"
           }
          ],
          "scattergl": [
           {
            "marker": {
             "colorbar": {
              "outlinewidth": 0,
              "ticks": ""
             }
            },
            "type": "scattergl"
           }
          ],
          "scattermapbox": [
           {
            "marker": {
             "colorbar": {
              "outlinewidth": 0,
              "ticks": ""
             }
            },
            "type": "scattermapbox"
           }
          ],
          "scatterpolar": [
           {
            "marker": {
             "colorbar": {
              "outlinewidth": 0,
              "ticks": ""
             }
            },
            "type": "scatterpolar"
           }
          ],
          "scatterpolargl": [
           {
            "marker": {
             "colorbar": {
              "outlinewidth": 0,
              "ticks": ""
             }
            },
            "type": "scatterpolargl"
           }
          ],
          "scatterternary": [
           {
            "marker": {
             "colorbar": {
              "outlinewidth": 0,
              "ticks": ""
             }
            },
            "type": "scatterternary"
           }
          ],
          "surface": [
           {
            "colorbar": {
             "outlinewidth": 0,
             "ticks": ""
            },
            "colorscale": [
             [
              0,
              "#0d0887"
             ],
             [
              0.1111111111111111,
              "#46039f"
             ],
             [
              0.2222222222222222,
              "#7201a8"
             ],
             [
              0.3333333333333333,
              "#9c179e"
             ],
             [
              0.4444444444444444,
              "#bd3786"
             ],
             [
              0.5555555555555556,
              "#d8576b"
             ],
             [
              0.6666666666666666,
              "#ed7953"
             ],
             [
              0.7777777777777778,
              "#fb9f3a"
             ],
             [
              0.8888888888888888,
              "#fdca26"
             ],
             [
              1,
              "#f0f921"
             ]
            ],
            "type": "surface"
           }
          ],
          "table": [
           {
            "cells": {
             "fill": {
              "color": "#EBF0F8"
             },
             "line": {
              "color": "white"
             }
            },
            "header": {
             "fill": {
              "color": "#C8D4E3"
             },
             "line": {
              "color": "white"
             }
            },
            "type": "table"
           }
          ]
         },
         "layout": {
          "annotationdefaults": {
           "arrowcolor": "#2a3f5f",
           "arrowhead": 0,
           "arrowwidth": 1
          },
          "autotypenumbers": "strict",
          "coloraxis": {
           "colorbar": {
            "outlinewidth": 0,
            "ticks": ""
           }
          },
          "colorscale": {
           "diverging": [
            [
             0,
             "#8e0152"
            ],
            [
             0.1,
             "#c51b7d"
            ],
            [
             0.2,
             "#de77ae"
            ],
            [
             0.3,
             "#f1b6da"
            ],
            [
             0.4,
             "#fde0ef"
            ],
            [
             0.5,
             "#f7f7f7"
            ],
            [
             0.6,
             "#e6f5d0"
            ],
            [
             0.7,
             "#b8e186"
            ],
            [
             0.8,
             "#7fbc41"
            ],
            [
             0.9,
             "#4d9221"
            ],
            [
             1,
             "#276419"
            ]
           ],
           "sequential": [
            [
             0,
             "#0d0887"
            ],
            [
             0.1111111111111111,
             "#46039f"
            ],
            [
             0.2222222222222222,
             "#7201a8"
            ],
            [
             0.3333333333333333,
             "#9c179e"
            ],
            [
             0.4444444444444444,
             "#bd3786"
            ],
            [
             0.5555555555555556,
             "#d8576b"
            ],
            [
             0.6666666666666666,
             "#ed7953"
            ],
            [
             0.7777777777777778,
             "#fb9f3a"
            ],
            [
             0.8888888888888888,
             "#fdca26"
            ],
            [
             1,
             "#f0f921"
            ]
           ],
           "sequentialminus": [
            [
             0,
             "#0d0887"
            ],
            [
             0.1111111111111111,
             "#46039f"
            ],
            [
             0.2222222222222222,
             "#7201a8"
            ],
            [
             0.3333333333333333,
             "#9c179e"
            ],
            [
             0.4444444444444444,
             "#bd3786"
            ],
            [
             0.5555555555555556,
             "#d8576b"
            ],
            [
             0.6666666666666666,
             "#ed7953"
            ],
            [
             0.7777777777777778,
             "#fb9f3a"
            ],
            [
             0.8888888888888888,
             "#fdca26"
            ],
            [
             1,
             "#f0f921"
            ]
           ]
          },
          "colorway": [
           "#636efa",
           "#EF553B",
           "#00cc96",
           "#ab63fa",
           "#FFA15A",
           "#19d3f3",
           "#FF6692",
           "#B6E880",
           "#FF97FF",
           "#FECB52"
          ],
          "font": {
           "color": "#2a3f5f"
          },
          "geo": {
           "bgcolor": "white",
           "lakecolor": "white",
           "landcolor": "#E5ECF6",
           "showlakes": true,
           "showland": true,
           "subunitcolor": "white"
          },
          "hoverlabel": {
           "align": "left"
          },
          "hovermode": "closest",
          "mapbox": {
           "style": "light"
          },
          "paper_bgcolor": "white",
          "plot_bgcolor": "#E5ECF6",
          "polar": {
           "angularaxis": {
            "gridcolor": "white",
            "linecolor": "white",
            "ticks": ""
           },
           "bgcolor": "#E5ECF6",
           "radialaxis": {
            "gridcolor": "white",
            "linecolor": "white",
            "ticks": ""
           }
          },
          "scene": {
           "xaxis": {
            "backgroundcolor": "#E5ECF6",
            "gridcolor": "white",
            "gridwidth": 2,
            "linecolor": "white",
            "showbackground": true,
            "ticks": "",
            "zerolinecolor": "white"
           },
           "yaxis": {
            "backgroundcolor": "#E5ECF6",
            "gridcolor": "white",
            "gridwidth": 2,
            "linecolor": "white",
            "showbackground": true,
            "ticks": "",
            "zerolinecolor": "white"
           },
           "zaxis": {
            "backgroundcolor": "#E5ECF6",
            "gridcolor": "white",
            "gridwidth": 2,
            "linecolor": "white",
            "showbackground": true,
            "ticks": "",
            "zerolinecolor": "white"
           }
          },
          "shapedefaults": {
           "line": {
            "color": "#2a3f5f"
           }
          },
          "ternary": {
           "aaxis": {
            "gridcolor": "white",
            "linecolor": "white",
            "ticks": ""
           },
           "baxis": {
            "gridcolor": "white",
            "linecolor": "white",
            "ticks": ""
           },
           "bgcolor": "#E5ECF6",
           "caxis": {
            "gridcolor": "white",
            "linecolor": "white",
            "ticks": ""
           }
          },
          "title": {
           "x": 0.05
          },
          "xaxis": {
           "automargin": true,
           "gridcolor": "white",
           "linecolor": "white",
           "ticks": "",
           "title": {
            "standoff": 15
           },
           "zerolinecolor": "white",
           "zerolinewidth": 2
          },
          "yaxis": {
           "automargin": true,
           "gridcolor": "white",
           "linecolor": "white",
           "ticks": "",
           "title": {
            "standoff": 15
           },
           "zerolinecolor": "white",
           "zerolinewidth": 2
          }
         }
        }
       }
      }
     },
     "metadata": {},
     "output_type": "display_data"
    }
   ],
   "source": [
    "fig = px.scatter_mapbox(df, lat='LATITUDE', lon='LONGITUDE', hover_name='NAME', hover_data=['CAPACITY', 'NUM_EBIKES_AVAILABLE'],\n",
    "                        color='REGION_NAME', size='CAPACITY', color_continuous_scale=px.colors.cyclical.IceFire, size_max=10, zoom=10)\n",
    "fig.update_layout(mapbox_style=\"open-street-map\")\n",
    "fig.update_layout(margin={\"r\":0,\"t\":0,\"l\":0,\"b\":0})\n",
    "fig.show()"
   ]
  },
  {
   "cell_type": "code",
   "execution_count": 6,
   "metadata": {},
   "outputs": [],
   "source": [
    "df_w = pd.read_csv('./region_wise_data/df_Washington.csv')"
   ]
  },
  {
   "cell_type": "code",
   "execution_count": 7,
   "metadata": {},
   "outputs": [
    {
     "data": {
      "text/plain": [
       "Index(['Unnamed: 0', 'Bike number', 'Start date', 'End date', 'Start station',\n",
       "       'Start station number', 'End station number', 'End station', 'LATITUDE',\n",
       "       'LONGITUDE', 'STATION_TYPE', 'STATION_ID', 'STATION_STATUS', 'CAPACITY',\n",
       "       'REGION_ID', 'REGION_NAME', '_datetime', '_date', '_year'],\n",
       "      dtype='object')"
      ]
     },
     "execution_count": 7,
     "metadata": {},
     "output_type": "execute_result"
    }
   ],
   "source": [
    "df_w.columns"
   ]
  },
  {
   "cell_type": "code",
   "execution_count": 45,
   "metadata": {},
   "outputs": [],
   "source": [
    "df_region = pd.DataFrame()"
   ]
  },
  {
   "cell_type": "code",
   "execution_count": 46,
   "metadata": {},
   "outputs": [],
   "source": [
    "df_region = df_w.groupby(['Start station number', 'Start station']).size().reset_index()"
   ]
  },
  {
   "cell_type": "code",
   "execution_count": 47,
   "metadata": {},
   "outputs": [],
   "source": [
    "df_region = df_region.set_index('Start station')"
   ]
  },
  {
   "cell_type": "code",
   "execution_count": 48,
   "metadata": {},
   "outputs": [
    {
     "data": {
      "text/html": [
       "<div>\n",
       "<style scoped>\n",
       "    .dataframe tbody tr th:only-of-type {\n",
       "        vertical-align: middle;\n",
       "    }\n",
       "\n",
       "    .dataframe tbody tr th {\n",
       "        vertical-align: top;\n",
       "    }\n",
       "\n",
       "    .dataframe thead th {\n",
       "        text-align: right;\n",
       "    }\n",
       "</style>\n",
       "<table border=\"1\" class=\"dataframe\">\n",
       "  <thead>\n",
       "    <tr style=\"text-align: right;\">\n",
       "      <th></th>\n",
       "      <th>Start station number</th>\n",
       "      <th>0</th>\n",
       "    </tr>\n",
       "    <tr>\n",
       "      <th>Start station</th>\n",
       "      <th></th>\n",
       "      <th></th>\n",
       "    </tr>\n",
       "  </thead>\n",
       "  <tbody>\n",
       "    <tr>\n",
       "      <th>22nd &amp; H St NW</th>\n",
       "      <td>0.0</td>\n",
       "      <td>498</td>\n",
       "    </tr>\n",
       "    <tr>\n",
       "      <th>19th St &amp; Pennsylvania Ave NW</th>\n",
       "      <td>31100.0</td>\n",
       "      <td>104428</td>\n",
       "    </tr>\n",
       "    <tr>\n",
       "      <th>14th &amp; V St NW</th>\n",
       "      <td>31101.0</td>\n",
       "      <td>323347</td>\n",
       "    </tr>\n",
       "    <tr>\n",
       "      <th>11th &amp; Kenyon St NW</th>\n",
       "      <td>31102.0</td>\n",
       "      <td>171819</td>\n",
       "    </tr>\n",
       "    <tr>\n",
       "      <th>16th &amp; Harvard St NW</th>\n",
       "      <td>31103.0</td>\n",
       "      <td>219040</td>\n",
       "    </tr>\n",
       "    <tr>\n",
       "      <th>...</th>\n",
       "      <td>...</td>\n",
       "      <td>...</td>\n",
       "    </tr>\n",
       "    <tr>\n",
       "      <th>United Medical Center</th>\n",
       "      <td>31823.0</td>\n",
       "      <td>260</td>\n",
       "    </tr>\n",
       "    <tr>\n",
       "      <th>Valley Ave &amp; Wheeler Rd SE</th>\n",
       "      <td>31824.0</td>\n",
       "      <td>766</td>\n",
       "    </tr>\n",
       "    <tr>\n",
       "      <th>Fort Stanton Rec Center</th>\n",
       "      <td>31825.0</td>\n",
       "      <td>238</td>\n",
       "    </tr>\n",
       "    <tr>\n",
       "      <th>Minnesota Ave &amp; R St SE</th>\n",
       "      <td>31826.0</td>\n",
       "      <td>1215</td>\n",
       "    </tr>\n",
       "    <tr>\n",
       "      <th>St. Elizabeths West Campus/DHS</th>\n",
       "      <td>31827.0</td>\n",
       "      <td>235</td>\n",
       "    </tr>\n",
       "  </tbody>\n",
       "</table>\n",
       "<p>336 rows × 2 columns</p>\n",
       "</div>"
      ],
      "text/plain": [
       "                                 Start station number       0\n",
       "Start station                                                \n",
       "22nd & H St NW                                    0.0     498\n",
       "19th St & Pennsylvania Ave NW                 31100.0  104428\n",
       "14th & V St NW                                31101.0  323347\n",
       "11th & Kenyon St NW                           31102.0  171819\n",
       "16th & Harvard St NW                          31103.0  219040\n",
       "...                                               ...     ...\n",
       "United Medical Center                         31823.0     260\n",
       "Valley Ave & Wheeler Rd SE                    31824.0     766\n",
       "Fort Stanton Rec Center                       31825.0     238\n",
       "Minnesota Ave & R St SE                       31826.0    1215\n",
       "St. Elizabeths West Campus/DHS                31827.0     235\n",
       "\n",
       "[336 rows x 2 columns]"
      ]
     },
     "execution_count": 48,
     "metadata": {},
     "output_type": "execute_result"
    }
   ],
   "source": [
    "df_region"
   ]
  },
  {
   "cell_type": "code",
   "execution_count": 49,
   "metadata": {},
   "outputs": [],
   "source": [
    "df_join = df.set_index('NAME')"
   ]
  },
  {
   "cell_type": "code",
   "execution_count": 50,
   "metadata": {},
   "outputs": [
    {
     "data": {
      "text/html": [
       "<div>\n",
       "<style scoped>\n",
       "    .dataframe tbody tr th:only-of-type {\n",
       "        vertical-align: middle;\n",
       "    }\n",
       "\n",
       "    .dataframe tbody tr th {\n",
       "        vertical-align: top;\n",
       "    }\n",
       "\n",
       "    .dataframe thead th {\n",
       "        text-align: right;\n",
       "    }\n",
       "</style>\n",
       "<table border=\"1\" class=\"dataframe\">\n",
       "  <thead>\n",
       "    <tr style=\"text-align: right;\">\n",
       "      <th></th>\n",
       "      <th>X</th>\n",
       "      <th>Y</th>\n",
       "      <th>OBJECTID</th>\n",
       "      <th>LATITUDE</th>\n",
       "      <th>LONGITUDE</th>\n",
       "      <th>STATION_TYPE</th>\n",
       "      <th>STATION_ID</th>\n",
       "      <th>STATION_STATUS</th>\n",
       "      <th>LAST_REPORTED</th>\n",
       "      <th>NUM_DOCKS_AVAILABLE</th>\n",
       "      <th>...</th>\n",
       "      <th>IOS</th>\n",
       "      <th>ANDROID</th>\n",
       "      <th>ELECTRIC_BIKE_SURCHARGE_WAIVER</th>\n",
       "      <th>EIGHTD_HAS_KEY_DISPENSER</th>\n",
       "      <th>CAPACITY</th>\n",
       "      <th>RENTAL_METHODS</th>\n",
       "      <th>REGION_ID</th>\n",
       "      <th>GIS_LAST_MOD_DTTM</th>\n",
       "      <th>GIS_ID</th>\n",
       "      <th>REGION_NAME</th>\n",
       "    </tr>\n",
       "    <tr>\n",
       "      <th>NAME</th>\n",
       "      <th></th>\n",
       "      <th></th>\n",
       "      <th></th>\n",
       "      <th></th>\n",
       "      <th></th>\n",
       "      <th></th>\n",
       "      <th></th>\n",
       "      <th></th>\n",
       "      <th></th>\n",
       "      <th></th>\n",
       "      <th></th>\n",
       "      <th></th>\n",
       "      <th></th>\n",
       "      <th></th>\n",
       "      <th></th>\n",
       "      <th></th>\n",
       "      <th></th>\n",
       "      <th></th>\n",
       "      <th></th>\n",
       "      <th></th>\n",
       "      <th></th>\n",
       "    </tr>\n",
       "  </thead>\n",
       "  <tbody>\n",
       "    <tr>\n",
       "      <th>Eads St &amp; 15th St S</th>\n",
       "      <td>-77.053232</td>\n",
       "      <td>38.858978</td>\n",
       "      <td>26013744</td>\n",
       "      <td>38.858971</td>\n",
       "      <td>-77.053230</td>\n",
       "      <td>classic</td>\n",
       "      <td>1</td>\n",
       "      <td>active</td>\n",
       "      <td>2022/03/25 08:28:21+00</td>\n",
       "      <td>15</td>\n",
       "      <td>...</td>\n",
       "      <td>https://dc.lft.to/lastmile_qr_scan</td>\n",
       "      <td>https://dc.lft.to/lastmile_qr_scan</td>\n",
       "      <td>No</td>\n",
       "      <td>No</td>\n",
       "      <td>15</td>\n",
       "      <td>KEY,CREDITCARD</td>\n",
       "      <td>41</td>\n",
       "      <td>2022/03/25 10:27:44+00</td>\n",
       "      <td>NaN</td>\n",
       "      <td>Arlington, VA</td>\n",
       "    </tr>\n",
       "    <tr>\n",
       "      <th>Crystal Dr &amp; 20th St S</th>\n",
       "      <td>-77.049232</td>\n",
       "      <td>38.856430</td>\n",
       "      <td>26013745</td>\n",
       "      <td>38.856425</td>\n",
       "      <td>-77.049232</td>\n",
       "      <td>classic</td>\n",
       "      <td>3</td>\n",
       "      <td>active</td>\n",
       "      <td>2022/03/25 10:03:17+00</td>\n",
       "      <td>13</td>\n",
       "      <td>...</td>\n",
       "      <td>https://dc.lft.to/lastmile_qr_scan</td>\n",
       "      <td>https://dc.lft.to/lastmile_qr_scan</td>\n",
       "      <td>No</td>\n",
       "      <td>No</td>\n",
       "      <td>17</td>\n",
       "      <td>KEY,CREDITCARD</td>\n",
       "      <td>41</td>\n",
       "      <td>2022/03/25 10:27:44+00</td>\n",
       "      <td>NaN</td>\n",
       "      <td>Arlington, VA</td>\n",
       "    </tr>\n",
       "    <tr>\n",
       "      <th>Crystal Dr &amp; 15th St S</th>\n",
       "      <td>-77.049420</td>\n",
       "      <td>38.861060</td>\n",
       "      <td>26013746</td>\n",
       "      <td>38.861056</td>\n",
       "      <td>-77.049417</td>\n",
       "      <td>classic</td>\n",
       "      <td>4</td>\n",
       "      <td>active</td>\n",
       "      <td>2022/03/25 09:55:06+00</td>\n",
       "      <td>1</td>\n",
       "      <td>...</td>\n",
       "      <td>https://dc.lft.to/lastmile_qr_scan</td>\n",
       "      <td>https://dc.lft.to/lastmile_qr_scan</td>\n",
       "      <td>No</td>\n",
       "      <td>No</td>\n",
       "      <td>16</td>\n",
       "      <td>KEY,CREDITCARD</td>\n",
       "      <td>41</td>\n",
       "      <td>2022/03/25 10:27:44+00</td>\n",
       "      <td>NaN</td>\n",
       "      <td>Arlington, VA</td>\n",
       "    </tr>\n",
       "    <tr>\n",
       "      <th>Aurora Hills Cmty Ctr / 18th St &amp; S Hayes St</th>\n",
       "      <td>-77.059487</td>\n",
       "      <td>38.857876</td>\n",
       "      <td>26013747</td>\n",
       "      <td>38.857866</td>\n",
       "      <td>-77.059490</td>\n",
       "      <td>classic</td>\n",
       "      <td>5</td>\n",
       "      <td>active</td>\n",
       "      <td>2022/03/25 08:45:00+00</td>\n",
       "      <td>6</td>\n",
       "      <td>...</td>\n",
       "      <td>https://dc.lft.to/lastmile_qr_scan</td>\n",
       "      <td>https://dc.lft.to/lastmile_qr_scan</td>\n",
       "      <td>No</td>\n",
       "      <td>No</td>\n",
       "      <td>12</td>\n",
       "      <td>KEY,CREDITCARD</td>\n",
       "      <td>41</td>\n",
       "      <td>2022/03/25 10:27:44+00</td>\n",
       "      <td>NaN</td>\n",
       "      <td>Arlington, VA</td>\n",
       "    </tr>\n",
       "    <tr>\n",
       "      <th>Pentagon City Metro / 12th St &amp; S Hayes St</th>\n",
       "      <td>-77.059940</td>\n",
       "      <td>38.862308</td>\n",
       "      <td>26013748</td>\n",
       "      <td>38.862303</td>\n",
       "      <td>-77.059936</td>\n",
       "      <td>classic</td>\n",
       "      <td>6</td>\n",
       "      <td>active</td>\n",
       "      <td>2022/03/25 07:57:43+00</td>\n",
       "      <td>9</td>\n",
       "      <td>...</td>\n",
       "      <td>https://dc.lft.to/lastmile_qr_scan</td>\n",
       "      <td>https://dc.lft.to/lastmile_qr_scan</td>\n",
       "      <td>No</td>\n",
       "      <td>No</td>\n",
       "      <td>19</td>\n",
       "      <td>KEY,CREDITCARD</td>\n",
       "      <td>41</td>\n",
       "      <td>2022/03/25 10:27:44+00</td>\n",
       "      <td>NaN</td>\n",
       "      <td>Arlington, VA</td>\n",
       "    </tr>\n",
       "    <tr>\n",
       "      <th>...</th>\n",
       "      <td>...</td>\n",
       "      <td>...</td>\n",
       "      <td>...</td>\n",
       "      <td>...</td>\n",
       "      <td>...</td>\n",
       "      <td>...</td>\n",
       "      <td>...</td>\n",
       "      <td>...</td>\n",
       "      <td>...</td>\n",
       "      <td>...</td>\n",
       "      <td>...</td>\n",
       "      <td>...</td>\n",
       "      <td>...</td>\n",
       "      <td>...</td>\n",
       "      <td>...</td>\n",
       "      <td>...</td>\n",
       "      <td>...</td>\n",
       "      <td>...</td>\n",
       "      <td>...</td>\n",
       "      <td>...</td>\n",
       "      <td>...</td>\n",
       "    </tr>\n",
       "    <tr>\n",
       "      <th>Mt Vernon Trail &amp; S. Washington St.</th>\n",
       "      <td>-77.049442</td>\n",
       "      <td>38.793073</td>\n",
       "      <td>26014415</td>\n",
       "      <td>38.793065</td>\n",
       "      <td>-77.049436</td>\n",
       "      <td>classic</td>\n",
       "      <td>630</td>\n",
       "      <td>active</td>\n",
       "      <td>2022/03/25 10:10:09+00</td>\n",
       "      <td>4</td>\n",
       "      <td>...</td>\n",
       "      <td>https://dc.lft.to/lastmile_qr_scan</td>\n",
       "      <td>https://dc.lft.to/lastmile_qr_scan</td>\n",
       "      <td>No</td>\n",
       "      <td>No</td>\n",
       "      <td>15</td>\n",
       "      <td>KEY,CREDITCARD</td>\n",
       "      <td>40</td>\n",
       "      <td>2022/03/25 10:27:45+00</td>\n",
       "      <td>NaN</td>\n",
       "      <td>Alexandria, VA</td>\n",
       "    </tr>\n",
       "    <tr>\n",
       "      <th>Eisenhower Ave &amp; Ike Dr</th>\n",
       "      <td>-77.082466</td>\n",
       "      <td>38.802748</td>\n",
       "      <td>26014416</td>\n",
       "      <td>38.802738</td>\n",
       "      <td>-77.082463</td>\n",
       "      <td>classic</td>\n",
       "      <td>632</td>\n",
       "      <td>active</td>\n",
       "      <td>2022/03/24 04:59:39+00</td>\n",
       "      <td>14</td>\n",
       "      <td>...</td>\n",
       "      <td>https://dc.lft.to/lastmile_qr_scan</td>\n",
       "      <td>https://dc.lft.to/lastmile_qr_scan</td>\n",
       "      <td>No</td>\n",
       "      <td>No</td>\n",
       "      <td>15</td>\n",
       "      <td>KEY,CREDITCARD</td>\n",
       "      <td>40</td>\n",
       "      <td>2022/03/25 10:27:45+00</td>\n",
       "      <td>NaN</td>\n",
       "      <td>Alexandria, VA</td>\n",
       "    </tr>\n",
       "    <tr>\n",
       "      <th>Capitol Ave &amp; Kendall St NE</th>\n",
       "      <td>-76.985855</td>\n",
       "      <td>38.911003</td>\n",
       "      <td>26014417</td>\n",
       "      <td>38.910993</td>\n",
       "      <td>-76.985854</td>\n",
       "      <td>classic</td>\n",
       "      <td>633</td>\n",
       "      <td>active</td>\n",
       "      <td>2022/03/25 08:23:35+00</td>\n",
       "      <td>5</td>\n",
       "      <td>...</td>\n",
       "      <td>https://dc.lft.to/lastmile_qr_scan</td>\n",
       "      <td>https://dc.lft.to/lastmile_qr_scan</td>\n",
       "      <td>No</td>\n",
       "      <td>No</td>\n",
       "      <td>19</td>\n",
       "      <td>KEY,CREDITCARD</td>\n",
       "      <td>42</td>\n",
       "      <td>2022/03/25 10:27:45+00</td>\n",
       "      <td>NaN</td>\n",
       "      <td>Washington, DC</td>\n",
       "    </tr>\n",
       "    <tr>\n",
       "      <th>14th &amp; D St SE</th>\n",
       "      <td>-76.986391</td>\n",
       "      <td>38.884068</td>\n",
       "      <td>26014418</td>\n",
       "      <td>38.884058</td>\n",
       "      <td>-76.986385</td>\n",
       "      <td>classic</td>\n",
       "      <td>634</td>\n",
       "      <td>active</td>\n",
       "      <td>2022/03/25 10:03:58+00</td>\n",
       "      <td>18</td>\n",
       "      <td>...</td>\n",
       "      <td>https://dc.lft.to/lastmile_qr_scan</td>\n",
       "      <td>https://dc.lft.to/lastmile_qr_scan</td>\n",
       "      <td>No</td>\n",
       "      <td>No</td>\n",
       "      <td>19</td>\n",
       "      <td>KEY,CREDITCARD</td>\n",
       "      <td>42</td>\n",
       "      <td>2022/03/25 10:27:45+00</td>\n",
       "      <td>NaN</td>\n",
       "      <td>Washington, DC</td>\n",
       "    </tr>\n",
       "    <tr>\n",
       "      <th>Half &amp; Water St SW</th>\n",
       "      <td>-77.010557</td>\n",
       "      <td>38.866286</td>\n",
       "      <td>26014419</td>\n",
       "      <td>38.866277</td>\n",
       "      <td>-77.010551</td>\n",
       "      <td>classic</td>\n",
       "      <td>636</td>\n",
       "      <td>active</td>\n",
       "      <td>2022/03/25 09:33:41+00</td>\n",
       "      <td>9</td>\n",
       "      <td>...</td>\n",
       "      <td>https://dc.lft.to/lastmile_qr_scan</td>\n",
       "      <td>https://dc.lft.to/lastmile_qr_scan</td>\n",
       "      <td>No</td>\n",
       "      <td>No</td>\n",
       "      <td>15</td>\n",
       "      <td>KEY,CREDITCARD</td>\n",
       "      <td>42</td>\n",
       "      <td>2022/03/25 10:27:45+00</td>\n",
       "      <td>NaN</td>\n",
       "      <td>Washington, DC</td>\n",
       "    </tr>\n",
       "  </tbody>\n",
       "</table>\n",
       "<p>676 rows × 28 columns</p>\n",
       "</div>"
      ],
      "text/plain": [
       "                                                      X          Y  OBJECTID  \\\n",
       "NAME                                                                           \n",
       "Eads St & 15th St S                          -77.053232  38.858978  26013744   \n",
       "Crystal Dr & 20th St S                       -77.049232  38.856430  26013745   \n",
       "Crystal Dr & 15th St S                       -77.049420  38.861060  26013746   \n",
       "Aurora Hills Cmty Ctr / 18th St & S Hayes St -77.059487  38.857876  26013747   \n",
       "Pentagon City Metro / 12th St & S Hayes St   -77.059940  38.862308  26013748   \n",
       "...                                                 ...        ...       ...   \n",
       "Mt Vernon Trail & S. Washington St.          -77.049442  38.793073  26014415   \n",
       "Eisenhower Ave & Ike Dr                      -77.082466  38.802748  26014416   \n",
       "Capitol Ave & Kendall St NE                  -76.985855  38.911003  26014417   \n",
       "14th & D St SE                               -76.986391  38.884068  26014418   \n",
       "Half & Water St SW                           -77.010557  38.866286  26014419   \n",
       "\n",
       "                                               LATITUDE  LONGITUDE  \\\n",
       "NAME                                                                 \n",
       "Eads St & 15th St S                           38.858971 -77.053230   \n",
       "Crystal Dr & 20th St S                        38.856425 -77.049232   \n",
       "Crystal Dr & 15th St S                        38.861056 -77.049417   \n",
       "Aurora Hills Cmty Ctr / 18th St & S Hayes St  38.857866 -77.059490   \n",
       "Pentagon City Metro / 12th St & S Hayes St    38.862303 -77.059936   \n",
       "...                                                 ...        ...   \n",
       "Mt Vernon Trail & S. Washington St.           38.793065 -77.049436   \n",
       "Eisenhower Ave & Ike Dr                       38.802738 -77.082463   \n",
       "Capitol Ave & Kendall St NE                   38.910993 -76.985854   \n",
       "14th & D St SE                                38.884058 -76.986385   \n",
       "Half & Water St SW                            38.866277 -77.010551   \n",
       "\n",
       "                                             STATION_TYPE  STATION_ID  \\\n",
       "NAME                                                                    \n",
       "Eads St & 15th St S                               classic           1   \n",
       "Crystal Dr & 20th St S                            classic           3   \n",
       "Crystal Dr & 15th St S                            classic           4   \n",
       "Aurora Hills Cmty Ctr / 18th St & S Hayes St      classic           5   \n",
       "Pentagon City Metro / 12th St & S Hayes St        classic           6   \n",
       "...                                                   ...         ...   \n",
       "Mt Vernon Trail & S. Washington St.               classic         630   \n",
       "Eisenhower Ave & Ike Dr                           classic         632   \n",
       "Capitol Ave & Kendall St NE                       classic         633   \n",
       "14th & D St SE                                    classic         634   \n",
       "Half & Water St SW                                classic         636   \n",
       "\n",
       "                                             STATION_STATUS  \\\n",
       "NAME                                                          \n",
       "Eads St & 15th St S                                  active   \n",
       "Crystal Dr & 20th St S                               active   \n",
       "Crystal Dr & 15th St S                               active   \n",
       "Aurora Hills Cmty Ctr / 18th St & S Hayes St         active   \n",
       "Pentagon City Metro / 12th St & S Hayes St           active   \n",
       "...                                                     ...   \n",
       "Mt Vernon Trail & S. Washington St.                  active   \n",
       "Eisenhower Ave & Ike Dr                              active   \n",
       "Capitol Ave & Kendall St NE                          active   \n",
       "14th & D St SE                                       active   \n",
       "Half & Water St SW                                   active   \n",
       "\n",
       "                                                       LAST_REPORTED  \\\n",
       "NAME                                                                   \n",
       "Eads St & 15th St S                           2022/03/25 08:28:21+00   \n",
       "Crystal Dr & 20th St S                        2022/03/25 10:03:17+00   \n",
       "Crystal Dr & 15th St S                        2022/03/25 09:55:06+00   \n",
       "Aurora Hills Cmty Ctr / 18th St & S Hayes St  2022/03/25 08:45:00+00   \n",
       "Pentagon City Metro / 12th St & S Hayes St    2022/03/25 07:57:43+00   \n",
       "...                                                              ...   \n",
       "Mt Vernon Trail & S. Washington St.           2022/03/25 10:10:09+00   \n",
       "Eisenhower Ave & Ike Dr                       2022/03/24 04:59:39+00   \n",
       "Capitol Ave & Kendall St NE                   2022/03/25 08:23:35+00   \n",
       "14th & D St SE                                2022/03/25 10:03:58+00   \n",
       "Half & Water St SW                            2022/03/25 09:33:41+00   \n",
       "\n",
       "                                              NUM_DOCKS_AVAILABLE  ...  \\\n",
       "NAME                                                               ...   \n",
       "Eads St & 15th St S                                            15  ...   \n",
       "Crystal Dr & 20th St S                                         13  ...   \n",
       "Crystal Dr & 15th St S                                          1  ...   \n",
       "Aurora Hills Cmty Ctr / 18th St & S Hayes St                    6  ...   \n",
       "Pentagon City Metro / 12th St & S Hayes St                      9  ...   \n",
       "...                                                           ...  ...   \n",
       "Mt Vernon Trail & S. Washington St.                             4  ...   \n",
       "Eisenhower Ave & Ike Dr                                        14  ...   \n",
       "Capitol Ave & Kendall St NE                                     5  ...   \n",
       "14th & D St SE                                                 18  ...   \n",
       "Half & Water St SW                                              9  ...   \n",
       "\n",
       "                                                                             IOS  \\\n",
       "NAME                                                                               \n",
       "Eads St & 15th St S                           https://dc.lft.to/lastmile_qr_scan   \n",
       "Crystal Dr & 20th St S                        https://dc.lft.to/lastmile_qr_scan   \n",
       "Crystal Dr & 15th St S                        https://dc.lft.to/lastmile_qr_scan   \n",
       "Aurora Hills Cmty Ctr / 18th St & S Hayes St  https://dc.lft.to/lastmile_qr_scan   \n",
       "Pentagon City Metro / 12th St & S Hayes St    https://dc.lft.to/lastmile_qr_scan   \n",
       "...                                                                          ...   \n",
       "Mt Vernon Trail & S. Washington St.           https://dc.lft.to/lastmile_qr_scan   \n",
       "Eisenhower Ave & Ike Dr                       https://dc.lft.to/lastmile_qr_scan   \n",
       "Capitol Ave & Kendall St NE                   https://dc.lft.to/lastmile_qr_scan   \n",
       "14th & D St SE                                https://dc.lft.to/lastmile_qr_scan   \n",
       "Half & Water St SW                            https://dc.lft.to/lastmile_qr_scan   \n",
       "\n",
       "                                                                         ANDROID  \\\n",
       "NAME                                                                               \n",
       "Eads St & 15th St S                           https://dc.lft.to/lastmile_qr_scan   \n",
       "Crystal Dr & 20th St S                        https://dc.lft.to/lastmile_qr_scan   \n",
       "Crystal Dr & 15th St S                        https://dc.lft.to/lastmile_qr_scan   \n",
       "Aurora Hills Cmty Ctr / 18th St & S Hayes St  https://dc.lft.to/lastmile_qr_scan   \n",
       "Pentagon City Metro / 12th St & S Hayes St    https://dc.lft.to/lastmile_qr_scan   \n",
       "...                                                                          ...   \n",
       "Mt Vernon Trail & S. Washington St.           https://dc.lft.to/lastmile_qr_scan   \n",
       "Eisenhower Ave & Ike Dr                       https://dc.lft.to/lastmile_qr_scan   \n",
       "Capitol Ave & Kendall St NE                   https://dc.lft.to/lastmile_qr_scan   \n",
       "14th & D St SE                                https://dc.lft.to/lastmile_qr_scan   \n",
       "Half & Water St SW                            https://dc.lft.to/lastmile_qr_scan   \n",
       "\n",
       "                                              ELECTRIC_BIKE_SURCHARGE_WAIVER  \\\n",
       "NAME                                                                           \n",
       "Eads St & 15th St S                                                       No   \n",
       "Crystal Dr & 20th St S                                                    No   \n",
       "Crystal Dr & 15th St S                                                    No   \n",
       "Aurora Hills Cmty Ctr / 18th St & S Hayes St                              No   \n",
       "Pentagon City Metro / 12th St & S Hayes St                                No   \n",
       "...                                                                      ...   \n",
       "Mt Vernon Trail & S. Washington St.                                       No   \n",
       "Eisenhower Ave & Ike Dr                                                   No   \n",
       "Capitol Ave & Kendall St NE                                               No   \n",
       "14th & D St SE                                                            No   \n",
       "Half & Water St SW                                                        No   \n",
       "\n",
       "                                              EIGHTD_HAS_KEY_DISPENSER  \\\n",
       "NAME                                                                     \n",
       "Eads St & 15th St S                                                 No   \n",
       "Crystal Dr & 20th St S                                              No   \n",
       "Crystal Dr & 15th St S                                              No   \n",
       "Aurora Hills Cmty Ctr / 18th St & S Hayes St                        No   \n",
       "Pentagon City Metro / 12th St & S Hayes St                          No   \n",
       "...                                                                ...   \n",
       "Mt Vernon Trail & S. Washington St.                                 No   \n",
       "Eisenhower Ave & Ike Dr                                             No   \n",
       "Capitol Ave & Kendall St NE                                         No   \n",
       "14th & D St SE                                                      No   \n",
       "Half & Water St SW                                                  No   \n",
       "\n",
       "                                             CAPACITY  RENTAL_METHODS  \\\n",
       "NAME                                                                    \n",
       "Eads St & 15th St S                                15  KEY,CREDITCARD   \n",
       "Crystal Dr & 20th St S                             17  KEY,CREDITCARD   \n",
       "Crystal Dr & 15th St S                             16  KEY,CREDITCARD   \n",
       "Aurora Hills Cmty Ctr / 18th St & S Hayes St       12  KEY,CREDITCARD   \n",
       "Pentagon City Metro / 12th St & S Hayes St         19  KEY,CREDITCARD   \n",
       "...                                               ...             ...   \n",
       "Mt Vernon Trail & S. Washington St.                15  KEY,CREDITCARD   \n",
       "Eisenhower Ave & Ike Dr                            15  KEY,CREDITCARD   \n",
       "Capitol Ave & Kendall St NE                        19  KEY,CREDITCARD   \n",
       "14th & D St SE                                     19  KEY,CREDITCARD   \n",
       "Half & Water St SW                                 15  KEY,CREDITCARD   \n",
       "\n",
       "                                             REGION_ID  \\\n",
       "NAME                                                     \n",
       "Eads St & 15th St S                                 41   \n",
       "Crystal Dr & 20th St S                              41   \n",
       "Crystal Dr & 15th St S                              41   \n",
       "Aurora Hills Cmty Ctr / 18th St & S Hayes St        41   \n",
       "Pentagon City Metro / 12th St & S Hayes St          41   \n",
       "...                                                ...   \n",
       "Mt Vernon Trail & S. Washington St.                 40   \n",
       "Eisenhower Ave & Ike Dr                             40   \n",
       "Capitol Ave & Kendall St NE                         42   \n",
       "14th & D St SE                                      42   \n",
       "Half & Water St SW                                  42   \n",
       "\n",
       "                                                   GIS_LAST_MOD_DTTM GIS_ID  \\\n",
       "NAME                                                                          \n",
       "Eads St & 15th St S                           2022/03/25 10:27:44+00    NaN   \n",
       "Crystal Dr & 20th St S                        2022/03/25 10:27:44+00    NaN   \n",
       "Crystal Dr & 15th St S                        2022/03/25 10:27:44+00    NaN   \n",
       "Aurora Hills Cmty Ctr / 18th St & S Hayes St  2022/03/25 10:27:44+00    NaN   \n",
       "Pentagon City Metro / 12th St & S Hayes St    2022/03/25 10:27:44+00    NaN   \n",
       "...                                                              ...    ...   \n",
       "Mt Vernon Trail & S. Washington St.           2022/03/25 10:27:45+00    NaN   \n",
       "Eisenhower Ave & Ike Dr                       2022/03/25 10:27:45+00    NaN   \n",
       "Capitol Ave & Kendall St NE                   2022/03/25 10:27:45+00    NaN   \n",
       "14th & D St SE                                2022/03/25 10:27:45+00    NaN   \n",
       "Half & Water St SW                            2022/03/25 10:27:45+00    NaN   \n",
       "\n",
       "                                                 REGION_NAME  \n",
       "NAME                                                          \n",
       "Eads St & 15th St S                            Arlington, VA  \n",
       "Crystal Dr & 20th St S                         Arlington, VA  \n",
       "Crystal Dr & 15th St S                         Arlington, VA  \n",
       "Aurora Hills Cmty Ctr / 18th St & S Hayes St   Arlington, VA  \n",
       "Pentagon City Metro / 12th St & S Hayes St     Arlington, VA  \n",
       "...                                                      ...  \n",
       "Mt Vernon Trail & S. Washington St.           Alexandria, VA  \n",
       "Eisenhower Ave & Ike Dr                       Alexandria, VA  \n",
       "Capitol Ave & Kendall St NE                   Washington, DC  \n",
       "14th & D St SE                                Washington, DC  \n",
       "Half & Water St SW                            Washington, DC  \n",
       "\n",
       "[676 rows x 28 columns]"
      ]
     },
     "execution_count": 50,
     "metadata": {},
     "output_type": "execute_result"
    }
   ],
   "source": [
    "df_join"
   ]
  },
  {
   "cell_type": "code",
   "execution_count": 51,
   "metadata": {},
   "outputs": [],
   "source": [
    "df_join = df_join.join(df_region)"
   ]
  },
  {
   "cell_type": "code",
   "execution_count": 65,
   "metadata": {},
   "outputs": [
    {
     "data": {
      "text/html": [
       "<div>\n",
       "<style scoped>\n",
       "    .dataframe tbody tr th:only-of-type {\n",
       "        vertical-align: middle;\n",
       "    }\n",
       "\n",
       "    .dataframe tbody tr th {\n",
       "        vertical-align: top;\n",
       "    }\n",
       "\n",
       "    .dataframe thead th {\n",
       "        text-align: right;\n",
       "    }\n",
       "</style>\n",
       "<table border=\"1\" class=\"dataframe\">\n",
       "  <thead>\n",
       "    <tr style=\"text-align: right;\">\n",
       "      <th></th>\n",
       "      <th>X</th>\n",
       "      <th>Y</th>\n",
       "      <th>OBJECTID</th>\n",
       "      <th>LATITUDE</th>\n",
       "      <th>LONGITUDE</th>\n",
       "      <th>STATION_TYPE</th>\n",
       "      <th>STATION_ID</th>\n",
       "      <th>STATION_STATUS</th>\n",
       "      <th>LAST_REPORTED</th>\n",
       "      <th>NUM_DOCKS_AVAILABLE</th>\n",
       "      <th>...</th>\n",
       "      <th>ELECTRIC_BIKE_SURCHARGE_WAIVER</th>\n",
       "      <th>EIGHTD_HAS_KEY_DISPENSER</th>\n",
       "      <th>CAPACITY</th>\n",
       "      <th>RENTAL_METHODS</th>\n",
       "      <th>REGION_ID</th>\n",
       "      <th>GIS_LAST_MOD_DTTM</th>\n",
       "      <th>GIS_ID</th>\n",
       "      <th>REGION_NAME</th>\n",
       "      <th>Start station number</th>\n",
       "      <th>0</th>\n",
       "    </tr>\n",
       "  </thead>\n",
       "  <tbody>\n",
       "  </tbody>\n",
       "</table>\n",
       "<p>0 rows × 30 columns</p>\n",
       "</div>"
      ],
      "text/plain": [
       "Empty DataFrame\n",
       "Columns: [X, Y, OBJECTID, LATITUDE, LONGITUDE, STATION_TYPE, STATION_ID, STATION_STATUS, LAST_REPORTED, NUM_DOCKS_AVAILABLE, NUM_DOCKS_DISABLED, NUM_BIKES_AVAILABLE, NUM_EBIKES_AVAILABLE, NUM_BIKES_DISABLED, IS_INSTALLED, IS_RETURNING, IS_RENTING, HAS_KIOSK, IOS, ANDROID, ELECTRIC_BIKE_SURCHARGE_WAIVER, EIGHTD_HAS_KEY_DISPENSER, CAPACITY, RENTAL_METHODS, REGION_ID, GIS_LAST_MOD_DTTM, GIS_ID, REGION_NAME, Start station number, 0]\n",
       "Index: []\n",
       "\n",
       "[0 rows x 30 columns]"
      ]
     },
     "execution_count": 65,
     "metadata": {},
     "output_type": "execute_result"
    }
   ],
   "source": [
    "df_join[df_join['Start station number'] == '31258.0']"
   ]
  },
  {
   "cell_type": "code",
   "execution_count": 55,
   "metadata": {},
   "outputs": [],
   "source": [
    "df_w_viz = df_join[df_join['REGION_NAME'] == 'Washington, DC']"
   ]
  },
  {
   "cell_type": "code",
   "execution_count": 82,
   "metadata": {},
   "outputs": [],
   "source": [
    "df_wdc = pd.read_csv('./region_wise_data/df_wdc.csv')"
   ]
  },
  {
   "cell_type": "code",
   "execution_count": 83,
   "metadata": {},
   "outputs": [],
   "source": [
    "df_wdc = df_wdc[['31248.0', '31214.0', '31241.0', '31101.0', '31229.0', '31247.0',\n",
    "       '31201.0', '31258.0', '31200.0', '31623.0', 'ds']].set_index('ds')"
   ]
  },
  {
   "cell_type": "code",
   "execution_count": 87,
   "metadata": {},
   "outputs": [],
   "source": [
    "df_wdc['year'] = pd.to_datetime(df_wdc.index.values).year"
   ]
  },
  {
   "cell_type": "code",
   "execution_count": 90,
   "metadata": {},
   "outputs": [],
   "source": [
    "df_wdc_10 = df_wdc.groupby('year').sum()"
   ]
  },
  {
   "cell_type": "code",
   "execution_count": null,
   "metadata": {},
   "outputs": [],
   "source": [
    "df_w_viz['Selected'] = []\n",
    "for i in df_w_viz['Star station number']:\n",
    "    if i == '31248.0':\n",
    "        df_w_viz['Selected'].append('Top_10')\n",
    "    else:\n",
    "        df_w_viz['Star station number'].append('others')"
   ]
  },
  {
   "cell_type": "code",
   "execution_count": 59,
   "metadata": {},
   "outputs": [
    {
     "data": {
      "application/vnd.plotly.v1+json": {
       "config": {
        "plotlyServerURL": "https://plot.ly"
       },
       "data": [
        {
         "customdata": [
          [
           15,
           0
          ],
          [
           19,
           0
          ],
          [
           23,
           0
          ],
          [
           19,
           0
          ],
          [
           23,
           0
          ],
          [
           19,
           0
          ],
          [
           15,
           0
          ],
          [
           31,
           0
          ],
          [
           23,
           1
          ],
          [
           19,
           0
          ],
          [
           15,
           1
          ],
          [
           19,
           0
          ],
          [
           39,
           0
          ],
          [
           19,
           2
          ],
          [
           19,
           0
          ],
          [
           19,
           1
          ],
          [
           23,
           0
          ],
          [
           19,
           1
          ],
          [
           15,
           0
          ],
          [
           19,
           1
          ],
          [
           11,
           1
          ],
          [
           31,
           0
          ],
          [
           19,
           0
          ],
          [
           31,
           0
          ],
          [
           15,
           0
          ],
          [
           27,
           0
          ],
          [
           19,
           0
          ],
          [
           23,
           1
          ],
          [
           15,
           0
          ],
          [
           25,
           1
          ],
          [
           19,
           0
          ],
          [
           19,
           0
          ],
          [
           23,
           1
          ],
          [
           23,
           0
          ],
          [
           19,
           0
          ],
          [
           31,
           0
          ],
          [
           19,
           2
          ],
          [
           19,
           1
          ],
          [
           19,
           0
          ],
          [
           27,
           0
          ],
          [
           19,
           0
          ],
          [
           19,
           1
          ],
          [
           23,
           0
          ],
          [
           19,
           0
          ],
          [
           31,
           0
          ],
          [
           19,
           1
          ],
          [
           23,
           0
          ],
          [
           19,
           0
          ],
          [
           11,
           0
          ],
          [
           11,
           0
          ],
          [
           15,
           0
          ],
          [
           19,
           0
          ],
          [
           27,
           0
          ],
          [
           23,
           1
          ],
          [
           19,
           1
          ],
          [
           19,
           0
          ],
          [
           19,
           1
          ],
          [
           19,
           0
          ],
          [
           15,
           0
          ],
          [
           19,
           2
          ],
          [
           19,
           0
          ],
          [
           19,
           0
          ],
          [
           19,
           0
          ],
          [
           23,
           1
          ],
          [
           19,
           0
          ],
          [
           19,
           0
          ],
          [
           31,
           3
          ],
          [
           23,
           0
          ],
          [
           35,
           0
          ],
          [
           19,
           0
          ],
          [
           19,
           0
          ],
          [
           19,
           2
          ],
          [
           19,
           0
          ],
          [
           19,
           0
          ],
          [
           19,
           2
          ],
          [
           27,
           0
          ],
          [
           19,
           0
          ],
          [
           19,
           0
          ],
          [
           19,
           0
          ],
          [
           27,
           0
          ],
          [
           15,
           0
          ],
          [
           23,
           0
          ],
          [
           11,
           1
          ],
          [
           15,
           1
          ],
          [
           23,
           0
          ],
          [
           23,
           0
          ],
          [
           11,
           1
          ],
          [
           35,
           1
          ],
          [
           15,
           1
          ],
          [
           19,
           3
          ],
          [
           15,
           0
          ],
          [
           17,
           1
          ],
          [
           15,
           0
          ],
          [
           15,
           1
          ],
          [
           19,
           0
          ],
          [
           39,
           0
          ],
          [
           15,
           0
          ],
          [
           15,
           0
          ],
          [
           19,
           1
          ],
          [
           15,
           1
          ],
          [
           19,
           0
          ],
          [
           19,
           0
          ],
          [
           15,
           0
          ],
          [
           19,
           2
          ],
          [
           19,
           0
          ],
          [
           15,
           1
          ],
          [
           15,
           0
          ],
          [
           35,
           1
          ],
          [
           15,
           0
          ],
          [
           19,
           1
          ],
          [
           19,
           2
          ],
          [
           17,
           0
          ],
          [
           17,
           0
          ],
          [
           15,
           2
          ],
          [
           19,
           0
          ],
          [
           23,
           1
          ],
          [
           19,
           1
          ],
          [
           19,
           1
          ],
          [
           15,
           0
          ],
          [
           19,
           0
          ],
          [
           15,
           0
          ],
          [
           23,
           0
          ],
          [
           19,
           0
          ],
          [
           23,
           0
          ],
          [
           19,
           0
          ],
          [
           15,
           0
          ],
          [
           19,
           0
          ],
          [
           11,
           0
          ],
          [
           15,
           0
          ],
          [
           15,
           0
          ],
          [
           23,
           4
          ],
          [
           19,
           0
          ],
          [
           15,
           0
          ],
          [
           11,
           0
          ],
          [
           15,
           0
          ],
          [
           19,
           0
          ],
          [
           19,
           1
          ],
          [
           15,
           0
          ],
          [
           23,
           1
          ],
          [
           23,
           0
          ],
          [
           19,
           0
          ],
          [
           19,
           0
          ],
          [
           15,
           0
          ],
          [
           15,
           0
          ],
          [
           19,
           0
          ],
          [
           39,
           1
          ],
          [
           15,
           1
          ],
          [
           19,
           1
          ],
          [
           11,
           0
          ],
          [
           19,
           0
          ],
          [
           19,
           0
          ],
          [
           23,
           0
          ],
          [
           15,
           0
          ],
          [
           19,
           3
          ],
          [
           31,
           2
          ],
          [
           19,
           0
          ],
          [
           19,
           0
          ],
          [
           31,
           1
          ],
          [
           19,
           0
          ],
          [
           15,
           0
          ],
          [
           19,
           0
          ],
          [
           19,
           0
          ],
          [
           23,
           0
          ],
          [
           19,
           0
          ],
          [
           19,
           0
          ],
          [
           19,
           0
          ],
          [
           27,
           0
          ],
          [
           19,
           0
          ],
          [
           15,
           0
          ],
          [
           19,
           0
          ],
          [
           15,
           1
          ],
          [
           19,
           0
          ],
          [
           15,
           1
          ],
          [
           11,
           0
          ],
          [
           11,
           0
          ],
          [
           23,
           0
          ],
          [
           19,
           0
          ],
          [
           33,
           0
          ],
          [
           15,
           0
          ],
          [
           19,
           0
          ],
          [
           19,
           1
          ],
          [
           15,
           0
          ],
          [
           15,
           1
          ],
          [
           11,
           1
          ],
          [
           19,
           0
          ],
          [
           19,
           0
          ],
          [
           15,
           2
          ],
          [
           11,
           0
          ],
          [
           19,
           0
          ],
          [
           19,
           0
          ],
          [
           19,
           0
          ],
          [
           19,
           0
          ],
          [
           11,
           0
          ],
          [
           19,
           0
          ],
          [
           15,
           1
          ],
          [
           11,
           0
          ],
          [
           19,
           1
          ],
          [
           23,
           0
          ],
          [
           19,
           0
          ],
          [
           23,
           0
          ],
          [
           19,
           0
          ],
          [
           19,
           0
          ],
          [
           23,
           2
          ],
          [
           19,
           0
          ],
          [
           27,
           0
          ],
          [
           55,
           0
          ],
          [
           15,
           0
          ],
          [
           23,
           2
          ],
          [
           11,
           0
          ],
          [
           19,
           1
          ],
          [
           19,
           0
          ],
          [
           15,
           0
          ],
          [
           19,
           0
          ],
          [
           27,
           1
          ],
          [
           23,
           1
          ],
          [
           23,
           0
          ],
          [
           15,
           0
          ],
          [
           15,
           0
          ],
          [
           14,
           2
          ],
          [
           19,
           1
          ],
          [
           23,
           0
          ],
          [
           15,
           0
          ],
          [
           15,
           0
          ],
          [
           15,
           0
          ],
          [
           15,
           0
          ],
          [
           19,
           0
          ],
          [
           19,
           0
          ],
          [
           19,
           0
          ],
          [
           19,
           1
          ],
          [
           19,
           1
          ],
          [
           19,
           0
          ],
          [
           19,
           0
          ],
          [
           15,
           0
          ],
          [
           19,
           0
          ],
          [
           19,
           0
          ],
          [
           15,
           3
          ],
          [
           19,
           5
          ],
          [
           15,
           2
          ],
          [
           11,
           0
          ],
          [
           19,
           0
          ],
          [
           17,
           0
          ],
          [
           15,
           0
          ],
          [
           15,
           4
          ],
          [
           17,
           0
          ],
          [
           15,
           0
          ],
          [
           19,
           0
          ],
          [
           15,
           1
          ],
          [
           23,
           0
          ],
          [
           23,
           0
          ],
          [
           11,
           0
          ],
          [
           19,
           0
          ],
          [
           19,
           0
          ],
          [
           19,
           0
          ],
          [
           19,
           0
          ],
          [
           19,
           0
          ],
          [
           19,
           1
          ],
          [
           19,
           0
          ],
          [
           19,
           0
          ],
          [
           15,
           2
          ],
          [
           19,
           0
          ],
          [
           25,
           0
          ],
          [
           25,
           0
          ],
          [
           19,
           0
          ],
          [
           15,
           0
          ],
          [
           17,
           0
          ],
          [
           19,
           4
          ],
          [
           19,
           0
          ],
          [
           19,
           0
          ],
          [
           15,
           0
          ],
          [
           19,
           0
          ],
          [
           19,
           0
          ],
          [
           19,
           0
          ],
          [
           45,
           3
          ],
          [
           39,
           1
          ],
          [
           19,
           0
          ],
          [
           15,
           0
          ],
          [
           19,
           0
          ],
          [
           19,
           0
          ],
          [
           11,
           0
          ],
          [
           11,
           3
          ],
          [
           15,
           0
          ],
          [
           19,
           1
          ],
          [
           19,
           0
          ],
          [
           23,
           0
          ],
          [
           19,
           0
          ],
          [
           33,
           0
          ],
          [
           23,
           0
          ],
          [
           19,
           0
          ],
          [
           15,
           0
          ],
          [
           19,
           1
          ],
          [
           23,
           2
          ],
          [
           15,
           0
          ],
          [
           23,
           0
          ],
          [
           19,
           1
          ],
          [
           31,
           0
          ],
          [
           19,
           0
          ],
          [
           19,
           1
          ],
          [
           35,
           0
          ],
          [
           11,
           1
          ],
          [
           11,
           0
          ],
          [
           19,
           3
          ],
          [
           15,
           1
          ],
          [
           15,
           0
          ],
          [
           23,
           0
          ],
          [
           11,
           0
          ],
          [
           19,
           4
          ],
          [
           23,
           0
          ],
          [
           19,
           1
          ],
          [
           19,
           0
          ],
          [
           19,
           0
          ],
          [
           19,
           0
          ],
          [
           19,
           0
          ],
          [
           35,
           0
          ],
          [
           19,
           3
          ],
          [
           19,
           4
          ],
          [
           19,
           0
          ],
          [
           19,
           0
          ],
          [
           19,
           0
          ],
          [
           15,
           0
          ],
          [
           33,
           0
          ],
          [
           19,
           2
          ],
          [
           19,
           0
          ],
          [
           15,
           5
          ],
          [
           39,
           0
          ],
          [
           23,
           1
          ],
          [
           19,
           1
          ],
          [
           19,
           1
          ],
          [
           15,
           0
          ],
          [
           25,
           2
          ],
          [
           19,
           1
          ],
          [
           15,
           0
          ],
          [
           31,
           1
          ],
          [
           25,
           1
          ],
          [
           19,
           0
          ],
          [
           19,
           0
          ],
          [
           19,
           1
          ],
          [
           23,
           0
          ],
          [
           19,
           0
          ]
         ],
         "hovertemplate": "<b>%{hovertext}</b><br><br>REGION_NAME=Washington, DC<br>CAPACITY=%{customdata[0]}<br>LATITUDE=%{lat}<br>LONGITUDE=%{lon}<br>NUM_EBIKES_AVAILABLE=%{customdata[1]}<extra></extra>",
         "hovertext": [
          "10th & E St NW",
          "10th & Florida Ave NW",
          "10th & G St NW",
          "10th & H St NE",
          "10th & K St NW",
          "10th & Monroe St NE",
          "10th & U St NW",
          "10th St & Constitution Ave NW",
          "10th St & L'Enfant Plaza SW",
          "11th & C St SE",
          "11th & F St NW",
          "11th & Girard St NW",
          "11th & Kenyon St NW",
          "11th & M St NW",
          "11th & O St NW",
          "11th & Park Rd NW",
          "11th & S St NW",
          "11th & V st NW",
          "12th & Irving St NE",
          "12th & L St NW",
          "12th & Newton St NE",
          "12th & U St NW",
          "12th St & Pennsylvania Ave SE",
          "13th & D St NE",
          "13th & E St SE",
          "13th & H St NE",
          "13th & U St NW",
          "13th St & New York Ave NW",
          "14th & Belmont St NW",
          "14th & D St NW / Ronald Reagan Building",
          "14th & D St SE",
          "14th & D St SE",
          "14th & G St NW",
          "14th & Girard St NW",
          "14th & Harvard St NW",
          "14th & Irving St NW",
          "14th & L St NW",
          "14th & Luzon St NW",
          "14th & Newton St NW",
          "14th & Otis Pl NW",
          "14th & Q St NW",
          "14th & R St NW",
          "14th & Rhode Island Ave NW",
          "14th & Upshur St NW",
          "14th & V St NW",
          "14th St & Colorado Ave NW",
          "14th St & New York Ave NW",
          "14th St & Spring Rd NW",
          "14th St Heights / 14th & Crittenden St NW",
          "15th & East Capitol St NE",
          "15th & Euclid St NW",
          "15th & F St NE",
          "15th & K St NW",
          "15th & L St NW",
          "15th & M St NW",
          "15th & P St NW",
          "15th & W St NW",
          "15th St & Constitution Ave NW",
          "15th St & Massachusetts Ave SE",
          "15th St & Pennsylvania Ave NW",
          "16th & Harvard St NW",
          "16th & Harvard St NW",
          "16th & Irving St NW",
          "16th & Q St SE / Anacostia HS",
          "16th & R St NW",
          "17th & Corcoran St NW",
          "17th & G St NW",
          "17th & K St NW",
          "17th & K St NW / Farragut Square",
          "17th & P St NW",
          "17th & Upshur St NW",
          "17th St & Independence Ave SW",
          "17th St & Massachusetts Ave NW",
          "18th & C St NW",
          "18th & L St NW",
          "18th & M St NW",
          "18th & Monroe St NE",
          "18th & New Hampshire Ave NW",
          "18th & R St NW",
          "18th St & Pennsylvania Ave NW",
          "18th St & Rhode Island Ave NE",
          "18th St & Wyoming Ave NW",
          "19th & E Street NW",
          "19th & East Capitol St SE",
          "19th & G St NW",
          "19th & K St NW",
          "19th & Savannah St SE",
          "19th St & Constitution Ave NW",
          "19th St & Pennsylvania Ave NW",
          "1st & D St SE",
          "1st & H St NW",
          "1st & K St NE",
          "1st & K St SE",
          "1st & M St NE",
          "1st & M St SE",
          "1st & N St SE",
          "1st & O St NW",
          "1st & Rhode Island Ave NW",
          "1st & S Capitol St SE / Oxon Run Trail",
          "1st & Washington Hospital Center NW",
          "1st St & Potomac Ave SE",
          "20th & Columbia Rd NW",
          "20th & E St NW",
          "20th & L St NW",
          "20th & O St NW / Dupont South",
          "20th St & Florida Ave NW",
          "20th St & Virginia Ave NW",
          "21st & I St NW",
          "21st St & Constitution Ave NW",
          "21st St & G st NW",
          "21st St & Pennsylvania Ave NW",
          "22nd & H St NW",
          "22nd & H St NW",
          "22nd & I St NW / Foggy Bottom",
          "22nd & P ST NW",
          "22nd St & Constitution Ave NW",
          "23rd & E St NW ",
          "23rd & M St NW",
          "24th & N St NW",
          "24th & R St NE / National Arboretum",
          "25th St & Pennsylvania Ave NW",
          "2nd & G St NE",
          "2nd & V St SW / James Creek Marina",
          "2nd St & Massachusetts Ave NE",
          "2nd St & Seaton Pl NE",
          "3000 Connecticut Ave NW / National Zoo",
          "34th & Water St NW",
          "34th St & Wisconsin Ave NW",
          "36th & Calvert St NW / Glover Park",
          "37th & Ely Pl SE",
          "37th & O St NW / Georgetown University",
          "39th & Calvert St NW / Stoddert",
          "39th & Veazey St NW",
          "3rd & D St SE",
          "3rd & Elm St NW",
          "3rd & G St SE",
          "3rd & H St NE",
          "3rd & H St NW",
          "3rd & M St NE",
          "3rd & M st SE",
          "3rd & Tingey St SE",
          "3rd & Underwood St NW",
          "3rd St & Pennsylvania Ave SE",
          "3rd St & Riggs Rd NE",
          "48th Pl & MacArthur Blvd NW",
          "4th & C St SW",
          "4th & D St NW / Judiciary Square",
          "4th & E St SW",
          "4th & East Capitol St NE",
          "4th & Florida Ave NE",
          "4th & M St SE",
          "4th & M St SW",
          "4th & W St NE",
          "4th St & G St SW",
          "4th St & Madison Dr NW",
          "4th St & Mississippi Ave SE",
          "53rd & D St SE/C.W. Harris Elementary",
          "5th & F St NW",
          "5th & K St NW",
          "5th & Kennedy St NW",
          "5th St & Massachusetts Ave NW",
          "61st St & Banks Pl NE",
          "6th & H St NE",
          "6th & K St NE",
          "6th St & Indiana Ave NW",
          "7th & E St SW",
          "7th & F St NW / National Portrait Gallery",
          "7th & K St NW",
          "7th & R St NW / Shaw Library",
          "7th & S St NW",
          "7th & T St NW",
          "7th St & Massachusetts Ave NE",
          "8th & D St NW",
          "8th & East Capitol St NE",
          "8th & Eye St SE / Barracks Row",
          "8th & F St NE",
          "8th & H St NE",
          "8th & H St NW",
          "8th & K St NE",
          "8th & O St NW",
          "8th & V St NW",
          "9th & Upshur St NW",
          "Adams Mill & Columbia Rd NW",
          "Alabama & MLK Ave SE",
          "Alabama Ave & Stanton Rd SE / Shops at Park Village",
          "American University East Campus",
          "Anacostia Ave & Benning Rd NE / River Terrace ",
          "Anacostia Library",
          "Anacostia Metro",
          "Anacostia Park",
          "Anacostia Roller Skating Pavillion",
          "Arizona Ave & MacArthur Blvd NW",
          "Benning Branch Library",
          "Benning Rd & East Capitol St NE / Benning Rd Metro",
          "Bladensburg Rd & Benning Rd NE",
          "Branch & Pennsylvania Ave SE",
          "Broad Branch Rd & Northampton St NW",
          "C & O Canal & Wisconsin Ave NW",
          "California St & Florida Ave NW",
          "Calvert & Biltmore St NW",
          "Calvert St & Woodley Pl NW",
          "Capitol Ave & Kendall St NE",
          "Columbia & Ontario Rd NW",
          "Columbia Rd & Belmont St NW",
          "Columbia Rd & Georgia Ave NW",
          "Columbus Circle / Union Station",
          "Congress Heights Metro",
          "Connecticut & Nebraska Ave NW",
          "Connecticut Ave & Macomb St NW / Cleveland Park",
          "Connecticut Ave & McKinley St NW",
          "Connecticut Ave & R St NW",
          "Connecticut Ave & Tilden St NW",
          "Connecticut Ave & Yuma St NW",
          "Constitution Ave & 2nd St NW/DOL",
          "Convention Center / 7th & M St NW",
          "D St & Maryland Ave NE",
          "Deanwood Rec Center",
          "Division Ave & Foote St NE",
          "Eastern Market / 7th & North Carolina Ave SE",
          "Eastern Market Metro / Pennsylvania Ave & 8th St SE",
          "Eckington Pl & Q St NE",
          "Edgewood Rec Center",
          "Fairfax Village",
          "Fessenden St & Wisconsin Ave NW",
          "Florida Ave & R St NW",
          "Fort Stanton Rec Center",
          "Fort Totten Metro",
          "Gallaudet / 8th St & Florida Ave NE",
          "Georgetown Harbor / 30th St NW",
          "Georgia & Missouri Ave NW",
          "Georgia & New Hampshire Ave NW",
          "Georgia Ave & Emerson St NW",
          "Georgia Ave & Fairmont St NW",
          "Georgia Ave & Kennedy St NW",
          "Georgia Ave & Morton St NW",
          "Georgia Ave & Piney Branch Rd NW",
          "Good Hope & Naylor Rd SE",
          "Good Hope Rd & 14th St SE",
          "Good Hope Rd & MLK Ave SE",
          "Grant Circle",
          "Hains Point/Buckeye & Ohio Dr SW",
          "Half & Water St SW",
          "Hamlin & 7th St NE",
          "Hardy Rec Center",
          "Harvard St & Adams Mill Rd NW",
          "Henry Bacon Dr & Lincoln Memorial Circle NW",
          "Independence Ave & L'Enfant Plaza SW/DOE",
          "Jefferson Dr & 14th St SW",
          "Jefferson Memorial",
          "John McCormack Dr & Michigan Ave NE",
          "John McCormack Rd NE",
          "Joliet St & MLK Ave SW/Bald Eagle Rec Ctr",
          "Kansas Ave & Longfellow St NW",
          "Kansas Ave & Sherman Cr NW",
          "Kenilworth Terrace & Hayes St. NE",
          "Kennedy Center",
          "King Greenleaf Rec Center",
          "Kingman Island/The Fields at RFK",
          "L'Enfant Plaza / 7th & C St SW",
          "Lamont & Mt Pleasant NW",
          "Lincoln Memorial",
          "Lincoln Park / 13th & East Capitol St NE ",
          "Lincoln Rd & Seaton Pl NE/Harry Thomas Rec Center",
          "Livingston Rd & 3rd St SE",
          "M St & New Jersey Ave SE",
          "M St & Pennsylvania Ave NW",
          "MBT & Bryant St NE",
          "Maine Ave & 7th St SW",
          "Maine Ave & 9th St SW",
          "Maryland Ave & 17th St NE",
          "Maryland Ave & E St NE",
          "Massachusetts Ave & 6th St NE",
          "Massachusetts Ave & Dupont Circle NW",
          "Metro Center / 12th & G St NW",
          "Minnesota Ave & R St SE",
          "Minnesota Ave Metro/DOES",
          "Mississippi Ave & 19th St SE / THEARC",
          "Montello Ave & Holbrook Terr NE",
          "Nannie Helen Burroughs & Minnesota Ave NE",
          "Nannie Helen Burroughs Ave & 49th St NE",
          "Neal St & Trinidad Ave NE",
          "New Hampshire & Gallatin St NW",
          "New Hampshire Ave & 24th St NW",
          "New Hampshire Ave & T St NW",
          "New Hampshire Ave & Ward Pl NW",
          "New Jersey Ave & F St NW",
          "New Jersey Ave & K St NW",
          "New Jersey Ave & N St NW/Dunbar HS",
          "New Jersey Ave & R St NW",
          "New York Ave & 15th St NW",
          "New York Ave & Hecht Ave NE",
          "North Capitol & R St NE",
          "North Capitol St & F St NW",
          "North Capitol St & G Pl NE",
          "Ohio Dr & West Basin Dr SW / MLK & FDR Memorials",
          "Oklahoma Ave & Benning Rd NE",
          "Oklahoma Ave & D St NE",
          "Park Rd & Holmead Pl NW",
          "Pennsylvania & Minnesota Ave SE",
          "Pleasant St & MLK Ave SE",
          "Potomac & M St NW",
          "Potomac & Pennsylvania Ave SE",
          "Potomac Ave & 8th St SE",
          "Potomac Ave & Half St SW",
          "Randle Circle & Minnesota Ave SE",
          "Reservoir Rd & 38th St NW",
          "Rhode Island & Connecticut Ave NW",
          "Rhode Island & Montana Ave NE",
          "Rhode Island Ave & V St NE",
          "Rhode Island Ave Metro",
          "Ridge Rd Community Center",
          "Rosedale Rec Center",
          "Smithsonian-National Mall / Jefferson Dr & 12th St SW",
          "South Capitol & Atlantic St SW",
          "St. Elizabeths West Campus/DHS ",
          "Stadium Armory Metro",
          "Stanton Square SE",
          "Takoma Metro",
          "Tenleytown / Wisconsin Ave & Albemarle St NW",
          "Thomas Circle",
          "Thomas Jefferson St NW & Water/K St NW",
          "Trinidad Rec Center",
          "US Dept of State / Virginia Ave & 21st St NW",
          "USDA / 12th & C St SW",
          "Union Market",
          "United Medical Center",
          "Valley Ave & Wheeler Rd SE",
          "Van Ness Metro / UDC",
          "Vermont Ave & I St NW",
          "Virginia Ave & 25th St NW",
          "Ward Circle / American University",
          "Washington & Independence Ave SW/HHS",
          "Wisconsin Ave & Brandywine St NW",
          "Wisconsin Ave & Ingomar St NW",
          "Wisconsin Ave & Newark St NW",
          "Wisconsin Ave & O St NW",
          "Woodley Park Metro / Calvert St & Connecticut Ave NW",
          "Yuma St & Tenley Circle NW"
         ],
         "lat": [
          38.895914,
          38.920387,
          38.898243,
          38.899984,
          38.9024,
          38.932457,
          38.9172,
          38.893028,
          38.884323,
          38.885908,
          38.897857,
          38.925636,
          38.929464,
          38.905579,
          38.90843,
          38.931322,
          38.913761,
          38.918199,
          38.928644,
          38.903819,
          38.933668,
          38.916787,
          38.882489,
          38.894832,
          38.882915,
          38.900427,
          38.916936,
          38.900283,
          38.921074,
          38.894514,
          38.884058,
          38.884058,
          38.898409,
          38.925284,
          38.9268,
          38.928552,
          38.903658,
          38.969489,
          38.931991,
          38.934405,
          38.910674,
          38.913046,
          38.9086,
          38.942475,
          38.917765,
          38.956432,
          38.899632,
          38.9375,
          38.947774,
          38.889908,
          38.92333,
          38.897195,
          38.902,
          38.903649,
          38.905424,
          38.909801,
          38.919019,
          38.892244,
          38.88732,
          38.896465,
          38.926102,
          38.926102,
          38.928893,
          38.870695,
          38.912652,
          38.9121,
          38.898283,
          38.90276,
          38.902061,
          38.909858,
          38.942146,
          38.888097,
          38.908142,
          38.893511,
          38.903741,
          38.905067,
          38.93293,
          38.911268,
          38.912648,
          38.89968,
          38.927095,
          38.918809,
          38.8952,
          38.8896,
          38.898412,
          38.902204,
          38.84623,
          38.8923,
          38.9003,
          38.884916,
          38.900358,
          38.902386,
          38.878854,
          38.905697,
          38.876893,
          38.874102,
          38.908643,
          38.915417,
          38.824481,
          38.928743,
          38.871841,
          38.918036,
          38.8963,
          38.903584,
          38.908905,
          38.9154,
          38.894722,
          38.900711,
          38.892459,
          38.898302,
          38.901539,
          38.898925,
          38.898925,
          38.90088,
          38.909394,
          38.892441,
          38.896104,
          38.905303,
          38.9066,
          38.91263,
          38.903827,
          38.89967,
          38.863743,
          38.894972,
          38.914751,
          38.930282,
          38.903732,
          38.916442,
          38.922581,
          38.883011,
          38.90774,
          38.922649,
          38.943837,
          38.8851,
          38.917622,
          38.881185,
          38.900412,
          38.899408,
          38.90547,
          38.876823,
          38.87501,
          38.968834,
          38.887378,
          38.957463,
          38.917036,
          38.886372,
          38.895344,
          38.88412,
          38.889955,
          38.907316,
          38.876751,
          38.876697,
          38.919077,
          38.881123,
          38.890496,
          38.836,
          38.883318,
          38.897222,
          38.90304,
          38.956556,
          38.90093,
          38.891805,
          38.899972,
          38.902932,
          38.894573,
          38.88345,
          38.897283,
          38.902674,
          38.912719,
          38.914204,
          38.9155,
          38.89222,
          38.894851,
          38.889988,
          38.8792,
          38.897274,
          38.899942,
          38.8997,
          38.902732,
          38.90864,
          38.917716,
          38.9418,
          38.922925,
          38.84323,
          38.84627,
          38.936298,
          38.896544,
          38.865784,
          38.862669,
          38.87335,
          38.878771,
          38.927294,
          38.894,
          38.889935,
          38.900413,
          38.8692,
          38.965775,
          38.90375,
          38.917761,
          38.923203,
          38.923583,
          38.910993,
          38.924088,
          38.920669,
          38.928121,
          38.89696,
          38.844711,
          38.955016,
          38.933626,
          38.964544,
          38.912644,
          38.941139,
          38.947156,
          38.892275,
          38.905737,
          38.894841,
          38.908473,
          38.897407,
          38.886952,
          38.884095,
          38.910972,
          38.924144,
          38.86559,
          38.954812,
          38.9126,
          38.857369,
          38.952369,
          38.90509,
          38.902314,
          38.961339,
          38.936684,
          38.949662,
          38.9249,
          38.95674,
          38.932128,
          38.967505,
          38.861663,
          38.866611,
          38.867373,
          38.942025,
          38.878433,
          38.866277,
          38.927497,
          38.909701,
          38.927872,
          38.890539,
          38.887312,
          38.888553,
          38.879819,
          38.9346,
          38.938889,
          38.81909,
          38.958098,
          38.947962,
          38.900468,
          38.897293,
          38.876211,
          38.895955,
          38.886266,
          38.9319,
          38.888255,
          38.890461,
          38.915,
          38.82373,
          38.8763,
          38.905126,
          38.922404,
          38.878694,
          38.88044,
          38.901935,
          38.896226,
          38.892934,
          38.9101,
          38.898364,
          38.869337,
          38.897063,
          38.84377,
          38.907444,
          38.901385,
          38.898536,
          38.903732,
          38.951596,
          38.901755,
          38.915544,
          38.905711,
          38.897108,
          38.902406,
          38.907333,
          38.912659,
          38.899032,
          38.915604,
          38.912524,
          38.897446,
          38.899703,
          38.88412,
          38.8975,
          38.894474,
          38.9308,
          38.873057,
          38.863897,
          38.905368,
          38.8803,
          38.876737,
          38.869683,
          38.878,
          38.912614,
          38.905996,
          38.9243,
          38.918155,
          38.920682,
          38.876227,
          38.897808,
          38.888774,
          38.831516,
          38.853124,
          38.885483,
          38.855004,
          38.975219,
          38.947607,
          38.9059,
          38.902826,
          38.906299,
          38.894919,
          38.886277,
          38.907908,
          38.835737,
          38.836646,
          38.944551,
          38.901136,
          38.8995,
          38.938736,
          38.886978,
          38.949813,
          38.958267,
          38.934881,
          38.90849,
          38.923389,
          38.946182
         ],
         "legendgroup": "Washington, DC",
         "lon": [
          -77.026064,
          -77.025672,
          -77.026235,
          -76.992725,
          -77.02622,
          -76.993534,
          -77.0259,
          -77.026013,
          -77.02601,
          -76.991476,
          -77.026975,
          -77.027112,
          -77.027822,
          -77.027313,
          -77.02714,
          -77.028247,
          -77.027025,
          -77.027171,
          -76.990955,
          -77.0284,
          -76.991016,
          -77.028139,
          -76.990121,
          -76.987633,
          -76.987907,
          -76.98825,
          -77.029631,
          -77.029822,
          -77.031887,
          -77.031617,
          -76.986385,
          -76.986385,
          -77.032278,
          -77.032375,
          -77.0322,
          -77.032224,
          -77.031737,
          -77.033509,
          -77.032956,
          -77.032687,
          -77.03188,
          -77.032008,
          -77.0323,
          -77.032678,
          -77.032096,
          -77.032947,
          -77.031686,
          -77.0328,
          -77.032818,
          -76.983326,
          -77.0352,
          -76.983575,
          -77.03353,
          -77.034918,
          -77.034674,
          -77.034427,
          -77.034449,
          -77.033234,
          -76.983569,
          -77.033381,
          -77.03665,
          -77.03665,
          -77.03625,
          -76.982359,
          -77.036278,
          -77.0387,
          -77.039732,
          -77.03863,
          -77.038322,
          -77.038566,
          -77.038684,
          -77.038325,
          -77.038359,
          -77.041544,
          -77.042452,
          -77.041779,
          -76.979517,
          -77.041829,
          -77.041834,
          -77.041539,
          -76.978924,
          -77.041571,
          -77.0436,
          -76.9769,
          -77.043182,
          -77.04337,
          -76.97703,
          -77.0436,
          -77.0429,
          -77.005965,
          -77.012108,
          -77.005649,
          -77.005727,
          -77.005483,
          -77.006072,
          -77.005794,
          -77.012365,
          -77.012289,
          -77.005497,
          -77.012457,
          -77.00591,
          -77.045487,
          -77.045,
          -77.044789,
          -77.04478,
          -77.0446,
          -77.045128,
          -77.046449,
          -77.046567,
          -77.046913,
          -77.046564,
          -77.048852,
          -77.048852,
          -77.048911,
          -77.048728,
          -77.048947,
          -77.049882,
          -77.050264,
          -77.05152,
          -76.971923,
          -77.053485,
          -77.003666,
          -77.013814,
          -77.003135,
          -77.00356,
          -77.055599,
          -77.067529,
          -77.0682,
          -77.070334,
          -76.949709,
          -77.071652,
          -77.077271,
          -77.077078,
          -77.0023,
          -77.01597,
          -77.001828,
          -77.001949,
          -77.015289,
          -77.00213,
          -77.002161,
          -77.0024,
          -77.016258,
          -77.001955,
          -77.002239,
          -77.095782,
          -77.017701,
          -77.016106,
          -77.017445,
          -77.000349,
          -77.000698,
          -77.000736,
          -77.017898,
          -77.000648,
          -77.017658,
          -77.017247,
          -77.0009,
          -76.925315,
          -77.019347,
          -77.019027,
          -77.019814,
          -77.018677,
          -76.913563,
          -76.998347,
          -76.998405,
          -77.01994,
          -77.021741,
          -77.022191,
          -77.021392,
          -77.022155,
          -77.022175,
          -77.0222,
          -76.99602,
          -77.02324,
          -76.995193,
          -76.9953,
          -76.994749,
          -76.994897,
          -77.023086,
          -76.99515,
          -77.02277,
          -77.022684,
          -77.0251,
          -77.042581,
          -76.999376,
          -76.98185,
          -77.087128,
          -76.96012,
          -76.9784,
          -76.994637,
          -76.9834,
          -76.97093,
          -77.103662,
          -76.947974,
          -76.93723,
          -76.982872,
          -76.9599,
          -77.068626,
          -77.06269,
          -77.04062,
          -77.047637,
          -77.050046,
          -76.985854,
          -77.040787,
          -77.04368,
          -77.023795,
          -77.00493,
          -76.987823,
          -77.069956,
          -77.05753,
          -77.075135,
          -77.04564,
          -77.061977,
          -77.065115,
          -77.013917,
          -77.02227,
          -76.995916,
          -76.933099,
          -76.925907,
          -76.996806,
          -76.995234,
          -77.00495,
          -77.002098,
          -76.952103,
          -77.082426,
          -77.0135,
          -76.977688,
          -77.002721,
          -76.9941,
          -77.059142,
          -77.027855,
          -77.024181,
          -77.027333,
          -77.0222,
          -77.02791,
          -77.0235,
          -77.027976,
          -76.969184,
          -76.985238,
          -76.988039,
          -77.018221,
          -77.03023,
          -77.010551,
          -76.997194,
          -77.085646,
          -77.043358,
          -77.049383,
          -77.025762,
          -77.032427,
          -77.037413,
          -76.9955,
          -76.997226,
          -77.01033,
          -77.013821,
          -77.02155,
          -76.947287,
          -77.05557,
          -77.012443,
          -76.967845,
          -77.022241,
          -77.0388,
          -77.049437,
          -76.988355,
          -77.0078,
          -77.00223,
          -77.0037,
          -77.056887,
          -76.996023,
          -77.023054,
          -77.025236,
          -76.978627,
          -76.992786,
          -76.998273,
          -77.0444,
          -77.027869,
          -76.978519,
          -76.947446,
          -76.97557,
          -76.986813,
          -76.941877,
          -76.931862,
          -76.987211,
          -77.012808,
          -77.051084,
          -77.038252,
          -77.047318,
          -77.011616,
          -77.016006,
          -77.01536,
          -77.017669,
          -77.033354,
          -76.983683,
          -77.008798,
          -77.009888,
          -77.008911,
          -77.04657,
          -76.969509,
          -76.974828,
          -77.0315,
          -76.971015,
          -76.990037,
          -77.065149,
          -76.9862,
          -76.994468,
          -77.010815,
          -76.9607,
          -77.074323,
          -77.039802,
          -76.9859,
          -77.004746,
          -76.995876,
          -76.940981,
          -76.979634,
          -77.028694,
          -77.008133,
          -77.005174,
          -76.977187,
          -76.984512,
          -77.016855,
          -77.079382,
          -77.0325,
          -77.060173,
          -76.983221,
          -77.046587,
          -77.028242,
          -76.99707,
          -76.983144,
          -76.993589,
          -77.063896,
          -77.034451,
          -77.054155,
          -77.087171,
          -77.013769,
          -77.080217,
          -77.084636,
          -77.072755,
          -77.063586,
          -77.051833,
          -77.08059
         ],
         "marker": {
          "color": "#636efa",
          "size": [
           15,
           19,
           23,
           19,
           23,
           19,
           15,
           31,
           23,
           19,
           15,
           19,
           39,
           19,
           19,
           19,
           23,
           19,
           15,
           19,
           11,
           31,
           19,
           31,
           15,
           27,
           19,
           23,
           15,
           25,
           19,
           19,
           23,
           23,
           19,
           31,
           19,
           19,
           19,
           27,
           19,
           19,
           23,
           19,
           31,
           19,
           23,
           19,
           11,
           11,
           15,
           19,
           27,
           23,
           19,
           19,
           19,
           19,
           15,
           19,
           19,
           19,
           19,
           23,
           19,
           19,
           31,
           23,
           35,
           19,
           19,
           19,
           19,
           19,
           19,
           27,
           19,
           19,
           19,
           27,
           15,
           23,
           11,
           15,
           23,
           23,
           11,
           35,
           15,
           19,
           15,
           17,
           15,
           15,
           19,
           39,
           15,
           15,
           19,
           15,
           19,
           19,
           15,
           19,
           19,
           15,
           15,
           35,
           15,
           19,
           19,
           17,
           17,
           15,
           19,
           23,
           19,
           19,
           15,
           19,
           15,
           23,
           19,
           23,
           19,
           15,
           19,
           11,
           15,
           15,
           23,
           19,
           15,
           11,
           15,
           19,
           19,
           15,
           23,
           23,
           19,
           19,
           15,
           15,
           19,
           39,
           15,
           19,
           11,
           19,
           19,
           23,
           15,
           19,
           31,
           19,
           19,
           31,
           19,
           15,
           19,
           19,
           23,
           19,
           19,
           19,
           27,
           19,
           15,
           19,
           15,
           19,
           15,
           11,
           11,
           23,
           19,
           33,
           15,
           19,
           19,
           15,
           15,
           11,
           19,
           19,
           15,
           11,
           19,
           19,
           19,
           19,
           11,
           19,
           15,
           11,
           19,
           23,
           19,
           23,
           19,
           19,
           23,
           19,
           27,
           55,
           15,
           23,
           11,
           19,
           19,
           15,
           19,
           27,
           23,
           23,
           15,
           15,
           14,
           19,
           23,
           15,
           15,
           15,
           15,
           19,
           19,
           19,
           19,
           19,
           19,
           19,
           15,
           19,
           19,
           15,
           19,
           15,
           11,
           19,
           17,
           15,
           15,
           17,
           15,
           19,
           15,
           23,
           23,
           11,
           19,
           19,
           19,
           19,
           19,
           19,
           19,
           19,
           15,
           19,
           25,
           25,
           19,
           15,
           17,
           19,
           19,
           19,
           15,
           19,
           19,
           19,
           45,
           39,
           19,
           15,
           19,
           19,
           11,
           11,
           15,
           19,
           19,
           23,
           19,
           33,
           23,
           19,
           15,
           19,
           23,
           15,
           23,
           19,
           31,
           19,
           19,
           35,
           11,
           11,
           19,
           15,
           15,
           23,
           11,
           19,
           23,
           19,
           19,
           19,
           19,
           19,
           35,
           19,
           19,
           19,
           19,
           19,
           15,
           33,
           19,
           19,
           15,
           39,
           23,
           19,
           19,
           15,
           25,
           19,
           15,
           31,
           25,
           19,
           19,
           19,
           23,
           19
          ],
          "sizemode": "area",
          "sizeref": 2.2
         },
         "mode": "markers",
         "name": "Washington, DC",
         "showlegend": true,
         "subplot": "mapbox",
         "type": "scattermapbox"
        }
       ],
       "layout": {
        "legend": {
         "itemsizing": "constant",
         "title": {
          "text": "REGION_NAME"
         },
         "tracegroupgap": 0
        },
        "mapbox": {
         "center": {
          "lat": 38.904099550295854,
          "lon": -77.01851555621302
         },
         "domain": {
          "x": [
           0,
           1
          ],
          "y": [
           0,
           1
          ]
         },
         "style": "open-street-map",
         "zoom": 10
        },
        "margin": {
         "b": 0,
         "l": 0,
         "r": 0,
         "t": 0
        },
        "template": {
         "data": {
          "bar": [
           {
            "error_x": {
             "color": "#2a3f5f"
            },
            "error_y": {
             "color": "#2a3f5f"
            },
            "marker": {
             "line": {
              "color": "#E5ECF6",
              "width": 0.5
             },
             "pattern": {
              "fillmode": "overlay",
              "size": 10,
              "solidity": 0.2
             }
            },
            "type": "bar"
           }
          ],
          "barpolar": [
           {
            "marker": {
             "line": {
              "color": "#E5ECF6",
              "width": 0.5
             },
             "pattern": {
              "fillmode": "overlay",
              "size": 10,
              "solidity": 0.2
             }
            },
            "type": "barpolar"
           }
          ],
          "carpet": [
           {
            "aaxis": {
             "endlinecolor": "#2a3f5f",
             "gridcolor": "white",
             "linecolor": "white",
             "minorgridcolor": "white",
             "startlinecolor": "#2a3f5f"
            },
            "baxis": {
             "endlinecolor": "#2a3f5f",
             "gridcolor": "white",
             "linecolor": "white",
             "minorgridcolor": "white",
             "startlinecolor": "#2a3f5f"
            },
            "type": "carpet"
           }
          ],
          "choropleth": [
           {
            "colorbar": {
             "outlinewidth": 0,
             "ticks": ""
            },
            "type": "choropleth"
           }
          ],
          "contour": [
           {
            "colorbar": {
             "outlinewidth": 0,
             "ticks": ""
            },
            "colorscale": [
             [
              0,
              "#0d0887"
             ],
             [
              0.1111111111111111,
              "#46039f"
             ],
             [
              0.2222222222222222,
              "#7201a8"
             ],
             [
              0.3333333333333333,
              "#9c179e"
             ],
             [
              0.4444444444444444,
              "#bd3786"
             ],
             [
              0.5555555555555556,
              "#d8576b"
             ],
             [
              0.6666666666666666,
              "#ed7953"
             ],
             [
              0.7777777777777778,
              "#fb9f3a"
             ],
             [
              0.8888888888888888,
              "#fdca26"
             ],
             [
              1,
              "#f0f921"
             ]
            ],
            "type": "contour"
           }
          ],
          "contourcarpet": [
           {
            "colorbar": {
             "outlinewidth": 0,
             "ticks": ""
            },
            "type": "contourcarpet"
           }
          ],
          "heatmap": [
           {
            "colorbar": {
             "outlinewidth": 0,
             "ticks": ""
            },
            "colorscale": [
             [
              0,
              "#0d0887"
             ],
             [
              0.1111111111111111,
              "#46039f"
             ],
             [
              0.2222222222222222,
              "#7201a8"
             ],
             [
              0.3333333333333333,
              "#9c179e"
             ],
             [
              0.4444444444444444,
              "#bd3786"
             ],
             [
              0.5555555555555556,
              "#d8576b"
             ],
             [
              0.6666666666666666,
              "#ed7953"
             ],
             [
              0.7777777777777778,
              "#fb9f3a"
             ],
             [
              0.8888888888888888,
              "#fdca26"
             ],
             [
              1,
              "#f0f921"
             ]
            ],
            "type": "heatmap"
           }
          ],
          "heatmapgl": [
           {
            "colorbar": {
             "outlinewidth": 0,
             "ticks": ""
            },
            "colorscale": [
             [
              0,
              "#0d0887"
             ],
             [
              0.1111111111111111,
              "#46039f"
             ],
             [
              0.2222222222222222,
              "#7201a8"
             ],
             [
              0.3333333333333333,
              "#9c179e"
             ],
             [
              0.4444444444444444,
              "#bd3786"
             ],
             [
              0.5555555555555556,
              "#d8576b"
             ],
             [
              0.6666666666666666,
              "#ed7953"
             ],
             [
              0.7777777777777778,
              "#fb9f3a"
             ],
             [
              0.8888888888888888,
              "#fdca26"
             ],
             [
              1,
              "#f0f921"
             ]
            ],
            "type": "heatmapgl"
           }
          ],
          "histogram": [
           {
            "marker": {
             "pattern": {
              "fillmode": "overlay",
              "size": 10,
              "solidity": 0.2
             }
            },
            "type": "histogram"
           }
          ],
          "histogram2d": [
           {
            "colorbar": {
             "outlinewidth": 0,
             "ticks": ""
            },
            "colorscale": [
             [
              0,
              "#0d0887"
             ],
             [
              0.1111111111111111,
              "#46039f"
             ],
             [
              0.2222222222222222,
              "#7201a8"
             ],
             [
              0.3333333333333333,
              "#9c179e"
             ],
             [
              0.4444444444444444,
              "#bd3786"
             ],
             [
              0.5555555555555556,
              "#d8576b"
             ],
             [
              0.6666666666666666,
              "#ed7953"
             ],
             [
              0.7777777777777778,
              "#fb9f3a"
             ],
             [
              0.8888888888888888,
              "#fdca26"
             ],
             [
              1,
              "#f0f921"
             ]
            ],
            "type": "histogram2d"
           }
          ],
          "histogram2dcontour": [
           {
            "colorbar": {
             "outlinewidth": 0,
             "ticks": ""
            },
            "colorscale": [
             [
              0,
              "#0d0887"
             ],
             [
              0.1111111111111111,
              "#46039f"
             ],
             [
              0.2222222222222222,
              "#7201a8"
             ],
             [
              0.3333333333333333,
              "#9c179e"
             ],
             [
              0.4444444444444444,
              "#bd3786"
             ],
             [
              0.5555555555555556,
              "#d8576b"
             ],
             [
              0.6666666666666666,
              "#ed7953"
             ],
             [
              0.7777777777777778,
              "#fb9f3a"
             ],
             [
              0.8888888888888888,
              "#fdca26"
             ],
             [
              1,
              "#f0f921"
             ]
            ],
            "type": "histogram2dcontour"
           }
          ],
          "mesh3d": [
           {
            "colorbar": {
             "outlinewidth": 0,
             "ticks": ""
            },
            "type": "mesh3d"
           }
          ],
          "parcoords": [
           {
            "line": {
             "colorbar": {
              "outlinewidth": 0,
              "ticks": ""
             }
            },
            "type": "parcoords"
           }
          ],
          "pie": [
           {
            "automargin": true,
            "type": "pie"
           }
          ],
          "scatter": [
           {
            "marker": {
             "colorbar": {
              "outlinewidth": 0,
              "ticks": ""
             }
            },
            "type": "scatter"
           }
          ],
          "scatter3d": [
           {
            "line": {
             "colorbar": {
              "outlinewidth": 0,
              "ticks": ""
             }
            },
            "marker": {
             "colorbar": {
              "outlinewidth": 0,
              "ticks": ""
             }
            },
            "type": "scatter3d"
           }
          ],
          "scattercarpet": [
           {
            "marker": {
             "colorbar": {
              "outlinewidth": 0,
              "ticks": ""
             }
            },
            "type": "scattercarpet"
           }
          ],
          "scattergeo": [
           {
            "marker": {
             "colorbar": {
              "outlinewidth": 0,
              "ticks": ""
             }
            },
            "type": "scattergeo"
           }
          ],
          "scattergl": [
           {
            "marker": {
             "colorbar": {
              "outlinewidth": 0,
              "ticks": ""
             }
            },
            "type": "scattergl"
           }
          ],
          "scattermapbox": [
           {
            "marker": {
             "colorbar": {
              "outlinewidth": 0,
              "ticks": ""
             }
            },
            "type": "scattermapbox"
           }
          ],
          "scatterpolar": [
           {
            "marker": {
             "colorbar": {
              "outlinewidth": 0,
              "ticks": ""
             }
            },
            "type": "scatterpolar"
           }
          ],
          "scatterpolargl": [
           {
            "marker": {
             "colorbar": {
              "outlinewidth": 0,
              "ticks": ""
             }
            },
            "type": "scatterpolargl"
           }
          ],
          "scatterternary": [
           {
            "marker": {
             "colorbar": {
              "outlinewidth": 0,
              "ticks": ""
             }
            },
            "type": "scatterternary"
           }
          ],
          "surface": [
           {
            "colorbar": {
             "outlinewidth": 0,
             "ticks": ""
            },
            "colorscale": [
             [
              0,
              "#0d0887"
             ],
             [
              0.1111111111111111,
              "#46039f"
             ],
             [
              0.2222222222222222,
              "#7201a8"
             ],
             [
              0.3333333333333333,
              "#9c179e"
             ],
             [
              0.4444444444444444,
              "#bd3786"
             ],
             [
              0.5555555555555556,
              "#d8576b"
             ],
             [
              0.6666666666666666,
              "#ed7953"
             ],
             [
              0.7777777777777778,
              "#fb9f3a"
             ],
             [
              0.8888888888888888,
              "#fdca26"
             ],
             [
              1,
              "#f0f921"
             ]
            ],
            "type": "surface"
           }
          ],
          "table": [
           {
            "cells": {
             "fill": {
              "color": "#EBF0F8"
             },
             "line": {
              "color": "white"
             }
            },
            "header": {
             "fill": {
              "color": "#C8D4E3"
             },
             "line": {
              "color": "white"
             }
            },
            "type": "table"
           }
          ]
         },
         "layout": {
          "annotationdefaults": {
           "arrowcolor": "#2a3f5f",
           "arrowhead": 0,
           "arrowwidth": 1
          },
          "autotypenumbers": "strict",
          "coloraxis": {
           "colorbar": {
            "outlinewidth": 0,
            "ticks": ""
           }
          },
          "colorscale": {
           "diverging": [
            [
             0,
             "#8e0152"
            ],
            [
             0.1,
             "#c51b7d"
            ],
            [
             0.2,
             "#de77ae"
            ],
            [
             0.3,
             "#f1b6da"
            ],
            [
             0.4,
             "#fde0ef"
            ],
            [
             0.5,
             "#f7f7f7"
            ],
            [
             0.6,
             "#e6f5d0"
            ],
            [
             0.7,
             "#b8e186"
            ],
            [
             0.8,
             "#7fbc41"
            ],
            [
             0.9,
             "#4d9221"
            ],
            [
             1,
             "#276419"
            ]
           ],
           "sequential": [
            [
             0,
             "#0d0887"
            ],
            [
             0.1111111111111111,
             "#46039f"
            ],
            [
             0.2222222222222222,
             "#7201a8"
            ],
            [
             0.3333333333333333,
             "#9c179e"
            ],
            [
             0.4444444444444444,
             "#bd3786"
            ],
            [
             0.5555555555555556,
             "#d8576b"
            ],
            [
             0.6666666666666666,
             "#ed7953"
            ],
            [
             0.7777777777777778,
             "#fb9f3a"
            ],
            [
             0.8888888888888888,
             "#fdca26"
            ],
            [
             1,
             "#f0f921"
            ]
           ],
           "sequentialminus": [
            [
             0,
             "#0d0887"
            ],
            [
             0.1111111111111111,
             "#46039f"
            ],
            [
             0.2222222222222222,
             "#7201a8"
            ],
            [
             0.3333333333333333,
             "#9c179e"
            ],
            [
             0.4444444444444444,
             "#bd3786"
            ],
            [
             0.5555555555555556,
             "#d8576b"
            ],
            [
             0.6666666666666666,
             "#ed7953"
            ],
            [
             0.7777777777777778,
             "#fb9f3a"
            ],
            [
             0.8888888888888888,
             "#fdca26"
            ],
            [
             1,
             "#f0f921"
            ]
           ]
          },
          "colorway": [
           "#636efa",
           "#EF553B",
           "#00cc96",
           "#ab63fa",
           "#FFA15A",
           "#19d3f3",
           "#FF6692",
           "#B6E880",
           "#FF97FF",
           "#FECB52"
          ],
          "font": {
           "color": "#2a3f5f"
          },
          "geo": {
           "bgcolor": "white",
           "lakecolor": "white",
           "landcolor": "#E5ECF6",
           "showlakes": true,
           "showland": true,
           "subunitcolor": "white"
          },
          "hoverlabel": {
           "align": "left"
          },
          "hovermode": "closest",
          "mapbox": {
           "style": "light"
          },
          "paper_bgcolor": "white",
          "plot_bgcolor": "#E5ECF6",
          "polar": {
           "angularaxis": {
            "gridcolor": "white",
            "linecolor": "white",
            "ticks": ""
           },
           "bgcolor": "#E5ECF6",
           "radialaxis": {
            "gridcolor": "white",
            "linecolor": "white",
            "ticks": ""
           }
          },
          "scene": {
           "xaxis": {
            "backgroundcolor": "#E5ECF6",
            "gridcolor": "white",
            "gridwidth": 2,
            "linecolor": "white",
            "showbackground": true,
            "ticks": "",
            "zerolinecolor": "white"
           },
           "yaxis": {
            "backgroundcolor": "#E5ECF6",
            "gridcolor": "white",
            "gridwidth": 2,
            "linecolor": "white",
            "showbackground": true,
            "ticks": "",
            "zerolinecolor": "white"
           },
           "zaxis": {
            "backgroundcolor": "#E5ECF6",
            "gridcolor": "white",
            "gridwidth": 2,
            "linecolor": "white",
            "showbackground": true,
            "ticks": "",
            "zerolinecolor": "white"
           }
          },
          "shapedefaults": {
           "line": {
            "color": "#2a3f5f"
           }
          },
          "ternary": {
           "aaxis": {
            "gridcolor": "white",
            "linecolor": "white",
            "ticks": ""
           },
           "baxis": {
            "gridcolor": "white",
            "linecolor": "white",
            "ticks": ""
           },
           "bgcolor": "#E5ECF6",
           "caxis": {
            "gridcolor": "white",
            "linecolor": "white",
            "ticks": ""
           }
          },
          "title": {
           "x": 0.05
          },
          "xaxis": {
           "automargin": true,
           "gridcolor": "white",
           "linecolor": "white",
           "ticks": "",
           "title": {
            "standoff": 15
           },
           "zerolinecolor": "white",
           "zerolinewidth": 2
          },
          "yaxis": {
           "automargin": true,
           "gridcolor": "white",
           "linecolor": "white",
           "ticks": "",
           "title": {
            "standoff": 15
           },
           "zerolinecolor": "white",
           "zerolinewidth": 2
          }
         }
        }
       }
      }
     },
     "metadata": {},
     "output_type": "display_data"
    }
   ],
   "source": [
    "fig = px.scatter_mapbox(df_w_viz, lat='LATITUDE', lon='LONGITUDE', hover_name=df_w_viz.index.values, hover_data=['CAPACITY', 'NUM_EBIKES_AVAILABLE'],\n",
    "                        color='REGION_NAME', size='CAPACITY', color_continuous_scale=px.colors.cyclical.IceFire, size_max=5, zoom=10)\n",
    "fig.update_layout(mapbox_style=\"open-street-map\")\n",
    "fig.update_layout(margin={\"r\":0,\"t\":0,\"l\":0,\"b\":0})\n",
    "fig.show()"
   ]
  }
 ],
 "metadata": {
  "interpreter": {
   "hash": "966ce02f2f5782dce9128b1856609884b06291323d865d690bcce1b9d0e7051d"
  },
  "kernelspec": {
   "display_name": "Python 3.9.10 ('base')",
   "language": "python",
   "name": "python3"
  },
  "language_info": {
   "codemirror_mode": {
    "name": "ipython",
    "version": 3
   },
   "file_extension": ".py",
   "mimetype": "text/x-python",
   "name": "python",
   "nbconvert_exporter": "python",
   "pygments_lexer": "ipython3",
   "version": "3.9.10"
  },
  "orig_nbformat": 4
 },
 "nbformat": 4,
 "nbformat_minor": 2
}
