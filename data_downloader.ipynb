{
 "cells": [
  {
   "cell_type": "markdown",
   "id": "228f340c",
   "metadata": {},
   "source": [
    "## Goal: Extracting data from AWS S3 bucket\n"
   ]
  },
  {
   "cell_type": "markdown",
   "id": "c3c5f078",
   "metadata": {},
   "source": [
    "#### - import necessary libraraies"
   ]
  },
  {
   "cell_type": "code",
   "execution_count": 84,
   "id": "14b3592b-1b35-4593-acfb-f31bbac0c4de",
   "metadata": {},
   "outputs": [],
   "source": [
    "from boto3.session import Session"
   ]
  },
  {
   "cell_type": "code",
   "execution_count": 79,
   "id": "140be391-d70b-49ab-a60c-28016a4237a8",
   "metadata": {},
   "outputs": [],
   "source": [
    "import glob\n",
    "import numpy as np"
   ]
  },
  {
   "cell_type": "markdown",
   "id": "ecd30836",
   "metadata": {},
   "source": [
    "#### - generate session with AWS access and secrete keys"
   ]
  },
  {
   "cell_type": "code",
   "execution_count": 85,
   "id": "68dafbbc-de2f-4c4c-8b96-eee5f199dc29",
   "metadata": {},
   "outputs": [],
   "source": [
    "ACCESS_KEY_ID = 'XXXXXXXXXXX'\n",
    "SECRET_ACCESS_KEY = 'XXXXXXXXXX'\n",
    "\n",
    "session = Session(aws_access_key_id=ACCESS_KEY_ID, aws_secret_access_key=SECRET_ACCESS_KEY)"
   ]
  },
  {
   "cell_type": "markdown",
   "id": "90af459d",
   "metadata": {},
   "source": [
    "#### - instantiate s3 session"
   ]
  },
  {
   "cell_type": "code",
   "execution_count": 86,
   "id": "7af32e3a-0142-4656-b086-6b43e4572c4d",
   "metadata": {},
   "outputs": [],
   "source": [
    "s3 = session.resource('s3')"
   ]
  },
  {
   "cell_type": "code",
   "execution_count": 87,
   "id": "dc81c5f2-8676-4f2d-9b45-101254b3b557",
   "metadata": {},
   "outputs": [],
   "source": [
    "# bucket name from the data source: https://s3.amazonaws.com/capitalbikeshare-data/index.html\n",
    "bucket = 'capitalbikeshare-data' "
   ]
  },
  {
   "cell_type": "code",
   "execution_count": 88,
   "id": "282fbb44-eea1-4a9e-97c8-6ad7d399fc8a",
   "metadata": {},
   "outputs": [],
   "source": [
    "# load S3 bucket locally\n",
    "my_bucket = s3.Bucket(bucket)"
   ]
  },
  {
   "cell_type": "markdown",
   "id": "4a2ca610",
   "metadata": {},
   "source": [
    "#### - downloading all available files from the bucket locally"
   ]
  },
  {
   "cell_type": "code",
   "execution_count": null,
   "id": "1c40cb70-93e8-460c-92e7-09445e98d5ff",
   "metadata": {},
   "outputs": [],
   "source": [
    "files = []\n",
    "for s3_files in my_bucket.objects.all():\n",
    "    files.append(s3_files.key)\n",
    "    for i in range(len(files)):\n",
    "        my_bucket.download_file(files[i], './bucket/'+files[i])\n",
    "    #print(s3_files.key)"
   ]
  },
  {
   "cell_type": "markdown",
   "id": "80f68753",
   "metadata": {},
   "source": [
    "#### - update local directory with updated information (for future)"
   ]
  },
  {
   "cell_type": "code",
   "execution_count": 104,
   "id": "dd7dcb10-cf4b-4c59-b8a9-61fe5779cf49",
   "metadata": {},
   "outputs": [],
   "source": [
    "# create a list from previous downloads\n",
    "initial_list = glob.glob('./bucket/*.zip')\n",
    "initial_list = [fil.split('/')[-1] for fil in initial_list]"
   ]
  },
  {
   "cell_type": "code",
   "execution_count": 109,
   "id": "4361cc7d-265c-409a-9e72-cc7b627f86b1",
   "metadata": {},
   "outputs": [],
   "source": [
    "# download new data that are not available in the initial list\n",
    "for i in range(len(files)):\n",
    "    if files[i] not in initial_list:\n",
    "        my_bucket.download_file(files[i], './bucket/'+files[i])\n",
    "    #print(s3_files.key)"
   ]
  },
  {
   "cell_type": "code",
   "execution_count": null,
   "id": "570ac552-39b7-4a43-8d82-703a1f2f08b6",
   "metadata": {},
   "outputs": [],
   "source": []
  }
 ],
 "metadata": {
  "kernelspec": {
   "display_name": "Python 3 (ipykernel)",
   "language": "python",
   "name": "python3"
  },
  "language_info": {
   "codemirror_mode": {
    "name": "ipython",
    "version": 3
   },
   "file_extension": ".py",
   "mimetype": "text/x-python",
   "name": "python",
   "nbconvert_exporter": "python",
   "pygments_lexer": "ipython3",
   "version": "3.9.10"
  }
 },
 "nbformat": 4,
 "nbformat_minor": 5
}
